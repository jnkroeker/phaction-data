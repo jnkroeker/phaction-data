{
 "cells": [
  {
   "cell_type": "code",
   "execution_count": 41,
   "id": "590f3e4a",
   "metadata": {},
   "outputs": [],
   "source": [
    "import numpy as np\n",
    "import pandas as pd\n",
    "import glob\n",
    "from datetime import datetime\n",
    "import matplotlib.pyplot as plt\n",
    "#Seaborn is a data visualization library.\n",
    "#import seaborn as sns"
   ]
  },
  {
   "cell_type": "code",
   "execution_count": 42,
   "id": "5d4283bc",
   "metadata": {},
   "outputs": [],
   "source": [
    "strava = pd.read_json('../observations/strava/activities.json')\n",
    "sugarwod = pd.read_csv('../observations/sugarwod/workouts.csv')"
   ]
  },
  {
   "cell_type": "markdown",
   "id": "ff3b4fbb",
   "metadata": {},
   "source": [
    "Create new Strava Dataframe columns 'date' and 'start_time' from 'start_date_local.'<br/>\n",
    "This makes it easier to merge SugarWOD and Strava data on a common column.<br/>\n",
    "We can drop the 'start_date_local' column afterward, we won't need it anymore."
   ]
  },
  {
   "cell_type": "code",
   "execution_count": 43,
   "id": "da65fe00",
   "metadata": {},
   "outputs": [],
   "source": [
    "strava['start_date_local'] = pd.to_datetime(strava['start_date_local'])\n",
    "strava['start_time'] = strava['start_date_local'].dt.strftime('%H:%M:%S')\n",
    "strava['date'] = strava['start_date_local'].dt.strftime('%Y-%m-%d')\n",
    "strava = strava.drop(columns=['start_date_local'])"
   ]
  },
  {
   "cell_type": "code",
   "execution_count": 44,
   "id": "7e08c2a1",
   "metadata": {},
   "outputs": [],
   "source": [
    "# Convert sugarwod data format to datetime format\n",
    "sugarwod['date'] = pd.to_datetime(sugarwod['date'])\n",
    "sugarwod['date'] = sugarwod['date'].dt.strftime('%Y-%m-%d')"
   ]
  },
  {
   "cell_type": "code",
   "execution_count": 45,
   "id": "89a82e5e",
   "metadata": {},
   "outputs": [],
   "source": [
    "# Test: Merge Strava and SugarWOD files together by date field using slimmed down dataframes for testing\n",
    "strav_test=strava[['date', 'average_heartrate', 'max_heartrate']].copy()\n",
    "sugar_test=sugarwod[['date', 'score_type', 'pr']].copy()"
   ]
  },
  {
   "cell_type": "code",
   "execution_count": 46,
   "id": "ab8dab41",
   "metadata": {},
   "outputs": [],
   "source": [
    "test = pd.concat([strav_test, sugar_test])"
   ]
  },
  {
   "cell_type": "code",
   "execution_count": 47,
   "id": "d4bf1284",
   "metadata": {},
   "outputs": [
    {
     "data": {
      "text/html": [
       "<div>\n",
       "<style scoped>\n",
       "    .dataframe tbody tr th:only-of-type {\n",
       "        vertical-align: middle;\n",
       "    }\n",
       "\n",
       "    .dataframe tbody tr th {\n",
       "        vertical-align: top;\n",
       "    }\n",
       "\n",
       "    .dataframe thead th {\n",
       "        text-align: right;\n",
       "    }\n",
       "</style>\n",
       "<table border=\"1\" class=\"dataframe\">\n",
       "  <thead>\n",
       "    <tr style=\"text-align: right;\">\n",
       "      <th></th>\n",
       "      <th>date</th>\n",
       "      <th>average_heartrate</th>\n",
       "      <th>max_heartrate</th>\n",
       "      <th>score_type</th>\n",
       "      <th>pr</th>\n",
       "    </tr>\n",
       "  </thead>\n",
       "  <tbody>\n",
       "    <tr>\n",
       "      <th>57</th>\n",
       "      <td>2022-07-20</td>\n",
       "      <td>158.1</td>\n",
       "      <td>171.0</td>\n",
       "      <td>NaN</td>\n",
       "      <td>NaN</td>\n",
       "    </tr>\n",
       "    <tr>\n",
       "      <th>60</th>\n",
       "      <td>2022-07-20</td>\n",
       "      <td>NaN</td>\n",
       "      <td>NaN</td>\n",
       "      <td>Time</td>\n",
       "      <td>PR</td>\n",
       "    </tr>\n",
       "  </tbody>\n",
       "</table>\n",
       "</div>"
      ],
      "text/plain": [
       "          date  average_heartrate  max_heartrate score_type   pr\n",
       "57  2022-07-20              158.1          171.0        NaN  NaN\n",
       "60  2022-07-20                NaN            NaN       Time   PR"
      ]
     },
     "execution_count": 47,
     "metadata": {},
     "output_type": "execute_result"
    }
   ],
   "source": [
    "# verify there are some rows where there is data for all fields\n",
    "test.loc[test['date'] == '2022-07-20']"
   ]
  },
  {
   "cell_type": "code",
   "execution_count": 48,
   "id": "e984271f",
   "metadata": {},
   "outputs": [
    {
     "data": {
      "text/html": [
       "<div>\n",
       "<style scoped>\n",
       "    .dataframe tbody tr th:only-of-type {\n",
       "        vertical-align: middle;\n",
       "    }\n",
       "\n",
       "    .dataframe tbody tr th {\n",
       "        vertical-align: top;\n",
       "    }\n",
       "\n",
       "    .dataframe thead th {\n",
       "        text-align: right;\n",
       "    }\n",
       "</style>\n",
       "<table border=\"1\" class=\"dataframe\">\n",
       "  <thead>\n",
       "    <tr style=\"text-align: right;\">\n",
       "      <th></th>\n",
       "      <th>date</th>\n",
       "      <th>average_heartrate</th>\n",
       "      <th>max_heartrate</th>\n",
       "      <th>score_type</th>\n",
       "      <th>pr</th>\n",
       "    </tr>\n",
       "  </thead>\n",
       "  <tbody>\n",
       "    <tr>\n",
       "      <th>154</th>\n",
       "      <td>2022-07-20</td>\n",
       "      <td>158.1</td>\n",
       "      <td>171.0</td>\n",
       "      <td>Time</td>\n",
       "      <td>PR</td>\n",
       "    </tr>\n",
       "  </tbody>\n",
       "</table>\n",
       "</div>"
      ],
      "text/plain": [
       "           date  average_heartrate  max_heartrate score_type  pr\n",
       "154  2022-07-20              158.1          171.0       Time  PR"
      ]
     },
     "execution_count": 48,
     "metadata": {},
     "output_type": "execute_result"
    }
   ],
   "source": [
    "# create a new DataFrame by combining rows with same date values\n",
    "# as_index \n",
    "df_new = test.groupby(test['date'], as_index=False).aggregate('first')\n",
    "\n",
    "# verify the rows are merged appropriately\n",
    "df_new.loc[df_new['date'] == '2022-07-20']"
   ]
  },
  {
   "cell_type": "markdown",
   "id": "aa58b2f7",
   "metadata": {},
   "source": [
    "Merge all Wodify files together into one Dataframe"
   ]
  },
  {
   "cell_type": "code",
   "execution_count": 49,
   "id": "5b8385ec",
   "metadata": {},
   "outputs": [],
   "source": [
    "wodify_lifts = pd.read_excel('../observations/wodify/PerformanceResults.xlsx')\n",
    "wodify_metcons = pd.read_excel('../observations/wodify/PerformanceResultsMetcons.xlsx')\n",
    "wodify_prs = pd.read_excel('../observations/wodify/PerformanceResultsPRs.xlsx')"
   ]
  },
  {
   "cell_type": "code",
   "execution_count": 50,
   "id": "678294eb",
   "metadata": {},
   "outputs": [],
   "source": [
    "wodify_lifts['date'] = wodify_lifts['Date'].dt.strftime('%Y-%m-%d')\n",
    "wodify_lifts = wodify_lifts.drop(columns=['Date'])\n",
    "wodify_metcons['date'] = wodify_metcons['Date'].dt.strftime('%Y-%m-%d')\n",
    "wodify_metcons = wodify_metcons.drop(columns=['Date'])\n",
    "wodify_prs['Peformance Result Date'] = pd.to_datetime(wodify_prs['Performance Result Date'])\n",
    "wodify_prs['date'] = wodify_prs['Performance Result Date'].dt.strftime('%Y-%m-%d')\n",
    "wodify_prs = wodify_prs.drop(columns=['Performance Result Date'])"
   ]
  },
  {
   "cell_type": "markdown",
   "id": "18c4b527",
   "metadata": {},
   "source": [
    "### TODO: how to merge Dataframes with the same Column names and preserve the data in each?"
   ]
  },
  {
   "cell_type": "code",
   "execution_count": 51,
   "id": "5acb8dd8",
   "metadata": {},
   "outputs": [
    {
     "data": {
      "text/html": [
       "<div>\n",
       "<style scoped>\n",
       "    .dataframe tbody tr th:only-of-type {\n",
       "        vertical-align: middle;\n",
       "    }\n",
       "\n",
       "    .dataframe tbody tr th {\n",
       "        vertical-align: top;\n",
       "    }\n",
       "\n",
       "    .dataframe thead th {\n",
       "        text-align: right;\n",
       "    }\n",
       "</style>\n",
       "<table border=\"1\" class=\"dataframe\">\n",
       "  <thead>\n",
       "    <tr style=\"text-align: right;\">\n",
       "      <th></th>\n",
       "      <th>date</th>\n",
       "      <th>Component Name</th>\n",
       "      <th>Result</th>\n",
       "    </tr>\n",
       "  </thead>\n",
       "  <tbody>\n",
       "    <tr>\n",
       "      <th>0</th>\n",
       "      <td>2023-01-10</td>\n",
       "      <td>Deadlift</td>\n",
       "      <td>1 x 5 @ 275 lbs</td>\n",
       "    </tr>\n",
       "  </tbody>\n",
       "</table>\n",
       "</div>"
      ],
      "text/plain": [
       "         date Component Name           Result\n",
       "0  2023-01-10       Deadlift  1 x 5 @ 275 lbs"
      ]
     },
     "execution_count": 51,
     "metadata": {},
     "output_type": "execute_result"
    }
   ],
   "source": [
    "# Test: Create slimmed down Dataframes for testing purposes\n",
    "\n",
    "lift_test = wodify_lifts[['date', 'Component', 'Affiliate Name']].copy()\n",
    "metcon_test = wodify_metcons[['date', 'Component', 'Affiliate Name']].copy()\n",
    "prs_test = wodify_prs[['date', 'Component Name', 'Result']].copy()\n",
    "wodify_test = pd.concat([lift_test, metcon_test, prs_test])\n",
    "prs_test"
   ]
  },
  {
   "cell_type": "code",
   "execution_count": 52,
   "id": "f22e738b",
   "metadata": {},
   "outputs": [
    {
     "data": {
      "text/html": [
       "<div>\n",
       "<style scoped>\n",
       "    .dataframe tbody tr th:only-of-type {\n",
       "        vertical-align: middle;\n",
       "    }\n",
       "\n",
       "    .dataframe tbody tr th {\n",
       "        vertical-align: top;\n",
       "    }\n",
       "\n",
       "    .dataframe thead th {\n",
       "        text-align: right;\n",
       "    }\n",
       "</style>\n",
       "<table border=\"1\" class=\"dataframe\">\n",
       "  <thead>\n",
       "    <tr style=\"text-align: right;\">\n",
       "      <th></th>\n",
       "      <th>date</th>\n",
       "      <th>Component</th>\n",
       "      <th>Affiliate Name</th>\n",
       "      <th>Component Name</th>\n",
       "      <th>Result</th>\n",
       "    </tr>\n",
       "  </thead>\n",
       "  <tbody>\n",
       "    <tr>\n",
       "      <th>4</th>\n",
       "      <td>2023-01-10</td>\n",
       "      <td>Deadlift</td>\n",
       "      <td>CrossFit Cove</td>\n",
       "      <td>NaN</td>\n",
       "      <td>NaN</td>\n",
       "    </tr>\n",
       "    <tr>\n",
       "      <th>14</th>\n",
       "      <td>2023-01-10</td>\n",
       "      <td>Marston</td>\n",
       "      <td>CrossFit Cove</td>\n",
       "      <td>NaN</td>\n",
       "      <td>NaN</td>\n",
       "    </tr>\n",
       "    <tr>\n",
       "      <th>0</th>\n",
       "      <td>2023-01-10</td>\n",
       "      <td>NaN</td>\n",
       "      <td>NaN</td>\n",
       "      <td>Deadlift</td>\n",
       "      <td>1 x 5 @ 275 lbs</td>\n",
       "    </tr>\n",
       "  </tbody>\n",
       "</table>\n",
       "</div>"
      ],
      "text/plain": [
       "          date Component Affiliate Name Component Name           Result\n",
       "4   2023-01-10  Deadlift  CrossFit Cove            NaN              NaN\n",
       "14  2023-01-10   Marston  CrossFit Cove            NaN              NaN\n",
       "0   2023-01-10       NaN            NaN       Deadlift  1 x 5 @ 275 lbs"
      ]
     },
     "execution_count": 52,
     "metadata": {},
     "output_type": "execute_result"
    }
   ],
   "source": [
    "# verify there are some rows where there is data for all fields\n",
    "#\n",
    "# Use date '2023-01-10' because it is the only date for which \n",
    "# there is an entry in all three Dataframes\n",
    "\n",
    "wodify_test.loc[wodify_test['date'] == '2023-01-10']"
   ]
  },
  {
   "cell_type": "markdown",
   "id": "1ed863f5",
   "metadata": {},
   "source": [
    "#### Notice how merging dataframes with overlapping columns results in data loss"
   ]
  },
  {
   "cell_type": "code",
   "execution_count": 53,
   "id": "f9d8f2ba",
   "metadata": {},
   "outputs": [
    {
     "data": {
      "text/html": [
       "<div>\n",
       "<style scoped>\n",
       "    .dataframe tbody tr th:only-of-type {\n",
       "        vertical-align: middle;\n",
       "    }\n",
       "\n",
       "    .dataframe tbody tr th {\n",
       "        vertical-align: top;\n",
       "    }\n",
       "\n",
       "    .dataframe thead th {\n",
       "        text-align: right;\n",
       "    }\n",
       "</style>\n",
       "<table border=\"1\" class=\"dataframe\">\n",
       "  <thead>\n",
       "    <tr style=\"text-align: right;\">\n",
       "      <th></th>\n",
       "      <th>date</th>\n",
       "      <th>Component</th>\n",
       "      <th>Affiliate Name</th>\n",
       "      <th>Component Name</th>\n",
       "      <th>Result</th>\n",
       "    </tr>\n",
       "  </thead>\n",
       "  <tbody>\n",
       "    <tr>\n",
       "      <th>15</th>\n",
       "      <td>2023-01-10</td>\n",
       "      <td>Deadlift</td>\n",
       "      <td>CrossFit Cove</td>\n",
       "      <td>Deadlift</td>\n",
       "      <td>1 x 5 @ 275 lbs</td>\n",
       "    </tr>\n",
       "  </tbody>\n",
       "</table>\n",
       "</div>"
      ],
      "text/plain": [
       "          date Component Affiliate Name Component Name           Result\n",
       "15  2023-01-10  Deadlift  CrossFit Cove       Deadlift  1 x 5 @ 275 lbs"
      ]
     },
     "execution_count": 53,
     "metadata": {},
     "output_type": "execute_result"
    }
   ],
   "source": [
    "df_wfy = wodify_test.groupby(wodify_test['date'], as_index=False).aggregate('first')\n",
    "df_wfy.loc[df_wfy2['date'] == '2023-01-10']"
   ]
  },
  {
   "cell_type": "markdown",
   "id": "7b5dbf72",
   "metadata": {},
   "source": [
    "#### Where as if I selected non-overlapping columns..."
   ]
  },
  {
   "cell_type": "code",
   "execution_count": 54,
   "id": "dbb2f197",
   "metadata": {},
   "outputs": [],
   "source": [
    "lift_test2 = wodify_lifts[['date', 'From Weightlifting Total']].copy()\n",
    "metcon_test2 = wodify_metcons[['date', 'Is Rx']].copy()\n",
    "prs_test2 = wodify_prs[['date', 'Rep Scheme']].copy()\n",
    "wodify_test2 = pd.concat([lift_test2, metcon_test2, prs_test2])"
   ]
  },
  {
   "cell_type": "code",
   "execution_count": 55,
   "id": "98d5c074",
   "metadata": {},
   "outputs": [
    {
     "data": {
      "text/html": [
       "<div>\n",
       "<style scoped>\n",
       "    .dataframe tbody tr th:only-of-type {\n",
       "        vertical-align: middle;\n",
       "    }\n",
       "\n",
       "    .dataframe tbody tr th {\n",
       "        vertical-align: top;\n",
       "    }\n",
       "\n",
       "    .dataframe thead th {\n",
       "        text-align: right;\n",
       "    }\n",
       "</style>\n",
       "<table border=\"1\" class=\"dataframe\">\n",
       "  <thead>\n",
       "    <tr style=\"text-align: right;\">\n",
       "      <th></th>\n",
       "      <th>date</th>\n",
       "      <th>From Weightlifting Total</th>\n",
       "      <th>Is Rx</th>\n",
       "      <th>Rep Scheme</th>\n",
       "    </tr>\n",
       "  </thead>\n",
       "  <tbody>\n",
       "    <tr>\n",
       "      <th>4</th>\n",
       "      <td>2023-01-10</td>\n",
       "      <td>False</td>\n",
       "      <td>NaN</td>\n",
       "      <td>NaN</td>\n",
       "    </tr>\n",
       "    <tr>\n",
       "      <th>14</th>\n",
       "      <td>2023-01-10</td>\n",
       "      <td>NaN</td>\n",
       "      <td>True</td>\n",
       "      <td>NaN</td>\n",
       "    </tr>\n",
       "    <tr>\n",
       "      <th>0</th>\n",
       "      <td>2023-01-10</td>\n",
       "      <td>NaN</td>\n",
       "      <td>NaN</td>\n",
       "      <td>Build to a heavy set of 5</td>\n",
       "    </tr>\n",
       "  </tbody>\n",
       "</table>\n",
       "</div>"
      ],
      "text/plain": [
       "          date From Weightlifting Total Is Rx                 Rep Scheme\n",
       "4   2023-01-10                    False   NaN                        NaN\n",
       "14  2023-01-10                      NaN  True                        NaN\n",
       "0   2023-01-10                      NaN   NaN  Build to a heavy set of 5"
      ]
     },
     "execution_count": 55,
     "metadata": {},
     "output_type": "execute_result"
    }
   ],
   "source": [
    "wodify_test2.loc[wodify_test2['date'] == '2023-01-10']"
   ]
  },
  {
   "cell_type": "code",
   "execution_count": 56,
   "id": "e9135cc7",
   "metadata": {},
   "outputs": [
    {
     "data": {
      "text/html": [
       "<div>\n",
       "<style scoped>\n",
       "    .dataframe tbody tr th:only-of-type {\n",
       "        vertical-align: middle;\n",
       "    }\n",
       "\n",
       "    .dataframe tbody tr th {\n",
       "        vertical-align: top;\n",
       "    }\n",
       "\n",
       "    .dataframe thead th {\n",
       "        text-align: right;\n",
       "    }\n",
       "</style>\n",
       "<table border=\"1\" class=\"dataframe\">\n",
       "  <thead>\n",
       "    <tr style=\"text-align: right;\">\n",
       "      <th></th>\n",
       "      <th>date</th>\n",
       "      <th>From Weightlifting Total</th>\n",
       "      <th>Is Rx</th>\n",
       "      <th>Rep Scheme</th>\n",
       "    </tr>\n",
       "  </thead>\n",
       "  <tbody>\n",
       "    <tr>\n",
       "      <th>15</th>\n",
       "      <td>2023-01-10</td>\n",
       "      <td>False</td>\n",
       "      <td>True</td>\n",
       "      <td>Build to a heavy set of 5</td>\n",
       "    </tr>\n",
       "  </tbody>\n",
       "</table>\n",
       "</div>"
      ],
      "text/plain": [
       "          date From Weightlifting Total  Is Rx                 Rep Scheme\n",
       "15  2023-01-10                    False   True  Build to a heavy set of 5"
      ]
     },
     "execution_count": 56,
     "metadata": {},
     "output_type": "execute_result"
    }
   ],
   "source": [
    "df_wfy2 = wodify_test2.groupby(wodify_test2['date'], as_index=False).aggregate('first')\n",
    "df_wfy2.loc[df_wfy2['date'] == '2023-01-10']"
   ]
  },
  {
   "cell_type": "markdown",
   "id": "1763242d",
   "metadata": {},
   "source": [
    "### First attempt to rectify: rename overlapping columns to specify their origin"
   ]
  },
  {
   "cell_type": "code",
   "execution_count": 57,
   "id": "852dd87b",
   "metadata": {},
   "outputs": [],
   "source": [
    "lift_test['lift_component'] = lift_test['Component']\n",
    "lift_test = lift_test.drop(columns=['Component'])\n",
    "\n",
    "metcon_test['metcon_component'] = metcon_test['Component']\n",
    "metcon_test = metcon_test.drop(columns=['Component'])\n",
    "\n",
    "prs_test['pr_component'] = prs_test['Component Name']\n",
    "prs_test = prs_test.drop(columns=['Component Name'])\n",
    "\n",
    "wodify_test3 = pd.concat([lift_test, metcon_test, prs_test])"
   ]
  },
  {
   "cell_type": "code",
   "execution_count": 58,
   "id": "226fd2e4",
   "metadata": {},
   "outputs": [
    {
     "data": {
      "text/html": [
       "<div>\n",
       "<style scoped>\n",
       "    .dataframe tbody tr th:only-of-type {\n",
       "        vertical-align: middle;\n",
       "    }\n",
       "\n",
       "    .dataframe tbody tr th {\n",
       "        vertical-align: top;\n",
       "    }\n",
       "\n",
       "    .dataframe thead th {\n",
       "        text-align: right;\n",
       "    }\n",
       "</style>\n",
       "<table border=\"1\" class=\"dataframe\">\n",
       "  <thead>\n",
       "    <tr style=\"text-align: right;\">\n",
       "      <th></th>\n",
       "      <th>date</th>\n",
       "      <th>Affiliate Name</th>\n",
       "      <th>lift_component</th>\n",
       "      <th>metcon_component</th>\n",
       "      <th>Result</th>\n",
       "      <th>pr_component</th>\n",
       "    </tr>\n",
       "  </thead>\n",
       "  <tbody>\n",
       "    <tr>\n",
       "      <th>4</th>\n",
       "      <td>2023-01-10</td>\n",
       "      <td>CrossFit Cove</td>\n",
       "      <td>Deadlift</td>\n",
       "      <td>NaN</td>\n",
       "      <td>NaN</td>\n",
       "      <td>NaN</td>\n",
       "    </tr>\n",
       "    <tr>\n",
       "      <th>14</th>\n",
       "      <td>2023-01-10</td>\n",
       "      <td>CrossFit Cove</td>\n",
       "      <td>NaN</td>\n",
       "      <td>Marston</td>\n",
       "      <td>NaN</td>\n",
       "      <td>NaN</td>\n",
       "    </tr>\n",
       "    <tr>\n",
       "      <th>0</th>\n",
       "      <td>2023-01-10</td>\n",
       "      <td>NaN</td>\n",
       "      <td>NaN</td>\n",
       "      <td>NaN</td>\n",
       "      <td>1 x 5 @ 275 lbs</td>\n",
       "      <td>Deadlift</td>\n",
       "    </tr>\n",
       "  </tbody>\n",
       "</table>\n",
       "</div>"
      ],
      "text/plain": [
       "          date Affiliate Name lift_component metcon_component  \\\n",
       "4   2023-01-10  CrossFit Cove       Deadlift              NaN   \n",
       "14  2023-01-10  CrossFit Cove            NaN          Marston   \n",
       "0   2023-01-10            NaN            NaN              NaN   \n",
       "\n",
       "             Result pr_component  \n",
       "4               NaN          NaN  \n",
       "14              NaN          NaN  \n",
       "0   1 x 5 @ 275 lbs     Deadlift  "
      ]
     },
     "execution_count": 58,
     "metadata": {},
     "output_type": "execute_result"
    }
   ],
   "source": [
    "wodify_test3.loc[wodify_test3['date'] == '2023-01-10']"
   ]
  },
  {
   "cell_type": "code",
   "execution_count": 59,
   "id": "54d3b7be",
   "metadata": {},
   "outputs": [
    {
     "data": {
      "text/html": [
       "<div>\n",
       "<style scoped>\n",
       "    .dataframe tbody tr th:only-of-type {\n",
       "        vertical-align: middle;\n",
       "    }\n",
       "\n",
       "    .dataframe tbody tr th {\n",
       "        vertical-align: top;\n",
       "    }\n",
       "\n",
       "    .dataframe thead th {\n",
       "        text-align: right;\n",
       "    }\n",
       "</style>\n",
       "<table border=\"1\" class=\"dataframe\">\n",
       "  <thead>\n",
       "    <tr style=\"text-align: right;\">\n",
       "      <th></th>\n",
       "      <th>date</th>\n",
       "      <th>Affiliate Name</th>\n",
       "      <th>lift_component</th>\n",
       "      <th>metcon_component</th>\n",
       "      <th>Result</th>\n",
       "      <th>pr_component</th>\n",
       "    </tr>\n",
       "  </thead>\n",
       "  <tbody>\n",
       "    <tr>\n",
       "      <th>15</th>\n",
       "      <td>2023-01-10</td>\n",
       "      <td>CrossFit Cove</td>\n",
       "      <td>Deadlift</td>\n",
       "      <td>Marston</td>\n",
       "      <td>1 x 5 @ 275 lbs</td>\n",
       "      <td>Deadlift</td>\n",
       "    </tr>\n",
       "  </tbody>\n",
       "</table>\n",
       "</div>"
      ],
      "text/plain": [
       "          date Affiliate Name lift_component metcon_component  \\\n",
       "15  2023-01-10  CrossFit Cove       Deadlift          Marston   \n",
       "\n",
       "             Result pr_component  \n",
       "15  1 x 5 @ 275 lbs     Deadlift  "
      ]
     },
     "execution_count": 59,
     "metadata": {},
     "output_type": "execute_result"
    }
   ],
   "source": [
    "df_wfy3 = wodify_test3.groupby(wodify_test3['date'], as_index=False).aggregate('first')\n",
    "df_wfy3.loc[df_wfy3['date'] == '2023-01-10']"
   ]
  },
  {
   "cell_type": "code",
   "execution_count": null,
   "id": "0338a210",
   "metadata": {},
   "outputs": [],
   "source": []
  }
 ],
 "metadata": {
  "kernelspec": {
   "display_name": "Python 3 (ipykernel)",
   "language": "python",
   "name": "python3"
  },
  "language_info": {
   "codemirror_mode": {
    "name": "ipython",
    "version": 3
   },
   "file_extension": ".py",
   "mimetype": "text/x-python",
   "name": "python",
   "nbconvert_exporter": "python",
   "pygments_lexer": "ipython3",
   "version": "3.9.12"
  }
 },
 "nbformat": 4,
 "nbformat_minor": 5
}
