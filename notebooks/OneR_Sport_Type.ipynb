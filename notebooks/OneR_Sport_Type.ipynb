{
 "cells": [
  {
   "cell_type": "code",
   "execution_count": 2,
   "id": "af6c9f0e",
   "metadata": {},
   "outputs": [],
   "source": [
    "import numpy as np\n",
    "import pandas as pd\n",
    "from fastai.tabular.all import *\n",
    "import glob\n",
    "from datetime import datetime\n",
    "import matplotlib.pyplot as plt\n",
    "import seaborn as sns\n",
    "import sklearn"
   ]
  },
  {
   "cell_type": "markdown",
   "id": "626bee6b",
   "metadata": {},
   "source": [
    "# Merge Wodify, SugarWOD and Strava Data\n",
    "\n",
    "Starting where data_discovery_manipulation notebook left off, merge full data tables\n",
    "\n",
    "#### The low_memory parameter, which is True by default, tells Pandas to only look at a few rows of data at a time to figure out what type of data is in each column. This means that Pandas can actually end up using different data type for different rows, which generally leads to data processing errors or model training problems later."
   ]
  },
  {
   "cell_type": "code",
   "execution_count": 3,
   "id": "3ce1cd2f",
   "metadata": {},
   "outputs": [],
   "source": [
    "strava = pd.read_json('../observations/strava/activities.json')\n",
    "sugarwod = pd.read_csv('../observations/sugarwod/workouts.csv', low_memory=False)\n",
    "wodify_lifts = pd.read_excel('../observations/wodify/PerformanceResults.xlsx')\n",
    "wodify_metcons = pd.read_excel('../observations/wodify/PerformanceResultsMetcons.xlsx')\n",
    "wodify_prs = pd.read_excel('../observations/wodify/PerformanceResultsPRs.xlsx')"
   ]
  },
  {
   "cell_type": "markdown",
   "id": "796c4d84",
   "metadata": {},
   "source": [
    "#### Make a 'date' column in each Dataframe of the same format "
   ]
  },
  {
   "cell_type": "code",
   "execution_count": 4,
   "id": "c8cb87bb",
   "metadata": {},
   "outputs": [],
   "source": [
    "strava['start_date_local'] = pd.to_datetime(strava['start_date_local'])\n",
    "strava['start_time'] = strava['start_date_local'].dt.strftime('%H:%M:%S')\n",
    "\n",
    "strava['date'] = strava['start_date_local'].dt.strftime('%Y-%m-%d')\n",
    "strava = strava.drop(columns=['start_date_local'])\n",
    "\n",
    "strava['strava_name'] = strava['name']\n",
    "strava = strava.drop(columns=['name'])\n",
    "\n",
    "sugarwod['date'] = pd.to_datetime(sugarwod['date'])\n",
    "sugarwod['date'] = sugarwod['date'].dt.strftime('%Y-%m-%d')\n",
    "\n",
    "wodify_lifts['date'] = wodify_lifts['Date'].dt.strftime('%Y-%m-%d')\n",
    "wodify_lifts = wodify_lifts.drop(columns=['Date'])\n",
    "\n",
    "wodify_metcons['date'] = wodify_metcons['Date'].dt.strftime('%Y-%m-%d')\n",
    "wodify_metcons = wodify_metcons.drop(columns=['Date'])\n",
    "\n",
    "wodify_prs['Peformance Result Date'] = pd.to_datetime(wodify_prs['Performance Result Date'])\n",
    "wodify_prs['date'] = wodify_prs['Performance Result Date'].dt.strftime('%Y-%m-%d')\n",
    "wodify_prs = wodify_prs.drop(columns=['Performance Result Date'])"
   ]
  },
  {
   "cell_type": "markdown",
   "id": "95cc1db4",
   "metadata": {},
   "source": [
    "#### Rename duplicate column names where merges would result in data loss"
   ]
  },
  {
   "cell_type": "code",
   "execution_count": 5,
   "id": "872f5f97",
   "metadata": {},
   "outputs": [],
   "source": [
    "wodify_lifts['lift_component'] = wodify_lifts['Component']\n",
    "wodify_lifts = wodify_lifts.drop(columns=['Component'])\n",
    "\n",
    "wodify_metcons['metcon_component'] = wodify_metcons['Component']\n",
    "wodify_metcons = wodify_metcons.drop(columns=['Component'])\n",
    "\n",
    "wodify_prs['pr_component'] = wodify_prs['Component Name']\n",
    "wodify_prs = wodify_prs.drop(columns=['Component Name'])\n",
    "\n",
    "wodify_lifts['is_lift_pr'] = wodify_lifts['Is Personal Record']\n",
    "wodify_lifts['lift_pr_description'] = wodify_lifts['Personal Record Description']\n",
    "wodify_lifts = wodify_lifts.drop(columns=['Is Personal Record'])\n",
    "wodify_lifts = wodify_lifts.drop(columns=['Personal Record Description'])\n",
    "\n",
    "wodify_metcons['is_metcon_pr'] = wodify_metcons['Is Personal Record']\n",
    "wodify_metcons['metcon_pr_description'] = wodify_metcons['Personal Record Description']\n",
    "wodify_metcons = wodify_metcons.drop(columns=['Is Personal Record'])\n",
    "wodify_metcons = wodify_metcons.drop(columns=['Personal Record Description'])"
   ]
  },
  {
   "cell_type": "markdown",
   "id": "29c1a01a",
   "metadata": {},
   "source": [
    "#### Text describing the WOD is in the 'description' column on SugarWOD and the 'Component Description' column of Wodify\n",
    "\n",
    "#### Rename these so they will merge on concatenation: this is safe so long as there is one WOD performed per day\n",
    "\n",
    "#### Rethink if there becomes a case where two different WODs are performed on the same day on different apps"
   ]
  },
  {
   "cell_type": "code",
   "execution_count": 6,
   "id": "5d779d11",
   "metadata": {},
   "outputs": [],
   "source": [
    "wodify_metcons['wod'] = wodify_metcons['Component Description']\n",
    "wodify_metcons = wodify_metcons.drop(columns=['Component Description'])\n",
    "\n",
    "sugarwod['wod'] = sugarwod['description']\n",
    "sugarwod = sugarwod.drop(columns=['description'])"
   ]
  },
  {
   "cell_type": "markdown",
   "id": "af534299",
   "metadata": {},
   "source": [
    "#### Merge the dataframes on 'date' attribute: All the workout data for one day in each row"
   ]
  },
  {
   "cell_type": "code",
   "execution_count": 7,
   "id": "153883db",
   "metadata": {},
   "outputs": [
    {
     "data": {
      "text/html": [
       "<div>\n",
       "<style scoped>\n",
       "    .dataframe tbody tr th:only-of-type {\n",
       "        vertical-align: middle;\n",
       "    }\n",
       "\n",
       "    .dataframe tbody tr th {\n",
       "        vertical-align: top;\n",
       "    }\n",
       "\n",
       "    .dataframe thead th {\n",
       "        text-align: right;\n",
       "    }\n",
       "</style>\n",
       "<table border=\"1\" class=\"dataframe\">\n",
       "  <thead>\n",
       "    <tr style=\"text-align: right;\">\n",
       "      <th></th>\n",
       "      <th>Affiliate Name</th>\n",
       "      <th>Class Name</th>\n",
       "      <th>Result</th>\n",
       "      <th>Performance Result Type</th>\n",
       "      <th>Comment</th>\n",
       "      <th>From Weightlifting Total</th>\n",
       "      <th>date</th>\n",
       "      <th>lift_component</th>\n",
       "      <th>is_lift_pr</th>\n",
       "      <th>lift_pr_description</th>\n",
       "      <th>...</th>\n",
       "      <th>strava_name</th>\n",
       "      <th>title</th>\n",
       "      <th>best_result_raw</th>\n",
       "      <th>best_result_display</th>\n",
       "      <th>score_type</th>\n",
       "      <th>barbell_lift</th>\n",
       "      <th>set_details</th>\n",
       "      <th>notes</th>\n",
       "      <th>rx_or_scaled</th>\n",
       "      <th>pr</th>\n",
       "    </tr>\n",
       "  </thead>\n",
       "  <tbody>\n",
       "    <tr>\n",
       "      <th>4</th>\n",
       "      <td>CrossFit Cove</td>\n",
       "      <td>Cove Fitness:  Noon</td>\n",
       "      <td>1 x 5 @ 275 lbs</td>\n",
       "      <td>Weight</td>\n",
       "      <td>NaN</td>\n",
       "      <td>False</td>\n",
       "      <td>2023-01-10</td>\n",
       "      <td>Deadlift</td>\n",
       "      <td>True</td>\n",
       "      <td>PR by 20 lbs vs. 255 on 11/02/2022</td>\n",
       "      <td>...</td>\n",
       "      <td>NaN</td>\n",
       "      <td>NaN</td>\n",
       "      <td>NaN</td>\n",
       "      <td>NaN</td>\n",
       "      <td>NaN</td>\n",
       "      <td>NaN</td>\n",
       "      <td>NaN</td>\n",
       "      <td>NaN</td>\n",
       "      <td>NaN</td>\n",
       "      <td>NaN</td>\n",
       "    </tr>\n",
       "    <tr>\n",
       "      <th>14</th>\n",
       "      <td>CrossFit Cove</td>\n",
       "      <td>Cove Fitness:  Noon</td>\n",
       "      <td>NaN</td>\n",
       "      <td>NaN</td>\n",
       "      <td>NaN</td>\n",
       "      <td>NaN</td>\n",
       "      <td>2023-01-10</td>\n",
       "      <td>NaN</td>\n",
       "      <td>NaN</td>\n",
       "      <td>NaN</td>\n",
       "      <td>...</td>\n",
       "      <td>NaN</td>\n",
       "      <td>NaN</td>\n",
       "      <td>NaN</td>\n",
       "      <td>NaN</td>\n",
       "      <td>NaN</td>\n",
       "      <td>NaN</td>\n",
       "      <td>NaN</td>\n",
       "      <td>NaN</td>\n",
       "      <td>NaN</td>\n",
       "      <td>NaN</td>\n",
       "    </tr>\n",
       "    <tr>\n",
       "      <th>0</th>\n",
       "      <td>NaN</td>\n",
       "      <td>Cove Fitness:  Noon</td>\n",
       "      <td>1 x 5 @ 275 lbs</td>\n",
       "      <td>NaN</td>\n",
       "      <td>NaN</td>\n",
       "      <td>NaN</td>\n",
       "      <td>2023-01-10</td>\n",
       "      <td>NaN</td>\n",
       "      <td>NaN</td>\n",
       "      <td>NaN</td>\n",
       "      <td>...</td>\n",
       "      <td>NaN</td>\n",
       "      <td>NaN</td>\n",
       "      <td>NaN</td>\n",
       "      <td>NaN</td>\n",
       "      <td>NaN</td>\n",
       "      <td>NaN</td>\n",
       "      <td>NaN</td>\n",
       "      <td>NaN</td>\n",
       "      <td>NaN</td>\n",
       "      <td>NaN</td>\n",
       "    </tr>\n",
       "  </tbody>\n",
       "</table>\n",
       "<p>3 rows × 86 columns</p>\n",
       "</div>"
      ],
      "text/plain": [
       "   Affiliate Name           Class Name           Result  \\\n",
       "4   CrossFit Cove  Cove Fitness:  Noon  1 x 5 @ 275 lbs   \n",
       "14  CrossFit Cove  Cove Fitness:  Noon              NaN   \n",
       "0             NaN  Cove Fitness:  Noon  1 x 5 @ 275 lbs   \n",
       "\n",
       "   Performance Result Type  Comment From Weightlifting Total        date  \\\n",
       "4                   Weight      NaN                    False  2023-01-10   \n",
       "14                     NaN      NaN                      NaN  2023-01-10   \n",
       "0                      NaN      NaN                      NaN  2023-01-10   \n",
       "\n",
       "   lift_component is_lift_pr                 lift_pr_description  ...  \\\n",
       "4        Deadlift       True  PR by 20 lbs vs. 255 on 11/02/2022  ...   \n",
       "14            NaN        NaN                                 NaN  ...   \n",
       "0             NaN        NaN                                 NaN  ...   \n",
       "\n",
       "    strava_name title best_result_raw best_result_display score_type  \\\n",
       "4           NaN   NaN             NaN                 NaN        NaN   \n",
       "14          NaN   NaN             NaN                 NaN        NaN   \n",
       "0           NaN   NaN             NaN                 NaN        NaN   \n",
       "\n",
       "   barbell_lift set_details notes  rx_or_scaled   pr  \n",
       "4           NaN         NaN   NaN           NaN  NaN  \n",
       "14          NaN         NaN   NaN           NaN  NaN  \n",
       "0           NaN         NaN   NaN           NaN  NaN  \n",
       "\n",
       "[3 rows x 86 columns]"
      ]
     },
     "execution_count": 7,
     "metadata": {},
     "output_type": "execute_result"
    }
   ],
   "source": [
    "wodify_all = pd.concat([wodify_lifts, wodify_metcons, wodify_prs])\n",
    "\n",
    "all_data = pd.concat([wodify_all, strava, sugarwod])\n",
    "\n",
    "all_data.loc[all_data['date'] == '2023-01-10']"
   ]
  },
  {
   "cell_type": "code",
   "execution_count": 8,
   "id": "dc2440b7",
   "metadata": {},
   "outputs": [
    {
     "data": {
      "text/html": [
       "<div>\n",
       "<style scoped>\n",
       "    .dataframe tbody tr th:only-of-type {\n",
       "        vertical-align: middle;\n",
       "    }\n",
       "\n",
       "    .dataframe tbody tr th {\n",
       "        vertical-align: top;\n",
       "    }\n",
       "\n",
       "    .dataframe thead th {\n",
       "        text-align: right;\n",
       "    }\n",
       "</style>\n",
       "<table border=\"1\" class=\"dataframe\">\n",
       "  <thead>\n",
       "    <tr style=\"text-align: right;\">\n",
       "      <th></th>\n",
       "      <th>date</th>\n",
       "      <th>Affiliate Name</th>\n",
       "      <th>Class Name</th>\n",
       "      <th>Result</th>\n",
       "      <th>Performance Result Type</th>\n",
       "      <th>Comment</th>\n",
       "      <th>From Weightlifting Total</th>\n",
       "      <th>lift_component</th>\n",
       "      <th>is_lift_pr</th>\n",
       "      <th>lift_pr_description</th>\n",
       "      <th>...</th>\n",
       "      <th>strava_name</th>\n",
       "      <th>title</th>\n",
       "      <th>best_result_raw</th>\n",
       "      <th>best_result_display</th>\n",
       "      <th>score_type</th>\n",
       "      <th>barbell_lift</th>\n",
       "      <th>set_details</th>\n",
       "      <th>notes</th>\n",
       "      <th>rx_or_scaled</th>\n",
       "      <th>pr</th>\n",
       "    </tr>\n",
       "  </thead>\n",
       "  <tbody>\n",
       "    <tr>\n",
       "      <th>219</th>\n",
       "      <td>2023-01-10</td>\n",
       "      <td>CrossFit Cove</td>\n",
       "      <td>Cove Fitness:  Noon</td>\n",
       "      <td>1 x 5 @ 275 lbs</td>\n",
       "      <td>Weight</td>\n",
       "      <td>NaN</td>\n",
       "      <td>False</td>\n",
       "      <td>Deadlift</td>\n",
       "      <td>True</td>\n",
       "      <td>PR by 20 lbs vs. 255 on 11/02/2022</td>\n",
       "      <td>...</td>\n",
       "      <td>None</td>\n",
       "      <td>None</td>\n",
       "      <td>NaN</td>\n",
       "      <td>None</td>\n",
       "      <td>None</td>\n",
       "      <td>None</td>\n",
       "      <td>None</td>\n",
       "      <td>None</td>\n",
       "      <td>None</td>\n",
       "      <td>None</td>\n",
       "    </tr>\n",
       "  </tbody>\n",
       "</table>\n",
       "<p>1 rows × 86 columns</p>\n",
       "</div>"
      ],
      "text/plain": [
       "           date Affiliate Name           Class Name           Result  \\\n",
       "219  2023-01-10  CrossFit Cove  Cove Fitness:  Noon  1 x 5 @ 275 lbs   \n",
       "\n",
       "    Performance Result Type  Comment From Weightlifting Total lift_component  \\\n",
       "219                  Weight      NaN                    False       Deadlift   \n",
       "\n",
       "    is_lift_pr                 lift_pr_description  ...  strava_name title  \\\n",
       "219       True  PR by 20 lbs vs. 255 on 11/02/2022  ...         None  None   \n",
       "\n",
       "    best_result_raw best_result_display score_type barbell_lift set_details  \\\n",
       "219             NaN                None       None         None        None   \n",
       "\n",
       "    notes  rx_or_scaled    pr  \n",
       "219  None          None  None  \n",
       "\n",
       "[1 rows x 86 columns]"
      ]
     },
     "execution_count": 8,
     "metadata": {},
     "output_type": "execute_result"
    }
   ],
   "source": [
    "all_data_by_date = all_data.groupby(all_data['date'], as_index=False).aggregate('first')\n",
    "\n",
    "all_data_by_date.loc[all_data_by_date['date'] == '2023-01-10']"
   ]
  },
  {
   "cell_type": "markdown",
   "id": "1931fafd",
   "metadata": {},
   "source": [
    "# Data Manipulation"
   ]
  },
  {
   "cell_type": "code",
   "execution_count": 9,
   "id": "daaf9c02",
   "metadata": {},
   "outputs": [
    {
     "data": {
      "text/plain": [
       "Index(['date', 'Affiliate Name', 'Class Name', 'Result',\n",
       "       'Performance Result Type', 'Comment', 'From Weightlifting Total',\n",
       "       'lift_component', 'is_lift_pr', 'lift_pr_description', 'Component(2)',\n",
       "       'Fully Formatted Result', 'Is Rx', 'Is Rx Plus', 'Result Type Label',\n",
       "       'Full Comment', 'metcon_component', 'is_metcon_pr',\n",
       "       'metcon_pr_description', 'wod', 'Rep Scheme',\n",
       "       'Performance Result Comment', 'Personal Record Text',\n",
       "       'Peformance Result Date', 'pr_component', 'resource_state', 'athlete',\n",
       "       'distance', 'moving_time', 'elapsed_time', 'total_elevation_gain',\n",
       "       'type', 'sport_type', 'id', 'start_date', 'timezone', 'utc_offset',\n",
       "       'location_city', 'location_state', 'location_country',\n",
       "       'achievement_count', 'kudos_count', 'comment_count', 'athlete_count',\n",
       "       'photo_count', 'map', 'trainer', 'commute', 'manual', 'private',\n",
       "       'visibility', 'flagged', 'gear_id', 'start_latlng', 'end_latlng',\n",
       "       'average_speed', 'max_speed', 'has_heartrate', 'average_heartrate',\n",
       "       'max_heartrate', 'heartrate_opt_out', 'display_hide_heartrate_option',\n",
       "       'upload_id', 'upload_id_str', 'external_id', 'from_accepted_tag',\n",
       "       'pr_count', 'total_photo_count', 'has_kudoed', 'workout_type',\n",
       "       'average_watts', 'kilojoules', 'device_watts', 'elev_high', 'elev_low',\n",
       "       'start_time', 'strava_name', 'title', 'best_result_raw',\n",
       "       'best_result_display', 'score_type', 'barbell_lift', 'set_details',\n",
       "       'notes', 'rx_or_scaled', 'pr'],\n",
       "      dtype='object')"
      ]
     },
     "execution_count": 9,
     "metadata": {},
     "output_type": "execute_result"
    }
   ],
   "source": [
    "all_data_by_date.columns"
   ]
  },
  {
   "cell_type": "markdown",
   "id": "25ce6773",
   "metadata": {},
   "source": [
    "## Too many columns to handle initially\n",
    "\n",
    "### Slim Down to ten most relevant columns for initial analysis\n",
    "### Add additional columns into future analyses\n",
    "\n",
    "The most important column is the dependent variable, the one we want to predict.\n",
    "\n",
    "Choosing a model metric is the next most important. Think carefully about the metric(s) that measure quality in your case. \n",
    "\n",
    "1. I want to predict sport_type for a workout. This is my dependent variable.\n",
    "\n",
    "2. I remove all text fields from the data to be analyzed, most importantly 'wod', because they are best analyzed by adding deep learning\n",
    "\n",
    "3. Remove fields specific to only one sport type (i.e. scaled vs Rx is specific to crossfit)"
   ]
  },
  {
   "cell_type": "code",
   "execution_count": 43,
   "id": "0222f992",
   "metadata": {},
   "outputs": [],
   "source": [
    "df2 = all_data_by_date.filter(['date', 'start_time', 'sport_type', 'moving_time', 'elapsed_time', 'average_heartrate', 'max_heartrate', 'max_speed', 'average_speed', 'distance'], axis=1)"
   ]
  },
  {
   "cell_type": "code",
   "execution_count": 44,
   "id": "a175076f",
   "metadata": {},
   "outputs": [],
   "source": [
    "dep_var = 'sport_type'"
   ]
  },
  {
   "cell_type": "code",
   "execution_count": null,
   "id": "7c27e2e6",
   "metadata": {},
   "outputs": [],
   "source": []
  },
  {
   "cell_type": "markdown",
   "id": "ed51d27c",
   "metadata": {},
   "source": [
    "#### Using Fast.ai, replace every date column with a set of date metadata columns, such as holiday, day of week, and month. \n",
    "#### These columns provide categorical data that we suspect will be useful."
   ]
  },
  {
   "cell_type": "code",
   "execution_count": 19,
   "id": "7dcfc743",
   "metadata": {},
   "outputs": [],
   "source": [
    "all_data_by_date = add_datepart(all_data_by_date, 'date')"
   ]
  },
  {
   "cell_type": "markdown",
   "id": "a9b382a9",
   "metadata": {},
   "source": [
    "# March 28th, 2023 and Earlier ..."
   ]
  },
  {
   "cell_type": "markdown",
   "id": "6c1c1a9e",
   "metadata": {},
   "source": [
    "#### I have let read_csv and read_excel infer data types up until now"
   ]
  },
  {
   "cell_type": "code",
   "execution_count": 298,
   "id": "4fbd03a8",
   "metadata": {},
   "outputs": [
    {
     "data": {
      "text/plain": [
       "date                       object\n",
       "Affiliate Name             object\n",
       "Class Name                 object\n",
       "Result                     object\n",
       "Performance Result Type    object\n",
       "                            ...  \n",
       "barbell_lift               object\n",
       "set_details                object\n",
       "notes                      object\n",
       "rx_or_scaled               object\n",
       "pr                         object\n",
       "Length: 86, dtype: object"
      ]
     },
     "execution_count": 298,
     "metadata": {},
     "output_type": "execute_result"
    }
   ],
   "source": [
    "all_data_by_date[all_data_by_date.columns].dtypes"
   ]
  },
  {
   "cell_type": "markdown",
   "id": "94bdcf76",
   "metadata": {},
   "source": [
    "#### I use convert_dtypes to convert columns back to their intended data types"
   ]
  },
  {
   "cell_type": "code",
   "execution_count": 299,
   "id": "3ec73270",
   "metadata": {},
   "outputs": [
    {
     "data": {
      "text/plain": [
       "date                       string\n",
       "Affiliate Name             string\n",
       "Class Name                 string\n",
       "Result                     string\n",
       "Performance Result Type    string\n",
       "                            ...  \n",
       "barbell_lift               string\n",
       "set_details                string\n",
       "notes                      string\n",
       "rx_or_scaled               string\n",
       "pr                         string\n",
       "Length: 86, dtype: object"
      ]
     },
     "execution_count": 299,
     "metadata": {},
     "output_type": "execute_result"
    }
   ],
   "source": [
    "adbd = all_data_by_date.convert_dtypes()\n",
    "adbd[adbd.columns].dtypes"
   ]
  },
  {
   "cell_type": "code",
   "execution_count": 300,
   "id": "aac5b23c",
   "metadata": {},
   "outputs": [
    {
     "data": {
      "text/plain": [
       "0      2021-07-26T21:01:22Z\n",
       "1      2021-08-04T21:35:51Z\n",
       "2      2021-08-10T21:08:33Z\n",
       "3      2021-08-14T11:36:56Z\n",
       "4      2021-08-18T20:56:44Z\n",
       "               ...         \n",
       "228                    <NA>\n",
       "229                    <NA>\n",
       "230                    <NA>\n",
       "231                    <NA>\n",
       "232                    <NA>\n",
       "Name: start_date, Length: 233, dtype: string"
      ]
     },
     "execution_count": 300,
     "metadata": {},
     "output_type": "execute_result"
    }
   ],
   "source": [
    "adbd['start_date']"
   ]
  },
  {
   "cell_type": "code",
   "execution_count": 301,
   "id": "23ffd86b",
   "metadata": {},
   "outputs": [
    {
     "data": {
      "text/plain": [
       "37"
      ]
     },
     "execution_count": 301,
     "metadata": {},
     "output_type": "execute_result"
    }
   ],
   "source": [
    "adbd['start_time'].isna().sum()"
   ]
  },
  {
   "cell_type": "markdown",
   "id": "f6bd6fbb",
   "metadata": {},
   "source": [
    "#### TODO: Work to be done sorting out how to handle time: start time, end time, duration"
   ]
  },
  {
   "cell_type": "markdown",
   "id": "d637c43f",
   "metadata": {},
   "source": [
    "#### TODO: More processing on the 'wod' column to determine what the workout is"
   ]
  },
  {
   "cell_type": "code",
   "execution_count": 302,
   "id": "84ea2728",
   "metadata": {},
   "outputs": [
    {
     "data": {
      "text/plain": [
       "0    <NA>\n",
       "1    <NA>\n",
       "2    <NA>\n",
       "3    <NA>\n",
       "4    <NA>\n",
       "Name: wod, dtype: string"
      ]
     },
     "execution_count": 302,
     "metadata": {},
     "output_type": "execute_result"
    }
   ],
   "source": [
    "adbd['wod'].head()"
   ]
  },
  {
   "cell_type": "markdown",
   "id": "2e867e63",
   "metadata": {},
   "source": [
    "### The smartest first step: \n",
    "\n",
    "### Use Random Forest to determine Feature Importance\n",
    "\n",
    "#### First, do some data cleaning"
   ]
  },
  {
   "cell_type": "code",
   "execution_count": 303,
   "id": "012a49d8",
   "metadata": {},
   "outputs": [
    {
     "data": {
      "text/plain": [
       "date                         0\n",
       "Affiliate Name             204\n",
       "Class Name                 204\n",
       "Result                     223\n",
       "Performance Result Type    223\n",
       "                          ... \n",
       "barbell_lift               220\n",
       "set_details                163\n",
       "notes                      195\n",
       "rx_or_scaled               163\n",
       "pr                         221\n",
       "Length: 86, dtype: int64"
      ]
     },
     "execution_count": 303,
     "metadata": {},
     "output_type": "execute_result"
    }
   ],
   "source": [
    "adbd.isna().sum()"
   ]
  },
  {
   "cell_type": "code",
   "execution_count": 304,
   "id": "8331635c",
   "metadata": {},
   "outputs": [
    {
     "data": {
      "text/plain": [
       "233"
      ]
     },
     "execution_count": 304,
     "metadata": {},
     "output_type": "execute_result"
    }
   ],
   "source": [
    "# how many rows in the dataframe?\n",
    "adbd.shape[0]"
   ]
  },
  {
   "cell_type": "markdown",
   "id": "50fed22d",
   "metadata": {},
   "source": [
    "#### Filling in missing values with the most common column value does not make sense for this data\n",
    "\n",
    "#### Some columns are irrelevant for certain records: \n",
    "\n",
    "#### Affiliate Name in the case of a Bike Ride, Notes are specific to each WOD and may be left empty,\n",
    "\n",
    "#### PR should not be filled with PR, rx_or_scaled should not be filled with SCALED\n",
    "\n",
    "#### These could be boolean values? is_pr, is_rx, is_scaled\n",
    "\n",
    "### TODO: More work to be done finding the best way to fill missing values\n",
    "\n",
    "#### For the sake of proceeding today, fill in NaN with most common values in each column\n",
    "\n",
    "#### After dropping columns where the most common value is NA\n",
    "\n",
    "#### Also drop Athlete and Map because their data type is a dictionary"
   ]
  },
  {
   "cell_type": "code",
   "execution_count": 305,
   "id": "b147c990",
   "metadata": {},
   "outputs": [],
   "source": [
    "adbd.drop(inplace=True, columns=['Comment', 'metcon_pr_description', 'Performance Result Comment', 'location_city', 'location_state', 'location_country', 'gear_id', 'athlete', 'map', 'workout_type'])"
   ]
  },
  {
   "cell_type": "code",
   "execution_count": 306,
   "id": "bed72c02",
   "metadata": {},
   "outputs": [
    {
     "name": "stderr",
     "output_type": "stream",
     "text": [
      "/var/folders/qw/d48b51n13sxcgsznf127fvj40000gn/T/ipykernel_71286/1436181709.py:5: FutureWarning: The frame.append method is deprecated and will be removed from pandas in a future version. Use pandas.concat instead.\n",
      "  modes_df = modes_df.append([modes_df.iloc[0]]*(adbd.shape[0]-1), ignore_index=True)\n"
     ]
    },
    {
     "data": {
      "text/html": [
       "<div>\n",
       "<style scoped>\n",
       "    .dataframe tbody tr th:only-of-type {\n",
       "        vertical-align: middle;\n",
       "    }\n",
       "\n",
       "    .dataframe tbody tr th {\n",
       "        vertical-align: top;\n",
       "    }\n",
       "\n",
       "    .dataframe thead th {\n",
       "        text-align: right;\n",
       "    }\n",
       "</style>\n",
       "<table border=\"1\" class=\"dataframe\">\n",
       "  <thead>\n",
       "    <tr style=\"text-align: right;\">\n",
       "      <th></th>\n",
       "      <th>date</th>\n",
       "      <th>Affiliate Name</th>\n",
       "      <th>Class Name</th>\n",
       "      <th>Result</th>\n",
       "      <th>Performance Result Type</th>\n",
       "      <th>From Weightlifting Total</th>\n",
       "      <th>lift_component</th>\n",
       "      <th>is_lift_pr</th>\n",
       "      <th>lift_pr_description</th>\n",
       "      <th>Component(2)</th>\n",
       "      <th>...</th>\n",
       "      <th>strava_name</th>\n",
       "      <th>title</th>\n",
       "      <th>best_result_raw</th>\n",
       "      <th>best_result_display</th>\n",
       "      <th>score_type</th>\n",
       "      <th>barbell_lift</th>\n",
       "      <th>set_details</th>\n",
       "      <th>notes</th>\n",
       "      <th>rx_or_scaled</th>\n",
       "      <th>pr</th>\n",
       "    </tr>\n",
       "  </thead>\n",
       "  <tbody>\n",
       "    <tr>\n",
       "      <th>0</th>\n",
       "      <td>2021-07-26</td>\n",
       "      <td>CrossFit Cove</td>\n",
       "      <td>Cove Fitness: 7:00 AM</td>\n",
       "      <td>1 x 1 @ 135 lbs</td>\n",
       "      <td>Weight</td>\n",
       "      <td>False</td>\n",
       "      <td>Deadlift</td>\n",
       "      <td>False</td>\n",
       "      <td>PR by 20 lbs vs. 255 on 11/02/2022</td>\n",
       "      <td>220</td>\n",
       "      <td>...</td>\n",
       "      <td>Morning Crossfit</td>\n",
       "      <td>For Time</td>\n",
       "      <td>125.0</td>\n",
       "      <td>125</td>\n",
       "      <td>Time</td>\n",
       "      <td>Bench Press</td>\n",
       "      <td>[{\"reps\":120}]</td>\n",
       "      <td>95 lb barbell</td>\n",
       "      <td>SCALED</td>\n",
       "      <td>PR</td>\n",
       "    </tr>\n",
       "    <tr>\n",
       "      <th>1</th>\n",
       "      <td>2021-07-26</td>\n",
       "      <td>CrossFit Cove</td>\n",
       "      <td>Cove Fitness: 7:00 AM</td>\n",
       "      <td>1 x 1 @ 135 lbs</td>\n",
       "      <td>Weight</td>\n",
       "      <td>False</td>\n",
       "      <td>Deadlift</td>\n",
       "      <td>False</td>\n",
       "      <td>PR by 20 lbs vs. 255 on 11/02/2022</td>\n",
       "      <td>220</td>\n",
       "      <td>...</td>\n",
       "      <td>Morning Crossfit</td>\n",
       "      <td>For Time</td>\n",
       "      <td>125.0</td>\n",
       "      <td>125</td>\n",
       "      <td>Time</td>\n",
       "      <td>Bench Press</td>\n",
       "      <td>[{\"reps\":120}]</td>\n",
       "      <td>95 lb barbell</td>\n",
       "      <td>SCALED</td>\n",
       "      <td>PR</td>\n",
       "    </tr>\n",
       "    <tr>\n",
       "      <th>2</th>\n",
       "      <td>2021-07-26</td>\n",
       "      <td>CrossFit Cove</td>\n",
       "      <td>Cove Fitness: 7:00 AM</td>\n",
       "      <td>1 x 1 @ 135 lbs</td>\n",
       "      <td>Weight</td>\n",
       "      <td>False</td>\n",
       "      <td>Deadlift</td>\n",
       "      <td>False</td>\n",
       "      <td>PR by 20 lbs vs. 255 on 11/02/2022</td>\n",
       "      <td>220</td>\n",
       "      <td>...</td>\n",
       "      <td>Morning Crossfit</td>\n",
       "      <td>For Time</td>\n",
       "      <td>125.0</td>\n",
       "      <td>125</td>\n",
       "      <td>Time</td>\n",
       "      <td>Bench Press</td>\n",
       "      <td>[{\"reps\":120}]</td>\n",
       "      <td>95 lb barbell</td>\n",
       "      <td>SCALED</td>\n",
       "      <td>PR</td>\n",
       "    </tr>\n",
       "    <tr>\n",
       "      <th>3</th>\n",
       "      <td>2021-07-26</td>\n",
       "      <td>CrossFit Cove</td>\n",
       "      <td>Cove Fitness: 7:00 AM</td>\n",
       "      <td>1 x 1 @ 135 lbs</td>\n",
       "      <td>Weight</td>\n",
       "      <td>False</td>\n",
       "      <td>Deadlift</td>\n",
       "      <td>False</td>\n",
       "      <td>PR by 20 lbs vs. 255 on 11/02/2022</td>\n",
       "      <td>220</td>\n",
       "      <td>...</td>\n",
       "      <td>Morning Crossfit</td>\n",
       "      <td>For Time</td>\n",
       "      <td>125.0</td>\n",
       "      <td>125</td>\n",
       "      <td>Time</td>\n",
       "      <td>Bench Press</td>\n",
       "      <td>[{\"reps\":120}]</td>\n",
       "      <td>95 lb barbell</td>\n",
       "      <td>SCALED</td>\n",
       "      <td>PR</td>\n",
       "    </tr>\n",
       "    <tr>\n",
       "      <th>4</th>\n",
       "      <td>2021-07-26</td>\n",
       "      <td>CrossFit Cove</td>\n",
       "      <td>Cove Fitness: 7:00 AM</td>\n",
       "      <td>1 x 1 @ 135 lbs</td>\n",
       "      <td>Weight</td>\n",
       "      <td>False</td>\n",
       "      <td>Deadlift</td>\n",
       "      <td>False</td>\n",
       "      <td>PR by 20 lbs vs. 255 on 11/02/2022</td>\n",
       "      <td>220</td>\n",
       "      <td>...</td>\n",
       "      <td>Morning Crossfit</td>\n",
       "      <td>For Time</td>\n",
       "      <td>125.0</td>\n",
       "      <td>125</td>\n",
       "      <td>Time</td>\n",
       "      <td>Bench Press</td>\n",
       "      <td>[{\"reps\":120}]</td>\n",
       "      <td>95 lb barbell</td>\n",
       "      <td>SCALED</td>\n",
       "      <td>PR</td>\n",
       "    </tr>\n",
       "    <tr>\n",
       "      <th>...</th>\n",
       "      <td>...</td>\n",
       "      <td>...</td>\n",
       "      <td>...</td>\n",
       "      <td>...</td>\n",
       "      <td>...</td>\n",
       "      <td>...</td>\n",
       "      <td>...</td>\n",
       "      <td>...</td>\n",
       "      <td>...</td>\n",
       "      <td>...</td>\n",
       "      <td>...</td>\n",
       "      <td>...</td>\n",
       "      <td>...</td>\n",
       "      <td>...</td>\n",
       "      <td>...</td>\n",
       "      <td>...</td>\n",
       "      <td>...</td>\n",
       "      <td>...</td>\n",
       "      <td>...</td>\n",
       "      <td>...</td>\n",
       "      <td>...</td>\n",
       "    </tr>\n",
       "    <tr>\n",
       "      <th>228</th>\n",
       "      <td>2021-07-26</td>\n",
       "      <td>CrossFit Cove</td>\n",
       "      <td>Cove Fitness: 7:00 AM</td>\n",
       "      <td>1 x 1 @ 135 lbs</td>\n",
       "      <td>Weight</td>\n",
       "      <td>False</td>\n",
       "      <td>Deadlift</td>\n",
       "      <td>False</td>\n",
       "      <td>PR by 20 lbs vs. 255 on 11/02/2022</td>\n",
       "      <td>220</td>\n",
       "      <td>...</td>\n",
       "      <td>Morning Crossfit</td>\n",
       "      <td>For Time</td>\n",
       "      <td>125.0</td>\n",
       "      <td>125</td>\n",
       "      <td>Time</td>\n",
       "      <td>Bench Press</td>\n",
       "      <td>[{\"reps\":120}]</td>\n",
       "      <td>95 lb barbell</td>\n",
       "      <td>SCALED</td>\n",
       "      <td>PR</td>\n",
       "    </tr>\n",
       "    <tr>\n",
       "      <th>229</th>\n",
       "      <td>2021-07-26</td>\n",
       "      <td>CrossFit Cove</td>\n",
       "      <td>Cove Fitness: 7:00 AM</td>\n",
       "      <td>1 x 1 @ 135 lbs</td>\n",
       "      <td>Weight</td>\n",
       "      <td>False</td>\n",
       "      <td>Deadlift</td>\n",
       "      <td>False</td>\n",
       "      <td>PR by 20 lbs vs. 255 on 11/02/2022</td>\n",
       "      <td>220</td>\n",
       "      <td>...</td>\n",
       "      <td>Morning Crossfit</td>\n",
       "      <td>For Time</td>\n",
       "      <td>125.0</td>\n",
       "      <td>125</td>\n",
       "      <td>Time</td>\n",
       "      <td>Bench Press</td>\n",
       "      <td>[{\"reps\":120}]</td>\n",
       "      <td>95 lb barbell</td>\n",
       "      <td>SCALED</td>\n",
       "      <td>PR</td>\n",
       "    </tr>\n",
       "    <tr>\n",
       "      <th>230</th>\n",
       "      <td>2021-07-26</td>\n",
       "      <td>CrossFit Cove</td>\n",
       "      <td>Cove Fitness: 7:00 AM</td>\n",
       "      <td>1 x 1 @ 135 lbs</td>\n",
       "      <td>Weight</td>\n",
       "      <td>False</td>\n",
       "      <td>Deadlift</td>\n",
       "      <td>False</td>\n",
       "      <td>PR by 20 lbs vs. 255 on 11/02/2022</td>\n",
       "      <td>220</td>\n",
       "      <td>...</td>\n",
       "      <td>Morning Crossfit</td>\n",
       "      <td>For Time</td>\n",
       "      <td>125.0</td>\n",
       "      <td>125</td>\n",
       "      <td>Time</td>\n",
       "      <td>Bench Press</td>\n",
       "      <td>[{\"reps\":120}]</td>\n",
       "      <td>95 lb barbell</td>\n",
       "      <td>SCALED</td>\n",
       "      <td>PR</td>\n",
       "    </tr>\n",
       "    <tr>\n",
       "      <th>231</th>\n",
       "      <td>2021-07-26</td>\n",
       "      <td>CrossFit Cove</td>\n",
       "      <td>Cove Fitness: 7:00 AM</td>\n",
       "      <td>1 x 1 @ 135 lbs</td>\n",
       "      <td>Weight</td>\n",
       "      <td>False</td>\n",
       "      <td>Deadlift</td>\n",
       "      <td>False</td>\n",
       "      <td>PR by 20 lbs vs. 255 on 11/02/2022</td>\n",
       "      <td>220</td>\n",
       "      <td>...</td>\n",
       "      <td>Morning Crossfit</td>\n",
       "      <td>For Time</td>\n",
       "      <td>125.0</td>\n",
       "      <td>125</td>\n",
       "      <td>Time</td>\n",
       "      <td>Bench Press</td>\n",
       "      <td>[{\"reps\":120}]</td>\n",
       "      <td>95 lb barbell</td>\n",
       "      <td>SCALED</td>\n",
       "      <td>PR</td>\n",
       "    </tr>\n",
       "    <tr>\n",
       "      <th>232</th>\n",
       "      <td>2021-07-26</td>\n",
       "      <td>CrossFit Cove</td>\n",
       "      <td>Cove Fitness: 7:00 AM</td>\n",
       "      <td>1 x 1 @ 135 lbs</td>\n",
       "      <td>Weight</td>\n",
       "      <td>False</td>\n",
       "      <td>Deadlift</td>\n",
       "      <td>False</td>\n",
       "      <td>PR by 20 lbs vs. 255 on 11/02/2022</td>\n",
       "      <td>220</td>\n",
       "      <td>...</td>\n",
       "      <td>Morning Crossfit</td>\n",
       "      <td>For Time</td>\n",
       "      <td>125.0</td>\n",
       "      <td>125</td>\n",
       "      <td>Time</td>\n",
       "      <td>Bench Press</td>\n",
       "      <td>[{\"reps\":120}]</td>\n",
       "      <td>95 lb barbell</td>\n",
       "      <td>SCALED</td>\n",
       "      <td>PR</td>\n",
       "    </tr>\n",
       "  </tbody>\n",
       "</table>\n",
       "<p>233 rows × 77 columns</p>\n",
       "</div>"
      ],
      "text/plain": [
       "           date Affiliate Name             Class Name           Result  \\\n",
       "0    2021-07-26  CrossFit Cove  Cove Fitness: 7:00 AM  1 x 1 @ 135 lbs   \n",
       "1    2021-07-26  CrossFit Cove  Cove Fitness: 7:00 AM  1 x 1 @ 135 lbs   \n",
       "2    2021-07-26  CrossFit Cove  Cove Fitness: 7:00 AM  1 x 1 @ 135 lbs   \n",
       "3    2021-07-26  CrossFit Cove  Cove Fitness: 7:00 AM  1 x 1 @ 135 lbs   \n",
       "4    2021-07-26  CrossFit Cove  Cove Fitness: 7:00 AM  1 x 1 @ 135 lbs   \n",
       "..          ...            ...                    ...              ...   \n",
       "228  2021-07-26  CrossFit Cove  Cove Fitness: 7:00 AM  1 x 1 @ 135 lbs   \n",
       "229  2021-07-26  CrossFit Cove  Cove Fitness: 7:00 AM  1 x 1 @ 135 lbs   \n",
       "230  2021-07-26  CrossFit Cove  Cove Fitness: 7:00 AM  1 x 1 @ 135 lbs   \n",
       "231  2021-07-26  CrossFit Cove  Cove Fitness: 7:00 AM  1 x 1 @ 135 lbs   \n",
       "232  2021-07-26  CrossFit Cove  Cove Fitness: 7:00 AM  1 x 1 @ 135 lbs   \n",
       "\n",
       "    Performance Result Type From Weightlifting Total lift_component  \\\n",
       "0                    Weight                    False       Deadlift   \n",
       "1                    Weight                    False       Deadlift   \n",
       "2                    Weight                    False       Deadlift   \n",
       "3                    Weight                    False       Deadlift   \n",
       "4                    Weight                    False       Deadlift   \n",
       "..                      ...                      ...            ...   \n",
       "228                  Weight                    False       Deadlift   \n",
       "229                  Weight                    False       Deadlift   \n",
       "230                  Weight                    False       Deadlift   \n",
       "231                  Weight                    False       Deadlift   \n",
       "232                  Weight                    False       Deadlift   \n",
       "\n",
       "    is_lift_pr                 lift_pr_description Component(2)  ...  \\\n",
       "0        False  PR by 20 lbs vs. 255 on 11/02/2022          220  ...   \n",
       "1        False  PR by 20 lbs vs. 255 on 11/02/2022          220  ...   \n",
       "2        False  PR by 20 lbs vs. 255 on 11/02/2022          220  ...   \n",
       "3        False  PR by 20 lbs vs. 255 on 11/02/2022          220  ...   \n",
       "4        False  PR by 20 lbs vs. 255 on 11/02/2022          220  ...   \n",
       "..         ...                                 ...          ...  ...   \n",
       "228      False  PR by 20 lbs vs. 255 on 11/02/2022          220  ...   \n",
       "229      False  PR by 20 lbs vs. 255 on 11/02/2022          220  ...   \n",
       "230      False  PR by 20 lbs vs. 255 on 11/02/2022          220  ...   \n",
       "231      False  PR by 20 lbs vs. 255 on 11/02/2022          220  ...   \n",
       "232      False  PR by 20 lbs vs. 255 on 11/02/2022          220  ...   \n",
       "\n",
       "          strava_name     title best_result_raw best_result_display  \\\n",
       "0    Morning Crossfit  For Time           125.0                 125   \n",
       "1    Morning Crossfit  For Time           125.0                 125   \n",
       "2    Morning Crossfit  For Time           125.0                 125   \n",
       "3    Morning Crossfit  For Time           125.0                 125   \n",
       "4    Morning Crossfit  For Time           125.0                 125   \n",
       "..                ...       ...             ...                 ...   \n",
       "228  Morning Crossfit  For Time           125.0                 125   \n",
       "229  Morning Crossfit  For Time           125.0                 125   \n",
       "230  Morning Crossfit  For Time           125.0                 125   \n",
       "231  Morning Crossfit  For Time           125.0                 125   \n",
       "232  Morning Crossfit  For Time           125.0                 125   \n",
       "\n",
       "    score_type barbell_lift     set_details          notes rx_or_scaled  pr  \n",
       "0         Time  Bench Press  [{\"reps\":120}]  95 lb barbell       SCALED  PR  \n",
       "1         Time  Bench Press  [{\"reps\":120}]  95 lb barbell       SCALED  PR  \n",
       "2         Time  Bench Press  [{\"reps\":120}]  95 lb barbell       SCALED  PR  \n",
       "3         Time  Bench Press  [{\"reps\":120}]  95 lb barbell       SCALED  PR  \n",
       "4         Time  Bench Press  [{\"reps\":120}]  95 lb barbell       SCALED  PR  \n",
       "..         ...          ...             ...            ...          ...  ..  \n",
       "228       Time  Bench Press  [{\"reps\":120}]  95 lb barbell       SCALED  PR  \n",
       "229       Time  Bench Press  [{\"reps\":120}]  95 lb barbell       SCALED  PR  \n",
       "230       Time  Bench Press  [{\"reps\":120}]  95 lb barbell       SCALED  PR  \n",
       "231       Time  Bench Press  [{\"reps\":120}]  95 lb barbell       SCALED  PR  \n",
       "232       Time  Bench Press  [{\"reps\":120}]  95 lb barbell       SCALED  PR  \n",
       "\n",
       "[233 rows x 77 columns]"
      ]
     },
     "execution_count": 306,
     "metadata": {},
     "output_type": "execute_result"
    }
   ],
   "source": [
    "# It appears that in order to fill N/A values, the dataframe from which data will be pulled to fill empty cells\n",
    "\n",
    "# must be of the same shape as the receiving dataframe. \n",
    "\n",
    "# In this cell I make a dataframe out of the Mode values of each column. As 'modes_df' it is a one column dataframe\n",
    "\n",
    "# with an index of all the column names. I transpose it to turn the index into column names and the column into a row\n",
    "\n",
    "# then I duplicate that row until the dataframe is the size of the receiving dataframe\n",
    "\n",
    "modes = adbd.mode().iloc[0]\n",
    "modes_dict = modes.to_dict()\n",
    "modes_df = pd.DataFrame(modes)\n",
    "modes_df = modes_df.transpose()\n",
    "modes_df = modes_df.append([modes_df.iloc[0]]*(adbd.shape[0]-1), ignore_index=True)\n",
    "modes_df"
   ]
  },
  {
   "cell_type": "code",
   "execution_count": 307,
   "id": "815052a2",
   "metadata": {},
   "outputs": [],
   "source": [
    "adbd = adbd.fillna(value=modes_df)"
   ]
  },
  {
   "cell_type": "code",
   "execution_count": 308,
   "id": "a67bc4cd",
   "metadata": {},
   "outputs": [
    {
     "data": {
      "text/plain": [
       "date                       0\n",
       "Affiliate Name             0\n",
       "Class Name                 0\n",
       "Result                     0\n",
       "Performance Result Type    0\n",
       "                          ..\n",
       "barbell_lift               0\n",
       "set_details                0\n",
       "notes                      0\n",
       "rx_or_scaled               0\n",
       "pr                         0\n",
       "Length: 77, dtype: int64"
      ]
     },
     "execution_count": 308,
     "metadata": {},
     "output_type": "execute_result"
    }
   ],
   "source": [
    "adbd.isna().sum()"
   ]
  },
  {
   "cell_type": "code",
   "execution_count": 372,
   "id": "2e828db9",
   "metadata": {},
   "outputs": [
    {
     "data": {
      "text/plain": [
       "Index(['date', 'Affiliate Name', 'Class Name', 'Result',\n",
       "       'Performance Result Type', 'From Weightlifting Total', 'lift_component',\n",
       "       'is_lift_pr', 'lift_pr_description', 'Component(2)',\n",
       "       'Fully Formatted Result', 'Is Rx', 'Is Rx Plus', 'Result Type Label',\n",
       "       'Full Comment', 'metcon_component', 'is_metcon_pr', 'wod', 'Rep Scheme',\n",
       "       'Personal Record Text', 'Peformance Result Date', 'pr_component',\n",
       "       'resource_state', 'distance', 'moving_time', 'elapsed_time',\n",
       "       'total_elevation_gain', 'type', 'sport_type', 'id', 'start_date',\n",
       "       'timezone', 'utc_offset', 'achievement_count', 'kudos_count',\n",
       "       'comment_count', 'athlete_count', 'photo_count', 'trainer', 'commute',\n",
       "       'manual', 'private', 'visibility', 'flagged', 'start_latlng',\n",
       "       'end_latlng', 'average_speed', 'max_speed', 'has_heartrate',\n",
       "       'average_heartrate', 'max_heartrate', 'heartrate_opt_out',\n",
       "       'display_hide_heartrate_option', 'upload_id', 'upload_id_str',\n",
       "       'external_id', 'from_accepted_tag', 'pr_count', 'total_photo_count',\n",
       "       'has_kudoed', 'workout_type', 'average_watts', 'kilojoules',\n",
       "       'device_watts', 'elev_high', 'elev_low', 'start_time', 'strava_name',\n",
       "       'title', 'best_result_raw', 'best_result_display', 'score_type',\n",
       "       'barbell_lift', 'set_details', 'notes', 'rx_or_scaled', 'pr'],\n",
       "      dtype='object')"
      ]
     },
     "execution_count": 372,
     "metadata": {},
     "output_type": "execute_result"
    }
   ],
   "source": [
    "adbd.columns"
   ]
  },
  {
   "cell_type": "markdown",
   "id": "5f34af8d",
   "metadata": {},
   "source": [
    "### use moving_time, type, start_time, is_metcon_pr, pr to predict average_heartrate and max_heartrate\n",
    "\n",
    "#### create independent (predictors) and dependent (target) variables as PyTorch tensors\n",
    "\n",
    "#### to do this, first create a new dataframe with the columns I want to work with\n",
    "\n",
    "#### ensure column values are all numeric"
   ]
  },
  {
   "cell_type": "code",
   "execution_count": 407,
   "id": "fd1e6517",
   "metadata": {},
   "outputs": [],
   "source": [
    "sub_table = adbd[['moving_time', 'type', 'is_metcon_pr', 'pr', 'start_time', 'average_heartrate', 'max_heartrate']].copy()\n",
    "\n",
    "# Convert moving_time from object to int64\n",
    "\n",
    "sub_table['moving_time'] = sub_table['moving_time'].astype('int64')\n",
    "\n",
    "# Convert the start_time column to the number of seconds\n",
    "\n",
    "sub_table['start_time'] = pd.to_datetime(sub_table['start_time'])\n",
    "\n",
    "sub_table['start_time'] = (sub_table['start_time'].dt.hour*60+sub_table['start_time'].dt.minute)*60 + sub_table['start_time'].dt.second\n",
    "\n",
    "# Convert type column to integers representing each possible value\n",
    "\n",
    "# sub_table = pd.get_dummies(sub_table, columns=[\"type\"])\n",
    "\n",
    "sub_table['type'] = pd.Categorical(sub_table.type)\n",
    "\n",
    "# convert pr column to boolean based on empty string \n",
    "\n",
    "d = {'PR': True, '': False}\n",
    "\n",
    "sub_table['pr'] = sub_table['pr'].map(d)\n",
    "\n",
    "sub_table['pr'] = pd.Categorical(sub_table.pr)\n",
    "\n",
    "sub_table['is_metcon_pr'] = pd.Categorical(sub_table.is_metcon_pr)"
   ]
  },
  {
   "cell_type": "code",
   "execution_count": 408,
   "id": "4f03c26f",
   "metadata": {},
   "outputs": [
    {
     "data": {
      "text/plain": [
       "0    6\n",
       "1    3\n",
       "2    3\n",
       "3    2\n",
       "4    3\n",
       "dtype: int8"
      ]
     },
     "execution_count": 408,
     "metadata": {},
     "output_type": "execute_result"
    }
   ],
   "source": [
    "# sub_table.type.head()\n",
    "\n",
    "sub_table.type.cat.codes.head()"
   ]
  },
  {
   "cell_type": "code",
   "execution_count": 403,
   "id": "0c0c5bc3",
   "metadata": {},
   "outputs": [
    {
     "data": {
      "image/png": "[encoded data removed]",
      "text/plain": [
       "<Figure size 1100x500 with 2 Axes>"
      ]
     },
     "metadata": {},
     "output_type": "display_data"
    }
   ],
   "source": [
    "fig,axs = plt.subplots(1,2, figsize=(11,5))\n",
    "sns.barplot(data=sub_table, y=\"average_heartrate\", x=\"type\", ax=axs[0]).set(title=\"\")\n",
    "sns.countplot(data=sub_table, x=\"type\", ax=axs[1]).set(title=\"Histogram\");"
   ]
  },
  {
   "cell_type": "code",
   "execution_count": 404,
   "id": "9b75c3a4",
   "metadata": {},
   "outputs": [
    {
     "data": {
      "image/png": "[encoded data removed]",
      "text/plain": [
       "<Figure size 1100x500 with 2 Axes>"
      ]
     },
     "metadata": {},
     "output_type": "display_data"
    }
   ],
   "source": [
    "fig,axs = plt.subplots(1,2, figsize=(11,5))\n",
    "sns.barplot(data=sub_table, y=\"average_heartrate\", x=\"pr\", ax=axs[0]).set(title=\"\")\n",
    "sns.countplot(data=sub_table, x=\"pr\", ax=axs[1]).set(title=\"Histogram\");"
   ]
  },
  {
   "cell_type": "code",
   "execution_count": 406,
   "id": "38022721",
   "metadata": {},
   "outputs": [
    {
     "data": {
      "image/png": "[encoded data removed]",
      "text/plain": [
       "<Figure size 1100x500 with 2 Axes>"
      ]
     },
     "metadata": {},
     "output_type": "display_data"
    }
   ],
   "source": [
    "fig,axs = plt.subplots(1,2, figsize=(11,5))\n",
    "sns.boxenplot(data=sub_table, x=\"average_heartrate\", y=\"start_time\", ax=axs[0])\n",
    "sns.kdeplot(data=sub_table, x=\"start_time\", ax=axs[1]);"
   ]
  },
  {
   "cell_type": "code",
   "execution_count": 409,
   "id": "19501d28",
   "metadata": {},
   "outputs": [
    {
     "data": {
      "image/png": "[encoded data removed]",
      "text/plain": [
       "<Figure size 1100x500 with 2 Axes>"
      ]
     },
     "metadata": {},
     "output_type": "display_data"
    }
   ],
   "source": [
    "fig,axs = plt.subplots(1,2, figsize=(11,5))\n",
    "sns.barplot(data=sub_table, y=\"max_heartrate\", x=\"type\", ax=axs[0]).set(title=\"\")\n",
    "sns.countplot(data=sub_table, x=\"type\", ax=axs[1]).set(title=\"Histogram\");"
   ]
  },
  {
   "cell_type": "code",
   "execution_count": 411,
   "id": "096a95ea",
   "metadata": {},
   "outputs": [
    {
     "data": {
      "image/png": "[encoded data removed]",
      "text/plain": [
       "<Figure size 1100x500 with 2 Axes>"
      ]
     },
     "metadata": {},
     "output_type": "display_data"
    }
   ],
   "source": [
    "fig,axs = plt.subplots(1,2, figsize=(11,5))\n",
    "sns.boxenplot(data=sub_table, x=\"max_heartrate\", y=\"moving_time\", ax=axs[0])\n",
    "sns.kdeplot(data=sub_table, x=\"moving_time\", ax=axs[1]);"
   ]
  },
  {
   "cell_type": "markdown",
   "id": "ea1047ba",
   "metadata": {},
   "source": [
    "### Create a OneR Model\n",
    "\n",
    "#### How to create a OneR for Average Heartrate from Type (Categorical Variable)?\n",
    "\n",
    "#### Create a Train and Test Split and replace categorical variables with their integer codes"
   ]
  },
  {
   "cell_type": "code",
   "execution_count": 420,
   "id": "d93b8e66",
   "metadata": {},
   "outputs": [],
   "source": [
    "from sklearn.model_selection import train_test_split\n",
    "\n",
    "np.random.seed(42)\n",
    "\n",
    "# Define which columns are categorical and which are continuous\n",
    "# Define the dependent variable\n",
    "\n",
    "conts = ['moving_time', 'start_time', 'max_heartrate']\n",
    "cats = ['type', 'pr', 'is_metcon_pr']\n",
    "dep = 'average_heartrate'\n",
    "\n",
    "trn_df,val_df = train_test_split(sub_table, test_size=0.25)\n",
    "trn_df[cats] = trn_df[cats].apply(lambda x: x.cat.codes)\n",
    "val_df[cats] = val_df[cats].apply(lambda x: x.cat.codes)"
   ]
  },
  {
   "cell_type": "markdown",
   "id": "43a413b9",
   "metadata": {},
   "source": [
    "#### Separate into groups the independent variables (the x variables) and dependent (the y variable) in the train and test sets"
   ]
  },
  {
   "cell_type": "code",
   "execution_count": 421,
   "id": "7dd99234",
   "metadata": {},
   "outputs": [],
   "source": [
    "def xs_y(df):\n",
    "    xs = df[cats+conts].copy()\n",
    "    return xs,df[dep] if dep in df else None\n",
    "\n",
    "trn_xs,trn_y = xs_y(trn_df)\n",
    "val_xs,val_y = xs_y(val_df)"
   ]
  },
  {
   "cell_type": "markdown",
   "id": "a72f993c",
   "metadata": {},
   "source": [
    "#### Measure the similarity of rows by taking the standard deviation of the dependent variable\n",
    "\n",
    "#### If it's higher, then it means the rows are more different to each other. "
   ]
  },
  {
   "cell_type": "code",
   "execution_count": 422,
   "id": "efc4054d",
   "metadata": {},
   "outputs": [],
   "source": [
    "def _side_score(side, y):\n",
    "    tot = side.sum()\n",
    "    if tot<=1: return 0\n",
    "    return y[side].std()*tot"
   ]
  },
  {
   "cell_type": "markdown",
   "id": "a225b4a1",
   "metadata": {},
   "source": [
    "#### calculate the score for a split by adding up the scores for the \"left hand side\" (lhs) and \"right hand side\" (rhs)"
   ]
  },
  {
   "cell_type": "code",
   "execution_count": 423,
   "id": "5d7b5ffe",
   "metadata": {},
   "outputs": [],
   "source": [
    "def score(col, y, split):\n",
    "    lhs = col<=split\n",
    "    return (_side_score(lhs,y) + _side_score(~lhs,y))/len(y)"
   ]
  },
  {
   "cell_type": "markdown",
   "id": "2b71dcdf",
   "metadata": {},
   "source": [
    "#### The 'impurity' score for a split on type"
   ]
  },
  {
   "cell_type": "code",
   "execution_count": 424,
   "id": "fbd72308",
   "metadata": {},
   "outputs": [
    {
     "data": {
      "text/plain": [
       "16.907257919567588"
      ]
     },
     "execution_count": 424,
     "metadata": {},
     "output_type": "execute_result"
    }
   ],
   "source": [
    "score(trn_xs['type'], trn_y, 0.5)"
   ]
  },
  {
   "cell_type": "markdown",
   "id": "f63ae21b",
   "metadata": {},
   "source": [
    "#### Pretty bad. I can, however, ask the machine to find the best split point on 'type'\n",
    "\n",
    "#### To start, make a list of all the unique values of the 'type' column"
   ]
  },
  {
   "cell_type": "code",
   "execution_count": 425,
   "id": "7c50d6d8",
   "metadata": {},
   "outputs": [
    {
     "data": {
      "text/plain": [
       "array([0, 1, 2, 3, 4, 5, 6], dtype=int8)"
      ]
     },
     "execution_count": 425,
     "metadata": {},
     "output_type": "execute_result"
    }
   ],
   "source": [
    "col = trn_xs['type']\n",
    "unq = col.unique()\n",
    "unq.sort()\n",
    "unq"
   ]
  },
  {
   "cell_type": "markdown",
   "id": "8bba469a",
   "metadata": {},
   "source": [
    "#### Find where impurity score is lowest"
   ]
  },
  {
   "cell_type": "code",
   "execution_count": 429,
   "id": "1c46353d",
   "metadata": {},
   "outputs": [
    {
     "data": {
      "text/plain": [
       "5"
      ]
     },
     "execution_count": 429,
     "metadata": {},
     "output_type": "execute_result"
    }
   ],
   "source": [
    "scores = np.array([score(col, trn_y, o) for o in unq if not np.isnan(o)])\n",
    "unq[scores.argmin()]"
   ]
  },
  {
   "cell_type": "code",
   "execution_count": 432,
   "id": "98fbb4d9",
   "metadata": {},
   "outputs": [
    {
     "data": {
      "text/plain": [
       "Index(['AlpineSki', 'Crossfit', 'Ride', 'Run', 'Swim', 'Walk', 'Workout'], dtype='string')"
      ]
     },
     "execution_count": 432,
     "metadata": {},
     "output_type": "execute_result"
    }
   ],
   "source": [
    "sub_table.type.cat.categories"
   ]
  },
  {
   "cell_type": "markdown",
   "id": "898733ca",
   "metadata": {},
   "source": [
    "#### So whether or not the workout type is 'Walk' is the largest determining factor\n",
    "\n",
    "#### To try all the columns for which provides the best binary split:"
   ]
  },
  {
   "cell_type": "code",
   "execution_count": 433,
   "id": "4ebd9da6",
   "metadata": {},
   "outputs": [],
   "source": [
    "def min_col(df, nm):\n",
    "    col,y = df[nm],df[dep]\n",
    "    unq = col.dropna().unique()\n",
    "    scores = np.array([score(col, y, o) for o in unq if not np.isnan(o)])\n",
    "    idx = scores.argmin()\n",
    "    return unq[idx],scores[idx]"
   ]
  },
  {
   "cell_type": "code",
   "execution_count": 434,
   "id": "53910e44",
   "metadata": {},
   "outputs": [
    {
     "data": {
      "text/plain": [
       "{'type': (5, 16.77631997595778),\n",
       " 'pr': (0, 17.11155346860214),\n",
       " 'is_metcon_pr': (0, 17.11155346860214),\n",
       " 'moving_time': (1928, 15.763039170079708),\n",
       " 'start_time': (25353, 16.417651586325533),\n",
       " 'max_heartrate': (171, 14.408921458769045)}"
      ]
     },
     "execution_count": 434,
     "metadata": {},
     "output_type": "execute_result"
    }
   ],
   "source": [
    "cols = cats+conts\n",
    "\n",
    "{o:min_col(trn_df, o) for o in cols}"
   ]
  },
  {
   "cell_type": "code",
   "execution_count": null,
   "id": "2bb7e2a5",
   "metadata": {},
   "outputs": [],
   "source": []
  }
 ],
 "metadata": {
  "kernelspec": {
   "display_name": "Python 3 (ipykernel)",
   "language": "python",
   "name": "python3"
  },
  "language_info": {
   "codemirror_mode": {
    "name": "ipython",
    "version": 3
   },
   "file_extension": ".py",
   "mimetype": "text/x-python",
   "name": "python",
   "nbconvert_exporter": "python",
   "pygments_lexer": "ipython3",
   "version": "3.9.12"
  }
 },
 "nbformat": 4,
 "nbformat_minor": 5
}
