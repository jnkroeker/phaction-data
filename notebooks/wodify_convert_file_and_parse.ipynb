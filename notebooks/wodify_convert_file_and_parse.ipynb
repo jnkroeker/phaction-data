{
 "cells": [
  {
   "cell_type": "code",
   "execution_count": 1,
   "id": "fb5712c6",
   "metadata": {},
   "outputs": [],
   "source": [
    "import pandas as pd"
   ]
  },
  {
   "cell_type": "code",
   "execution_count": 2,
   "id": "85fea1b5",
   "metadata": {},
   "outputs": [],
   "source": [
    "read_lifts = pd.read_excel('../observations/wodify/PerformanceResults.xlsx')\n",
    "read_metcons = pd.read_excel('../observations/wodify/PerformanceResultsMetcons.xlsx')\n",
    "read_prs = pd.read_excel('../observations/wodify/PerformanceResultsPRs.xlsx')"
   ]
  },
  {
   "cell_type": "code",
   "execution_count": 4,
   "id": "2f0f1b82",
   "metadata": {},
   "outputs": [
    {
     "data": {
      "text/plain": [
       "Index(['Date', 'Component', 'Affiliate Name', 'Class Name', 'Result',\n",
       "       'Is Personal Record', 'Personal Record Description',\n",
       "       'Performance Result Type', 'Comment', 'From Weightlifting Total'],\n",
       "      dtype='object')"
      ]
     },
     "execution_count": 4,
     "metadata": {},
     "output_type": "execute_result"
    }
   ],
   "source": [
    "# merge these into one dataframe (by date)\n",
    "# merge this data with sugarwod\n",
    "read_lifts.columns"
   ]
  },
  {
   "cell_type": "code",
   "execution_count": 5,
   "id": "b37a9d86",
   "metadata": {},
   "outputs": [
    {
     "data": {
      "text/plain": [
       "Index(['Date', 'Component', 'Component Description', 'Component(2)',\n",
       "       'Affiliate Name', 'Class Name', 'Fully Formatted Result',\n",
       "       'Is Personal Record', 'Personal Record Description', 'Is Rx',\n",
       "       'Is Rx Plus', 'Result Type Label', 'Full Comment'],\n",
       "      dtype='object')"
      ]
     },
     "execution_count": 5,
     "metadata": {},
     "output_type": "execute_result"
    }
   ],
   "source": [
    "read_metcons.columns"
   ]
  },
  {
   "cell_type": "code",
   "execution_count": 6,
   "id": "94856081",
   "metadata": {},
   "outputs": [
    {
     "data": {
      "text/plain": [
       "Index(['Performance Result Date', 'Component Name', 'Result', 'Rep Scheme',\n",
       "       'Performance Result Comment', 'Class Name', 'Personal Record Text'],\n",
       "      dtype='object')"
      ]
     },
     "execution_count": 6,
     "metadata": {},
     "output_type": "execute_result"
    }
   ],
   "source": [
    "read_prs.columns"
   ]
  },
  {
   "cell_type": "code",
   "execution_count": null,
   "id": "30ea928c",
   "metadata": {},
   "outputs": [],
   "source": []
  }
 ],
 "metadata": {
  "kernelspec": {
   "display_name": "Python 3 (ipykernel)",
   "language": "python",
   "name": "python3"
  },
  "language_info": {
   "codemirror_mode": {
    "name": "ipython",
    "version": 3
   },
   "file_extension": ".py",
   "mimetype": "text/x-python",
   "name": "python",
   "nbconvert_exporter": "python",
   "pygments_lexer": "ipython3",
   "version": "3.9.12"
  }
 },
 "nbformat": 4,
 "nbformat_minor": 5
}
