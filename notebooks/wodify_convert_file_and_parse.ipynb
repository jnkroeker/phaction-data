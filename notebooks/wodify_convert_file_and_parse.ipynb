{
 "cells": [
  {
   "cell_type": "code",
   "execution_count": 1,
   "id": "fb5712c6",
   "metadata": {},
   "outputs": [],
   "source": [
    "import pandas as pd"
   ]
  },
  {
   "cell_type": "code",
   "execution_count": 2,
   "id": "85fea1b5",
   "metadata": {},
   "outputs": [],
   "source": [
    "read_lifts = pd.read_excel('../observations/wodify/PerformanceResults.xlsx')\n",
    "read_metcons = pd.read_excel('../observations/wodify/PerformanceResultsMetcons.xlsx')\n",
    "read_prs = pd.read_excel('../observations/wodify/PerformanceResultsPRs.xlsx')"
   ]
  },
  {
   "cell_type": "code",
   "execution_count": null,
   "id": "2f0f1b82",
   "metadata": {},
   "outputs": [],
   "source": [
    "# merge these into one dataframe (by date)\n",
    "# merge this data with sugarwod"
   ]
  }
 ],
 "metadata": {
  "kernelspec": {
   "display_name": "Python 3 (ipykernel)",
   "language": "python",
   "name": "python3"
  },
  "language_info": {
   "codemirror_mode": {
    "name": "ipython",
    "version": 3
   },
   "file_extension": ".py",
   "mimetype": "text/x-python",
   "name": "python",
   "nbconvert_exporter": "python",
   "pygments_lexer": "ipython3",
   "version": "3.9.12"
  }
 },
 "nbformat": 4,
 "nbformat_minor": 5
}
