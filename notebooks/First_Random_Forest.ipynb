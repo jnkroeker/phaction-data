{
 "cells": [
  {
   "cell_type": "code",
   "execution_count": 43,
   "id": "af6c9f0e",
   "metadata": {},
   "outputs": [],
   "source": [
    "import numpy as np\n",
    "import pandas as pd\n",
    "import glob\n",
    "from datetime import datetime\n",
    "import matplotlib.pyplot as plt\n",
    "import seaborn as sns"
   ]
  },
  {
   "cell_type": "markdown",
   "id": "626bee6b",
   "metadata": {},
   "source": [
    "### Merge Wodify, SugarWOD and Strava into one table\n",
    "\n",
    "Starting where data_discovery_manipulation notebook left off, merge full data tables"
   ]
  },
  {
   "cell_type": "code",
   "execution_count": 44,
   "id": "3ce1cd2f",
   "metadata": {},
   "outputs": [],
   "source": [
    "strava = pd.read_json('../observations/strava/activities.json')\n",
    "sugarwod = pd.read_csv('../observations/sugarwod/workouts.csv')\n",
    "wodify_lifts = pd.read_excel('../observations/wodify/PerformanceResults.xlsx')\n",
    "wodify_metcons = pd.read_excel('../observations/wodify/PerformanceResultsMetcons.xlsx')\n",
    "wodify_prs = pd.read_excel('../observations/wodify/PerformanceResultsPRs.xlsx')"
   ]
  },
  {
   "cell_type": "markdown",
   "id": "796c4d84",
   "metadata": {},
   "source": [
    "#### Make a 'date' column in each Dataframe of the same format "
   ]
  },
  {
   "cell_type": "code",
   "execution_count": 45,
   "id": "c8cb87bb",
   "metadata": {},
   "outputs": [],
   "source": [
    "strava['start_date_local'] = pd.to_datetime(strava['start_date_local'])\n",
    "strava['start_time'] = strava['start_date_local'].dt.strftime('%H:%M:%S')\n",
    "\n",
    "strava['date'] = strava['start_date_local'].dt.strftime('%Y-%m-%d')\n",
    "strava = strava.drop(columns=['start_date_local'])\n",
    "\n",
    "strava['strava_name'] = strava['name']\n",
    "strava = strava.drop(columns=['name'])\n",
    "\n",
    "sugarwod['date'] = pd.to_datetime(sugarwod['date'])\n",
    "sugarwod['date'] = sugarwod['date'].dt.strftime('%Y-%m-%d')\n",
    "\n",
    "wodify_lifts['date'] = wodify_lifts['Date'].dt.strftime('%Y-%m-%d')\n",
    "wodify_lifts = wodify_lifts.drop(columns=['Date'])\n",
    "\n",
    "wodify_metcons['date'] = wodify_metcons['Date'].dt.strftime('%Y-%m-%d')\n",
    "wodify_metcons = wodify_metcons.drop(columns=['Date'])\n",
    "\n",
    "wodify_prs['Peformance Result Date'] = pd.to_datetime(wodify_prs['Performance Result Date'])\n",
    "wodify_prs['date'] = wodify_prs['Performance Result Date'].dt.strftime('%Y-%m-%d')\n",
    "wodify_prs = wodify_prs.drop(columns=['Performance Result Date'])"
   ]
  },
  {
   "cell_type": "markdown",
   "id": "95cc1db4",
   "metadata": {},
   "source": [
    "#### Rename duplicate columns names where merges would result in data loss"
   ]
  },
  {
   "cell_type": "code",
   "execution_count": 46,
   "id": "872f5f97",
   "metadata": {},
   "outputs": [],
   "source": [
    "wodify_lifts['lift_component'] = wodify_lifts['Component']\n",
    "wodify_lifts = wodify_lifts.drop(columns=['Component'])\n",
    "\n",
    "wodify_metcons['metcon_component'] = wodify_metcons['Component']\n",
    "wodify_metcons = wodify_metcons.drop(columns=['Component'])\n",
    "\n",
    "wodify_prs['pr_component'] = wodify_prs['Component Name']\n",
    "wodify_prs = wodify_prs.drop(columns=['Component Name'])\n",
    "\n",
    "wodify_lifts['is_lift_pr'] = wodify_lifts['Is Personal Record']\n",
    "wodify_lifts['lift_pr_description'] = wodify_lifts['Personal Record Description']\n",
    "wodify_lifts = wodify_lifts.drop(columns=['Is Personal Record'])\n",
    "wodify_lifts = wodify_lifts.drop(columns=['Personal Record Description'])\n",
    "\n",
    "wodify_metcons['is_metcon_pr'] = wodify_metcons['Is Personal Record']\n",
    "wodify_metcons['metcon_pr_description'] = wodify_metcons['Personal Record Description']\n",
    "wodify_metcons = wodify_metcons.drop(columns=['Is Personal Record'])\n",
    "wodify_metcons = wodify_metcons.drop(columns=['Personal Record Description'])"
   ]
  },
  {
   "cell_type": "markdown",
   "id": "29c1a01a",
   "metadata": {},
   "source": [
    "#### Text describing the CrossFit workout is in the 'description' column on SugarWOD and the 'Component Description' of Wodify\n",
    "\n",
    "#### Rename these so they will merge on concatenation: this is safe so long as there is one WOD performed per day\n",
    "\n",
    "#### Rethink if there becomes a case where two different WODs are performed on the same day on different apps"
   ]
  },
  {
   "cell_type": "code",
   "execution_count": 48,
   "id": "5d779d11",
   "metadata": {},
   "outputs": [],
   "source": [
    "wodify_metcons['wod'] = wodify_metcons['Component Description']\n",
    "wodify_metcons = wodify_metcons.drop(columns=['Component Description'])\n",
    "\n",
    "sugarwod['wod'] = sugarwod['description']\n",
    "sugarwod = sugarwod.drop(columns=['description'])"
   ]
  },
  {
   "cell_type": "markdown",
   "id": "af534299",
   "metadata": {},
   "source": [
    "#### Merge the dataframes on 'date' attribute: All the workout data for one day in each row"
   ]
  },
  {
   "cell_type": "code",
   "execution_count": 49,
   "id": "153883db",
   "metadata": {},
   "outputs": [
    {
     "data": {
      "text/html": [
       "<div>\n",
       "<style scoped>\n",
       "    .dataframe tbody tr th:only-of-type {\n",
       "        vertical-align: middle;\n",
       "    }\n",
       "\n",
       "    .dataframe tbody tr th {\n",
       "        vertical-align: top;\n",
       "    }\n",
       "\n",
       "    .dataframe thead th {\n",
       "        text-align: right;\n",
       "    }\n",
       "</style>\n",
       "<table border=\"1\" class=\"dataframe\">\n",
       "  <thead>\n",
       "    <tr style=\"text-align: right;\">\n",
       "      <th></th>\n",
       "      <th>Affiliate Name</th>\n",
       "      <th>Class Name</th>\n",
       "      <th>Result</th>\n",
       "      <th>Performance Result Type</th>\n",
       "      <th>Comment</th>\n",
       "      <th>From Weightlifting Total</th>\n",
       "      <th>date</th>\n",
       "      <th>lift_component</th>\n",
       "      <th>is_lift_pr</th>\n",
       "      <th>lift_pr_description</th>\n",
       "      <th>...</th>\n",
       "      <th>strava_name</th>\n",
       "      <th>title</th>\n",
       "      <th>best_result_raw</th>\n",
       "      <th>best_result_display</th>\n",
       "      <th>score_type</th>\n",
       "      <th>barbell_lift</th>\n",
       "      <th>set_details</th>\n",
       "      <th>notes</th>\n",
       "      <th>rx_or_scaled</th>\n",
       "      <th>pr</th>\n",
       "    </tr>\n",
       "  </thead>\n",
       "  <tbody>\n",
       "    <tr>\n",
       "      <th>4</th>\n",
       "      <td>CrossFit Cove</td>\n",
       "      <td>Cove Fitness:  Noon</td>\n",
       "      <td>1 x 5 @ 275 lbs</td>\n",
       "      <td>Weight</td>\n",
       "      <td>NaN</td>\n",
       "      <td>False</td>\n",
       "      <td>2023-01-10</td>\n",
       "      <td>Deadlift</td>\n",
       "      <td>True</td>\n",
       "      <td>PR by 20 lbs vs. 255 on 11/02/2022</td>\n",
       "      <td>...</td>\n",
       "      <td>NaN</td>\n",
       "      <td>NaN</td>\n",
       "      <td>NaN</td>\n",
       "      <td>NaN</td>\n",
       "      <td>NaN</td>\n",
       "      <td>NaN</td>\n",
       "      <td>NaN</td>\n",
       "      <td>NaN</td>\n",
       "      <td>NaN</td>\n",
       "      <td>NaN</td>\n",
       "    </tr>\n",
       "    <tr>\n",
       "      <th>14</th>\n",
       "      <td>CrossFit Cove</td>\n",
       "      <td>Cove Fitness:  Noon</td>\n",
       "      <td>NaN</td>\n",
       "      <td>NaN</td>\n",
       "      <td>NaN</td>\n",
       "      <td>NaN</td>\n",
       "      <td>2023-01-10</td>\n",
       "      <td>NaN</td>\n",
       "      <td>NaN</td>\n",
       "      <td>NaN</td>\n",
       "      <td>...</td>\n",
       "      <td>NaN</td>\n",
       "      <td>NaN</td>\n",
       "      <td>NaN</td>\n",
       "      <td>NaN</td>\n",
       "      <td>NaN</td>\n",
       "      <td>NaN</td>\n",
       "      <td>NaN</td>\n",
       "      <td>NaN</td>\n",
       "      <td>NaN</td>\n",
       "      <td>NaN</td>\n",
       "    </tr>\n",
       "    <tr>\n",
       "      <th>0</th>\n",
       "      <td>NaN</td>\n",
       "      <td>Cove Fitness:  Noon</td>\n",
       "      <td>1 x 5 @ 275 lbs</td>\n",
       "      <td>NaN</td>\n",
       "      <td>NaN</td>\n",
       "      <td>NaN</td>\n",
       "      <td>2023-01-10</td>\n",
       "      <td>NaN</td>\n",
       "      <td>NaN</td>\n",
       "      <td>NaN</td>\n",
       "      <td>...</td>\n",
       "      <td>NaN</td>\n",
       "      <td>NaN</td>\n",
       "      <td>NaN</td>\n",
       "      <td>NaN</td>\n",
       "      <td>NaN</td>\n",
       "      <td>NaN</td>\n",
       "      <td>NaN</td>\n",
       "      <td>NaN</td>\n",
       "      <td>NaN</td>\n",
       "      <td>NaN</td>\n",
       "    </tr>\n",
       "  </tbody>\n",
       "</table>\n",
       "<p>3 rows × 86 columns</p>\n",
       "</div>"
      ],
      "text/plain": [
       "   Affiliate Name           Class Name           Result  \\\n",
       "4   CrossFit Cove  Cove Fitness:  Noon  1 x 5 @ 275 lbs   \n",
       "14  CrossFit Cove  Cove Fitness:  Noon              NaN   \n",
       "0             NaN  Cove Fitness:  Noon  1 x 5 @ 275 lbs   \n",
       "\n",
       "   Performance Result Type  Comment From Weightlifting Total        date  \\\n",
       "4                   Weight      NaN                    False  2023-01-10   \n",
       "14                     NaN      NaN                      NaN  2023-01-10   \n",
       "0                      NaN      NaN                      NaN  2023-01-10   \n",
       "\n",
       "   lift_component is_lift_pr                 lift_pr_description  ...  \\\n",
       "4        Deadlift       True  PR by 20 lbs vs. 255 on 11/02/2022  ...   \n",
       "14            NaN        NaN                                 NaN  ...   \n",
       "0             NaN        NaN                                 NaN  ...   \n",
       "\n",
       "    strava_name title best_result_raw best_result_display score_type  \\\n",
       "4           NaN   NaN             NaN                 NaN        NaN   \n",
       "14          NaN   NaN             NaN                 NaN        NaN   \n",
       "0           NaN   NaN             NaN                 NaN        NaN   \n",
       "\n",
       "   barbell_lift set_details notes  rx_or_scaled   pr  \n",
       "4           NaN         NaN   NaN           NaN  NaN  \n",
       "14          NaN         NaN   NaN           NaN  NaN  \n",
       "0           NaN         NaN   NaN           NaN  NaN  \n",
       "\n",
       "[3 rows x 86 columns]"
      ]
     },
     "execution_count": 49,
     "metadata": {},
     "output_type": "execute_result"
    }
   ],
   "source": [
    "wodify_all = pd.concat([wodify_lifts, wodify_metcons, wodify_prs])\n",
    "\n",
    "all_data = pd.concat([wodify_all, strava, sugarwod])\n",
    "\n",
    "all_data.loc[all_data['date'] == '2023-01-10']"
   ]
  },
  {
   "cell_type": "code",
   "execution_count": 50,
   "id": "dc2440b7",
   "metadata": {},
   "outputs": [
    {
     "data": {
      "text/html": [
       "<div>\n",
       "<style scoped>\n",
       "    .dataframe tbody tr th:only-of-type {\n",
       "        vertical-align: middle;\n",
       "    }\n",
       "\n",
       "    .dataframe tbody tr th {\n",
       "        vertical-align: top;\n",
       "    }\n",
       "\n",
       "    .dataframe thead th {\n",
       "        text-align: right;\n",
       "    }\n",
       "</style>\n",
       "<table border=\"1\" class=\"dataframe\">\n",
       "  <thead>\n",
       "    <tr style=\"text-align: right;\">\n",
       "      <th></th>\n",
       "      <th>date</th>\n",
       "      <th>Affiliate Name</th>\n",
       "      <th>Class Name</th>\n",
       "      <th>Result</th>\n",
       "      <th>Performance Result Type</th>\n",
       "      <th>Comment</th>\n",
       "      <th>From Weightlifting Total</th>\n",
       "      <th>lift_component</th>\n",
       "      <th>is_lift_pr</th>\n",
       "      <th>lift_pr_description</th>\n",
       "      <th>...</th>\n",
       "      <th>strava_name</th>\n",
       "      <th>title</th>\n",
       "      <th>best_result_raw</th>\n",
       "      <th>best_result_display</th>\n",
       "      <th>score_type</th>\n",
       "      <th>barbell_lift</th>\n",
       "      <th>set_details</th>\n",
       "      <th>notes</th>\n",
       "      <th>rx_or_scaled</th>\n",
       "      <th>pr</th>\n",
       "    </tr>\n",
       "  </thead>\n",
       "  <tbody>\n",
       "    <tr>\n",
       "      <th>219</th>\n",
       "      <td>2023-01-10</td>\n",
       "      <td>CrossFit Cove</td>\n",
       "      <td>Cove Fitness:  Noon</td>\n",
       "      <td>1 x 5 @ 275 lbs</td>\n",
       "      <td>Weight</td>\n",
       "      <td>NaN</td>\n",
       "      <td>False</td>\n",
       "      <td>Deadlift</td>\n",
       "      <td>True</td>\n",
       "      <td>PR by 20 lbs vs. 255 on 11/02/2022</td>\n",
       "      <td>...</td>\n",
       "      <td>None</td>\n",
       "      <td>None</td>\n",
       "      <td>NaN</td>\n",
       "      <td>None</td>\n",
       "      <td>None</td>\n",
       "      <td>None</td>\n",
       "      <td>None</td>\n",
       "      <td>None</td>\n",
       "      <td>None</td>\n",
       "      <td>None</td>\n",
       "    </tr>\n",
       "  </tbody>\n",
       "</table>\n",
       "<p>1 rows × 86 columns</p>\n",
       "</div>"
      ],
      "text/plain": [
       "           date Affiliate Name           Class Name           Result  \\\n",
       "219  2023-01-10  CrossFit Cove  Cove Fitness:  Noon  1 x 5 @ 275 lbs   \n",
       "\n",
       "    Performance Result Type  Comment From Weightlifting Total lift_component  \\\n",
       "219                  Weight      NaN                    False       Deadlift   \n",
       "\n",
       "    is_lift_pr                 lift_pr_description  ...  strava_name title  \\\n",
       "219       True  PR by 20 lbs vs. 255 on 11/02/2022  ...         None  None   \n",
       "\n",
       "    best_result_raw best_result_display score_type barbell_lift set_details  \\\n",
       "219             NaN                None       None         None        None   \n",
       "\n",
       "    notes  rx_or_scaled    pr  \n",
       "219  None          None  None  \n",
       "\n",
       "[1 rows x 86 columns]"
      ]
     },
     "execution_count": 50,
     "metadata": {},
     "output_type": "execute_result"
    }
   ],
   "source": [
    "all_data_by_date = all_data.groupby(all_data['date'], as_index=False).aggregate('first')\n",
    "\n",
    "all_data_by_date.loc[all_data_by_date['date'] == '2023-01-10']"
   ]
  },
  {
   "cell_type": "markdown",
   "id": "6c1c1a9e",
   "metadata": {},
   "source": [
    "#### There are 87 columns in the full merge data set. How do we verify them all?"
   ]
  },
  {
   "cell_type": "code",
   "execution_count": 51,
   "id": "4fbd03a8",
   "metadata": {},
   "outputs": [
    {
     "data": {
      "text/plain": [
       "Index(['date', 'Affiliate Name', 'Class Name', 'Result',\n",
       "       'Performance Result Type', 'Comment', 'From Weightlifting Total',\n",
       "       'lift_component', 'is_lift_pr', 'lift_pr_description', 'Component(2)',\n",
       "       'Fully Formatted Result', 'Is Rx', 'Is Rx Plus', 'Result Type Label',\n",
       "       'Full Comment', 'metcon_component', 'is_metcon_pr',\n",
       "       'metcon_pr_description', 'wod', 'Rep Scheme',\n",
       "       'Performance Result Comment', 'Personal Record Text',\n",
       "       'Peformance Result Date', 'pr_component', 'resource_state', 'athlete',\n",
       "       'distance', 'moving_time', 'elapsed_time', 'total_elevation_gain',\n",
       "       'type', 'sport_type', 'id', 'start_date', 'timezone', 'utc_offset',\n",
       "       'location_city', 'location_state', 'location_country',\n",
       "       'achievement_count', 'kudos_count', 'comment_count', 'athlete_count',\n",
       "       'photo_count', 'map', 'trainer', 'commute', 'manual', 'private',\n",
       "       'visibility', 'flagged', 'gear_id', 'start_latlng', 'end_latlng',\n",
       "       'average_speed', 'max_speed', 'has_heartrate', 'average_heartrate',\n",
       "       'max_heartrate', 'heartrate_opt_out', 'display_hide_heartrate_option',\n",
       "       'upload_id', 'upload_id_str', 'external_id', 'from_accepted_tag',\n",
       "       'pr_count', 'total_photo_count', 'has_kudoed', 'workout_type',\n",
       "       'average_watts', 'kilojoules', 'device_watts', 'elev_high', 'elev_low',\n",
       "       'start_time', 'strava_name', 'title', 'best_result_raw',\n",
       "       'best_result_display', 'score_type', 'barbell_lift', 'set_details',\n",
       "       'notes', 'rx_or_scaled', 'pr'],\n",
       "      dtype='object')"
      ]
     },
     "execution_count": 51,
     "metadata": {},
     "output_type": "execute_result"
    }
   ],
   "source": [
    "all_data_by_date.columns"
   ]
  },
  {
   "cell_type": "code",
   "execution_count": 52,
   "id": "aac5b23c",
   "metadata": {},
   "outputs": [
    {
     "data": {
      "text/plain": [
       "0      2021-07-26T21:01:22Z\n",
       "1      2021-08-04T21:35:51Z\n",
       "2      2021-08-10T21:08:33Z\n",
       "3      2021-08-14T11:36:56Z\n",
       "4      2021-08-18T20:56:44Z\n",
       "               ...         \n",
       "228                    None\n",
       "229                    None\n",
       "230                    None\n",
       "231                    None\n",
       "232                    None\n",
       "Name: start_date, Length: 233, dtype: object"
      ]
     },
     "execution_count": 52,
     "metadata": {},
     "output_type": "execute_result"
    }
   ],
   "source": [
    "all_data_by_date['start_date']"
   ]
  },
  {
   "cell_type": "code",
   "execution_count": 53,
   "id": "23ffd86b",
   "metadata": {},
   "outputs": [
    {
     "data": {
      "text/plain": [
       "0      17:01:22\n",
       "1      17:35:51\n",
       "2      17:08:33\n",
       "3      07:36:56\n",
       "4      16:56:44\n",
       "         ...   \n",
       "228        None\n",
       "229        None\n",
       "230        None\n",
       "231        None\n",
       "232        None\n",
       "Name: start_time, Length: 233, dtype: object"
      ]
     },
     "execution_count": 53,
     "metadata": {},
     "output_type": "execute_result"
    }
   ],
   "source": [
    "all_data_by_date['start_time']"
   ]
  },
  {
   "cell_type": "markdown",
   "id": "f6bd6fbb",
   "metadata": {},
   "source": [
    "#### TODO: Work to be done sorting out how to handle time: start time, end time, duration"
   ]
  },
  {
   "cell_type": "markdown",
   "id": "d637c43f",
   "metadata": {},
   "source": [
    "#### TODO: More processing on the 'wod' column to determine what the workout is"
   ]
  },
  {
   "cell_type": "code",
   "execution_count": null,
   "id": "84ea2728",
   "metadata": {},
   "outputs": [],
   "source": [
    "all_data_by_date['wod']"
   ]
  },
  {
   "cell_type": "code",
   "execution_count": null,
   "id": "9dbd2e36",
   "metadata": {},
   "outputs": [],
   "source": []
  }
 ],
 "metadata": {
  "kernelspec": {
   "display_name": "Python 3 (ipykernel)",
   "language": "python",
   "name": "python3"
  },
  "language_info": {
   "codemirror_mode": {
    "name": "ipython",
    "version": 3
   },
   "file_extension": ".py",
   "mimetype": "text/x-python",
   "name": "python",
   "nbconvert_exporter": "python",
   "pygments_lexer": "ipython3",
   "version": "3.9.12"
  }
 },
 "nbformat": 4,
 "nbformat_minor": 5
}
