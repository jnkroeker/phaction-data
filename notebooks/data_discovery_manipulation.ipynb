{
 "cells": [
  {
   "cell_type": "code",
   "execution_count": 1,
   "id": "590f3e4a",
   "metadata": {},
   "outputs": [],
   "source": [
    "from datetime import datetime\n",
    "\n",
    "import glob\n",
    "import matplotlib.pyplot as plt\n",
    "import numpy as np\n",
    "import pandas as pd\n",
    "import seaborn as sns\n",
    "import torch"
   ]
  },
  {
   "cell_type": "markdown",
   "id": "b787f7a3",
   "metadata": {},
   "source": [
    "### ========================================================\n",
    "\n",
    "# Merge SugarWOD and Strava into one Dataframe\n",
    "\n",
    "### ========================================================"
   ]
  },
  {
   "cell_type": "code",
   "execution_count": 2,
   "id": "5d4283bc",
   "metadata": {},
   "outputs": [],
   "source": [
    "strava = pd.read_json('../observations/strava/activities.json')\n",
    "sugarwod = pd.read_csv('../observations/sugarwod/workouts.csv')"
   ]
  },
  {
   "cell_type": "markdown",
   "id": "ff3b4fbb",
   "metadata": {},
   "source": [
    "Create new Strava Dataframe columns 'date' and 'start_time' from 'start_date_local.'<br/>\n",
    "This makes it easier to merge SugarWOD and Strava data on a common column.<br/>\n",
    "We can drop the 'start_date_local' column afterward, we won't need it anymore."
   ]
  },
  {
   "cell_type": "code",
   "execution_count": 3,
   "id": "da65fe00",
   "metadata": {},
   "outputs": [],
   "source": [
    "strava['start_date_local'] = pd.to_datetime(strava['start_date_local'])\n",
    "strava['start_time'] = strava['start_date_local'].dt.strftime('%H:%M:%S')\n",
    "strava['date'] = strava['start_date_local'].dt.strftime('%Y-%m-%d')\n",
    "strava = strava.drop(columns=['start_date_local'])"
   ]
  },
  {
   "cell_type": "code",
   "execution_count": 4,
   "id": "7e08c2a1",
   "metadata": {},
   "outputs": [],
   "source": [
    "# Convert sugarwod data format to datetime format\n",
    "sugarwod['date'] = pd.to_datetime(sugarwod['date'])\n",
    "sugarwod['date'] = sugarwod['date'].dt.strftime('%Y-%m-%d')"
   ]
  },
  {
   "cell_type": "code",
   "execution_count": 5,
   "id": "7afa0ed5",
   "metadata": {},
   "outputs": [
    {
     "data": {
      "text/plain": [
       "Index(['resource_state', 'athlete', 'name', 'distance', 'moving_time',\n",
       "       'elapsed_time', 'total_elevation_gain', 'type', 'sport_type', 'id',\n",
       "       'start_date', 'timezone', 'utc_offset', 'location_city',\n",
       "       'location_state', 'location_country', 'achievement_count',\n",
       "       'kudos_count', 'comment_count', 'athlete_count', 'photo_count', 'map',\n",
       "       'trainer', 'commute', 'manual', 'private', 'visibility', 'flagged',\n",
       "       'gear_id', 'start_latlng', 'end_latlng', 'average_speed', 'max_speed',\n",
       "       'has_heartrate', 'average_heartrate', 'max_heartrate',\n",
       "       'heartrate_opt_out', 'display_hide_heartrate_option', 'upload_id',\n",
       "       'upload_id_str', 'external_id', 'from_accepted_tag', 'pr_count',\n",
       "       'total_photo_count', 'has_kudoed', 'workout_type', 'average_watts',\n",
       "       'kilojoules', 'device_watts', 'elev_high', 'elev_low', 'start_time',\n",
       "       'date'],\n",
       "      dtype='object')"
      ]
     },
     "execution_count": 5,
     "metadata": {},
     "output_type": "execute_result"
    }
   ],
   "source": [
    "strava.columns"
   ]
  },
  {
   "cell_type": "code",
   "execution_count": 6,
   "id": "a6503e56",
   "metadata": {},
   "outputs": [
    {
     "data": {
      "text/plain": [
       "Index(['date', 'title', 'description', 'best_result_raw',\n",
       "       'best_result_display', 'score_type', 'barbell_lift', 'set_details',\n",
       "       'notes', 'rx_or_scaled', 'pr'],\n",
       "      dtype='object')"
      ]
     },
     "execution_count": 6,
     "metadata": {},
     "output_type": "execute_result"
    }
   ],
   "source": [
    "sugarwod.columns"
   ]
  },
  {
   "cell_type": "code",
   "execution_count": 7,
   "id": "89a82e5e",
   "metadata": {},
   "outputs": [],
   "source": [
    "# Test: Merge Strava and SugarWOD files together by date field using slimmed down dataframes for testing\n",
    "strav_test=strava[['date', 'average_heartrate', 'max_heartrate']].copy()\n",
    "sugar_test=sugarwod[['date', 'score_type', 'pr']].copy()"
   ]
  },
  {
   "cell_type": "code",
   "execution_count": 8,
   "id": "ab8dab41",
   "metadata": {},
   "outputs": [],
   "source": [
    "test = pd.concat([strav_test, sugar_test])"
   ]
  },
  {
   "cell_type": "code",
   "execution_count": 9,
   "id": "d4bf1284",
   "metadata": {},
   "outputs": [
    {
     "data": {
      "text/html": [
       "<div>\n",
       "<style scoped>\n",
       "    .dataframe tbody tr th:only-of-type {\n",
       "        vertical-align: middle;\n",
       "    }\n",
       "\n",
       "    .dataframe tbody tr th {\n",
       "        vertical-align: top;\n",
       "    }\n",
       "\n",
       "    .dataframe thead th {\n",
       "        text-align: right;\n",
       "    }\n",
       "</style>\n",
       "<table border=\"1\" class=\"dataframe\">\n",
       "  <thead>\n",
       "    <tr style=\"text-align: right;\">\n",
       "      <th></th>\n",
       "      <th>date</th>\n",
       "      <th>average_heartrate</th>\n",
       "      <th>max_heartrate</th>\n",
       "      <th>score_type</th>\n",
       "      <th>pr</th>\n",
       "    </tr>\n",
       "  </thead>\n",
       "  <tbody>\n",
       "    <tr>\n",
       "      <th>57</th>\n",
       "      <td>2022-07-20</td>\n",
       "      <td>158.1</td>\n",
       "      <td>171.0</td>\n",
       "      <td>NaN</td>\n",
       "      <td>NaN</td>\n",
       "    </tr>\n",
       "    <tr>\n",
       "      <th>60</th>\n",
       "      <td>2022-07-20</td>\n",
       "      <td>NaN</td>\n",
       "      <td>NaN</td>\n",
       "      <td>Time</td>\n",
       "      <td>PR</td>\n",
       "    </tr>\n",
       "  </tbody>\n",
       "</table>\n",
       "</div>"
      ],
      "text/plain": [
       "          date  average_heartrate  max_heartrate score_type   pr\n",
       "57  2022-07-20              158.1          171.0        NaN  NaN\n",
       "60  2022-07-20                NaN            NaN       Time   PR"
      ]
     },
     "execution_count": 9,
     "metadata": {},
     "output_type": "execute_result"
    }
   ],
   "source": [
    "# verify there are some rows where there is data for all fields\n",
    "test.loc[test['date'] == '2022-07-20']"
   ]
  },
  {
   "cell_type": "code",
   "execution_count": 10,
   "id": "e984271f",
   "metadata": {},
   "outputs": [
    {
     "data": {
      "text/html": [
       "<div>\n",
       "<style scoped>\n",
       "    .dataframe tbody tr th:only-of-type {\n",
       "        vertical-align: middle;\n",
       "    }\n",
       "\n",
       "    .dataframe tbody tr th {\n",
       "        vertical-align: top;\n",
       "    }\n",
       "\n",
       "    .dataframe thead th {\n",
       "        text-align: right;\n",
       "    }\n",
       "</style>\n",
       "<table border=\"1\" class=\"dataframe\">\n",
       "  <thead>\n",
       "    <tr style=\"text-align: right;\">\n",
       "      <th></th>\n",
       "      <th>date</th>\n",
       "      <th>average_heartrate</th>\n",
       "      <th>max_heartrate</th>\n",
       "      <th>score_type</th>\n",
       "      <th>pr</th>\n",
       "    </tr>\n",
       "  </thead>\n",
       "  <tbody>\n",
       "    <tr>\n",
       "      <th>154</th>\n",
       "      <td>2022-07-20</td>\n",
       "      <td>158.1</td>\n",
       "      <td>171.0</td>\n",
       "      <td>Time</td>\n",
       "      <td>PR</td>\n",
       "    </tr>\n",
       "  </tbody>\n",
       "</table>\n",
       "</div>"
      ],
      "text/plain": [
       "           date  average_heartrate  max_heartrate score_type  pr\n",
       "154  2022-07-20              158.1          171.0       Time  PR"
      ]
     },
     "execution_count": 10,
     "metadata": {},
     "output_type": "execute_result"
    }
   ],
   "source": [
    "# create a new DataFrame by combining rows with same date values\n",
    "# as_index \n",
    "df_new = test.groupby(test['date'], as_index=False).aggregate('first')\n",
    "\n",
    "# verify the rows are merged appropriately\n",
    "df_new.loc[df_new['date'] == '2022-07-20']"
   ]
  },
  {
   "cell_type": "markdown",
   "id": "aa58b2f7",
   "metadata": {},
   "source": [
    "### ========================================================\n",
    "\n",
    "# Merge all Wodify files together into one Dataframe\n",
    "\n",
    "### ========================================================"
   ]
  },
  {
   "cell_type": "code",
   "execution_count": 11,
   "id": "5b8385ec",
   "metadata": {},
   "outputs": [],
   "source": [
    "wodify_lifts = pd.read_excel('../observations/wodify/PerformanceResults.xlsx')\n",
    "wodify_metcons = pd.read_excel('../observations/wodify/PerformanceResultsMetcons.xlsx')\n",
    "wodify_prs = pd.read_excel('../observations/wodify/PerformanceResultsPRs.xlsx')"
   ]
  },
  {
   "cell_type": "code",
   "execution_count": 12,
   "id": "678294eb",
   "metadata": {},
   "outputs": [],
   "source": [
    "wodify_lifts['date'] = wodify_lifts['Date'].dt.strftime('%Y-%m-%d')\n",
    "wodify_lifts = wodify_lifts.drop(columns=['Date'])\n",
    "wodify_metcons['date'] = wodify_metcons['Date'].dt.strftime('%Y-%m-%d')\n",
    "wodify_metcons = wodify_metcons.drop(columns=['Date'])\n",
    "wodify_prs['Peformance Result Date'] = pd.to_datetime(wodify_prs['Performance Result Date'])\n",
    "wodify_prs['date'] = wodify_prs['Performance Result Date'].dt.strftime('%Y-%m-%d')\n",
    "wodify_prs = wodify_prs.drop(columns=['Performance Result Date'])"
   ]
  },
  {
   "cell_type": "markdown",
   "id": "18c4b527",
   "metadata": {},
   "source": [
    "### Problem: how to merge Dataframes with the same Column names and preserve the data in each?"
   ]
  },
  {
   "cell_type": "code",
   "execution_count": 13,
   "id": "f313ee23",
   "metadata": {},
   "outputs": [
    {
     "data": {
      "text/plain": [
       "Index(['Component', 'Affiliate Name', 'Class Name', 'Result',\n",
       "       'Is Personal Record', 'Personal Record Description',\n",
       "       'Performance Result Type', 'Comment', 'From Weightlifting Total',\n",
       "       'date'],\n",
       "      dtype='object')"
      ]
     },
     "execution_count": 13,
     "metadata": {},
     "output_type": "execute_result"
    }
   ],
   "source": [
    "wodify_lifts.columns"
   ]
  },
  {
   "cell_type": "code",
   "execution_count": 14,
   "id": "a7f4893f",
   "metadata": {},
   "outputs": [
    {
     "data": {
      "text/plain": [
       "Index(['Component', 'Component Description', 'Component(2)', 'Affiliate Name',\n",
       "       'Class Name', 'Fully Formatted Result', 'Is Personal Record',\n",
       "       'Personal Record Description', 'Is Rx', 'Is Rx Plus',\n",
       "       'Result Type Label', 'Full Comment', 'date'],\n",
       "      dtype='object')"
      ]
     },
     "execution_count": 14,
     "metadata": {},
     "output_type": "execute_result"
    }
   ],
   "source": [
    "wodify_metcons.columns"
   ]
  },
  {
   "cell_type": "code",
   "execution_count": 15,
   "id": "6c83629a",
   "metadata": {},
   "outputs": [
    {
     "data": {
      "text/plain": [
       "Index(['Component Name', 'Result', 'Rep Scheme', 'Performance Result Comment',\n",
       "       'Class Name', 'Personal Record Text', 'Peformance Result Date', 'date'],\n",
       "      dtype='object')"
      ]
     },
     "execution_count": 15,
     "metadata": {},
     "output_type": "execute_result"
    }
   ],
   "source": [
    "wodify_prs.columns"
   ]
  },
  {
   "cell_type": "markdown",
   "id": "856e3e3d",
   "metadata": {},
   "source": [
    "### 6 Overlapping Columns May Pose Issues "
   ]
  },
  {
   "cell_type": "markdown",
   "id": "b3008f87",
   "metadata": {},
   "source": [
    "Date, Component, Affiliate Name, Class Name, Is Personal Record, Personal Record Description.\n",
    "\n",
    "Look at each of these columns to infer how they may be merged."
   ]
  },
  {
   "cell_type": "code",
   "execution_count": 16,
   "id": "2e53279f",
   "metadata": {},
   "outputs": [],
   "source": [
    "lift_overlap = wodify_lifts[['date', 'Component', 'Affiliate Name', 'Class Name', 'Is Personal Record', 'Personal Record Description']].copy()\n",
    "metcon_overlap = wodify_metcons[['date', 'Component', 'Affiliate Name', 'Class Name', 'Is Rx', 'Is Personal Record', 'Personal Record Description']].copy()\n",
    "prs_overlap = wodify_prs[['date', 'Peformance Result Date', 'Class Name']].copy()"
   ]
  },
  {
   "cell_type": "code",
   "execution_count": 17,
   "id": "585f1a11",
   "metadata": {},
   "outputs": [
    {
     "data": {
      "text/html": [
       "<div>\n",
       "<style scoped>\n",
       "    .dataframe tbody tr th:only-of-type {\n",
       "        vertical-align: middle;\n",
       "    }\n",
       "\n",
       "    .dataframe tbody tr th {\n",
       "        vertical-align: top;\n",
       "    }\n",
       "\n",
       "    .dataframe thead th {\n",
       "        text-align: right;\n",
       "    }\n",
       "</style>\n",
       "<table border=\"1\" class=\"dataframe\">\n",
       "  <thead>\n",
       "    <tr style=\"text-align: right;\">\n",
       "      <th></th>\n",
       "      <th>date</th>\n",
       "      <th>Component</th>\n",
       "      <th>Affiliate Name</th>\n",
       "      <th>Class Name</th>\n",
       "      <th>Is Personal Record</th>\n",
       "      <th>Personal Record Description</th>\n",
       "    </tr>\n",
       "  </thead>\n",
       "  <tbody>\n",
       "    <tr>\n",
       "      <th>0</th>\n",
       "      <td>2023-02-08</td>\n",
       "      <td>Back Squat</td>\n",
       "      <td>CrossFit Cove</td>\n",
       "      <td>Cove Fitness: 5:45 PM</td>\n",
       "      <td>False</td>\n",
       "      <td>NaN</td>\n",
       "    </tr>\n",
       "    <tr>\n",
       "      <th>1</th>\n",
       "      <td>2023-02-07</td>\n",
       "      <td>Deadlift</td>\n",
       "      <td>CrossFit Cove</td>\n",
       "      <td>Cove Fitness: 5:45 PM</td>\n",
       "      <td>False</td>\n",
       "      <td>NaN</td>\n",
       "    </tr>\n",
       "    <tr>\n",
       "      <th>2</th>\n",
       "      <td>2023-01-18</td>\n",
       "      <td>Deadlift</td>\n",
       "      <td>CrossFit Cove</td>\n",
       "      <td>Cove Fitness:  Noon</td>\n",
       "      <td>False</td>\n",
       "      <td>NaN</td>\n",
       "    </tr>\n",
       "    <tr>\n",
       "      <th>3</th>\n",
       "      <td>2023-01-16</td>\n",
       "      <td>Hang Power Snatch</td>\n",
       "      <td>CrossFit Cove</td>\n",
       "      <td>Cove Fitness: 5:45 PM</td>\n",
       "      <td>False</td>\n",
       "      <td>NaN</td>\n",
       "    </tr>\n",
       "    <tr>\n",
       "      <th>4</th>\n",
       "      <td>2023-01-10</td>\n",
       "      <td>Deadlift</td>\n",
       "      <td>CrossFit Cove</td>\n",
       "      <td>Cove Fitness:  Noon</td>\n",
       "      <td>True</td>\n",
       "      <td>PR by 20 lbs vs. 255 on 11/02/2022</td>\n",
       "    </tr>\n",
       "  </tbody>\n",
       "</table>\n",
       "</div>"
      ],
      "text/plain": [
       "         date          Component Affiliate Name             Class Name  \\\n",
       "0  2023-02-08         Back Squat  CrossFit Cove  Cove Fitness: 5:45 PM   \n",
       "1  2023-02-07           Deadlift  CrossFit Cove  Cove Fitness: 5:45 PM   \n",
       "2  2023-01-18           Deadlift  CrossFit Cove    Cove Fitness:  Noon   \n",
       "3  2023-01-16  Hang Power Snatch  CrossFit Cove  Cove Fitness: 5:45 PM   \n",
       "4  2023-01-10           Deadlift  CrossFit Cove    Cove Fitness:  Noon   \n",
       "\n",
       "   Is Personal Record         Personal Record Description  \n",
       "0               False                                 NaN  \n",
       "1               False                                 NaN  \n",
       "2               False                                 NaN  \n",
       "3               False                                 NaN  \n",
       "4                True  PR by 20 lbs vs. 255 on 11/02/2022  "
      ]
     },
     "execution_count": 17,
     "metadata": {},
     "output_type": "execute_result"
    }
   ],
   "source": [
    "lift_overlap.head()"
   ]
  },
  {
   "cell_type": "code",
   "execution_count": 18,
   "id": "1ea8f70d",
   "metadata": {},
   "outputs": [
    {
     "data": {
      "text/html": [
       "<div>\n",
       "<style scoped>\n",
       "    .dataframe tbody tr th:only-of-type {\n",
       "        vertical-align: middle;\n",
       "    }\n",
       "\n",
       "    .dataframe tbody tr th {\n",
       "        vertical-align: top;\n",
       "    }\n",
       "\n",
       "    .dataframe thead th {\n",
       "        text-align: right;\n",
       "    }\n",
       "</style>\n",
       "<table border=\"1\" class=\"dataframe\">\n",
       "  <thead>\n",
       "    <tr style=\"text-align: right;\">\n",
       "      <th></th>\n",
       "      <th>date</th>\n",
       "      <th>Component</th>\n",
       "      <th>Affiliate Name</th>\n",
       "      <th>Class Name</th>\n",
       "      <th>Is Rx</th>\n",
       "      <th>Is Personal Record</th>\n",
       "      <th>Personal Record Description</th>\n",
       "    </tr>\n",
       "  </thead>\n",
       "  <tbody>\n",
       "    <tr>\n",
       "      <th>0</th>\n",
       "      <td>2023-02-10</td>\n",
       "      <td>Rear View</td>\n",
       "      <td>CrossFit Cove</td>\n",
       "      <td>Cove Fitness: 5:45 PM</td>\n",
       "      <td>True</td>\n",
       "      <td>False</td>\n",
       "      <td>NaN</td>\n",
       "    </tr>\n",
       "    <tr>\n",
       "      <th>1</th>\n",
       "      <td>2023-02-09</td>\n",
       "      <td>Wait a Minute</td>\n",
       "      <td>CrossFit Cove</td>\n",
       "      <td>Cove Fitness: 5:45 PM</td>\n",
       "      <td>False</td>\n",
       "      <td>False</td>\n",
       "      <td>NaN</td>\n",
       "    </tr>\n",
       "    <tr>\n",
       "      <th>2</th>\n",
       "      <td>2023-02-08</td>\n",
       "      <td>Tenacious</td>\n",
       "      <td>CrossFit Cove</td>\n",
       "      <td>Cove Fitness: 5:45 PM</td>\n",
       "      <td>True</td>\n",
       "      <td>False</td>\n",
       "      <td>NaN</td>\n",
       "    </tr>\n",
       "    <tr>\n",
       "      <th>3</th>\n",
       "      <td>2023-02-07</td>\n",
       "      <td>Individual Quarter Finals 21.1</td>\n",
       "      <td>CrossFit Cove</td>\n",
       "      <td>Cove Fitness: 5:45 PM</td>\n",
       "      <td>False</td>\n",
       "      <td>False</td>\n",
       "      <td>NaN</td>\n",
       "    </tr>\n",
       "    <tr>\n",
       "      <th>4</th>\n",
       "      <td>2023-02-06</td>\n",
       "      <td>When Randy Met Nancy</td>\n",
       "      <td>CrossFit Cove</td>\n",
       "      <td>Cove Fitness: 5:45 PM</td>\n",
       "      <td>False</td>\n",
       "      <td>False</td>\n",
       "      <td>NaN</td>\n",
       "    </tr>\n",
       "  </tbody>\n",
       "</table>\n",
       "</div>"
      ],
      "text/plain": [
       "         date                       Component Affiliate Name  \\\n",
       "0  2023-02-10                       Rear View  CrossFit Cove   \n",
       "1  2023-02-09                   Wait a Minute  CrossFit Cove   \n",
       "2  2023-02-08                       Tenacious  CrossFit Cove   \n",
       "3  2023-02-07  Individual Quarter Finals 21.1  CrossFit Cove   \n",
       "4  2023-02-06            When Randy Met Nancy  CrossFit Cove   \n",
       "\n",
       "              Class Name  Is Rx  Is Personal Record  \\\n",
       "0  Cove Fitness: 5:45 PM   True               False   \n",
       "1  Cove Fitness: 5:45 PM  False               False   \n",
       "2  Cove Fitness: 5:45 PM   True               False   \n",
       "3  Cove Fitness: 5:45 PM  False               False   \n",
       "4  Cove Fitness: 5:45 PM  False               False   \n",
       "\n",
       "   Personal Record Description  \n",
       "0                          NaN  \n",
       "1                          NaN  \n",
       "2                          NaN  \n",
       "3                          NaN  \n",
       "4                          NaN  "
      ]
     },
     "execution_count": 18,
     "metadata": {},
     "output_type": "execute_result"
    }
   ],
   "source": [
    "metcon_overlap.head()"
   ]
  },
  {
   "cell_type": "code",
   "execution_count": 19,
   "id": "7ae13c25",
   "metadata": {},
   "outputs": [
    {
     "data": {
      "text/html": [
       "<div>\n",
       "<style scoped>\n",
       "    .dataframe tbody tr th:only-of-type {\n",
       "        vertical-align: middle;\n",
       "    }\n",
       "\n",
       "    .dataframe tbody tr th {\n",
       "        vertical-align: top;\n",
       "    }\n",
       "\n",
       "    .dataframe thead th {\n",
       "        text-align: right;\n",
       "    }\n",
       "</style>\n",
       "<table border=\"1\" class=\"dataframe\">\n",
       "  <thead>\n",
       "    <tr style=\"text-align: right;\">\n",
       "      <th></th>\n",
       "      <th>date</th>\n",
       "      <th>Peformance Result Date</th>\n",
       "      <th>Class Name</th>\n",
       "    </tr>\n",
       "  </thead>\n",
       "  <tbody>\n",
       "    <tr>\n",
       "      <th>0</th>\n",
       "      <td>2023-01-10</td>\n",
       "      <td>2023-01-10</td>\n",
       "      <td>Cove Fitness:  Noon</td>\n",
       "    </tr>\n",
       "  </tbody>\n",
       "</table>\n",
       "</div>"
      ],
      "text/plain": [
       "         date Peformance Result Date           Class Name\n",
       "0  2023-01-10             2023-01-10  Cove Fitness:  Noon"
      ]
     },
     "execution_count": 19,
     "metadata": {},
     "output_type": "execute_result"
    }
   ],
   "source": [
    "prs_overlap.head()"
   ]
  },
  {
   "cell_type": "markdown",
   "id": "0985b328",
   "metadata": {},
   "source": [
    "From this view:\n",
    "\n",
    "'Performance Result Date' of the PRs table can be dropped because it is a duplicate.\n",
    "\n",
    "'Component' columns of Lift and Metcon tables must be renamed to preserve data. Modify 'Component Name' in PRs too.\n",
    "    \n",
    "    rename to 'lift_component', 'metcon_component', 'pr_component'\n",
    "\n",
    "'Affiliate Name' columns of Lift and Metcon will merge without any loss.\n",
    "\n",
    "'Class Name' columns of Lift and Metcon will merge, assuming I do just one WOD each day, which is a safe assumption.\n",
    "\n",
    "'Is Personal Record' and 'Personal Record Description' of Lift and Metcon must be renamed.\n",
    "\n",
    "    rename to 'is_lift_pr', 'is_metcon_pr', 'lift_pr_description', 'metcon_pr_description'"
   ]
  },
  {
   "cell_type": "code",
   "execution_count": 20,
   "id": "5acb8dd8",
   "metadata": {},
   "outputs": [],
   "source": [
    "prs_overlap = prs_overlap.drop(columns=['Peformance Result Date'])\n",
    "wodify_test = pd.concat([lift_overlap, metcon_overlap, prs_overlap])"
   ]
  },
  {
   "cell_type": "code",
   "execution_count": 21,
   "id": "f22e738b",
   "metadata": {},
   "outputs": [
    {
     "data": {
      "text/html": [
       "<div>\n",
       "<style scoped>\n",
       "    .dataframe tbody tr th:only-of-type {\n",
       "        vertical-align: middle;\n",
       "    }\n",
       "\n",
       "    .dataframe tbody tr th {\n",
       "        vertical-align: top;\n",
       "    }\n",
       "\n",
       "    .dataframe thead th {\n",
       "        text-align: right;\n",
       "    }\n",
       "</style>\n",
       "<table border=\"1\" class=\"dataframe\">\n",
       "  <thead>\n",
       "    <tr style=\"text-align: right;\">\n",
       "      <th></th>\n",
       "      <th>date</th>\n",
       "      <th>Component</th>\n",
       "      <th>Affiliate Name</th>\n",
       "      <th>Class Name</th>\n",
       "      <th>Is Personal Record</th>\n",
       "      <th>Personal Record Description</th>\n",
       "      <th>Is Rx</th>\n",
       "    </tr>\n",
       "  </thead>\n",
       "  <tbody>\n",
       "    <tr>\n",
       "      <th>4</th>\n",
       "      <td>2023-01-10</td>\n",
       "      <td>Deadlift</td>\n",
       "      <td>CrossFit Cove</td>\n",
       "      <td>Cove Fitness:  Noon</td>\n",
       "      <td>True</td>\n",
       "      <td>PR by 20 lbs vs. 255 on 11/02/2022</td>\n",
       "      <td>NaN</td>\n",
       "    </tr>\n",
       "    <tr>\n",
       "      <th>14</th>\n",
       "      <td>2023-01-10</td>\n",
       "      <td>Marston</td>\n",
       "      <td>CrossFit Cove</td>\n",
       "      <td>Cove Fitness:  Noon</td>\n",
       "      <td>False</td>\n",
       "      <td>NaN</td>\n",
       "      <td>True</td>\n",
       "    </tr>\n",
       "    <tr>\n",
       "      <th>0</th>\n",
       "      <td>2023-01-10</td>\n",
       "      <td>NaN</td>\n",
       "      <td>NaN</td>\n",
       "      <td>Cove Fitness:  Noon</td>\n",
       "      <td>NaN</td>\n",
       "      <td>NaN</td>\n",
       "      <td>NaN</td>\n",
       "    </tr>\n",
       "  </tbody>\n",
       "</table>\n",
       "</div>"
      ],
      "text/plain": [
       "          date Component Affiliate Name           Class Name  \\\n",
       "4   2023-01-10  Deadlift  CrossFit Cove  Cove Fitness:  Noon   \n",
       "14  2023-01-10   Marston  CrossFit Cove  Cove Fitness:  Noon   \n",
       "0   2023-01-10       NaN            NaN  Cove Fitness:  Noon   \n",
       "\n",
       "   Is Personal Record         Personal Record Description Is Rx  \n",
       "4                True  PR by 20 lbs vs. 255 on 11/02/2022   NaN  \n",
       "14              False                                 NaN  True  \n",
       "0                 NaN                                 NaN   NaN  "
      ]
     },
     "execution_count": 21,
     "metadata": {},
     "output_type": "execute_result"
    }
   ],
   "source": [
    "# verify there are some rows where there is data for all fields\n",
    "#\n",
    "# Use date '2023-01-10' because it is the only date for which \n",
    "# there is an entry in all three Dataframes\n",
    "\n",
    "wodify_test.loc[wodify_test['date'] == '2023-01-10']"
   ]
  },
  {
   "cell_type": "markdown",
   "id": "1ed863f5",
   "metadata": {},
   "source": [
    "#### Notice how merging dataframes creates data loss in the overlapping columns Component\n",
    "\n",
    "It has the potential to lose data in Is Personal Record and Personal Record Description as well because\n",
    "I may have a PR for both a lift and metcon on the same day."
   ]
  },
  {
   "cell_type": "code",
   "execution_count": 22,
   "id": "f9d8f2ba",
   "metadata": {},
   "outputs": [
    {
     "data": {
      "text/html": [
       "<div>\n",
       "<style scoped>\n",
       "    .dataframe tbody tr th:only-of-type {\n",
       "        vertical-align: middle;\n",
       "    }\n",
       "\n",
       "    .dataframe tbody tr th {\n",
       "        vertical-align: top;\n",
       "    }\n",
       "\n",
       "    .dataframe thead th {\n",
       "        text-align: right;\n",
       "    }\n",
       "</style>\n",
       "<table border=\"1\" class=\"dataframe\">\n",
       "  <thead>\n",
       "    <tr style=\"text-align: right;\">\n",
       "      <th></th>\n",
       "      <th>date</th>\n",
       "      <th>Component</th>\n",
       "      <th>Affiliate Name</th>\n",
       "      <th>Class Name</th>\n",
       "      <th>Is Personal Record</th>\n",
       "      <th>Personal Record Description</th>\n",
       "      <th>Is Rx</th>\n",
       "    </tr>\n",
       "  </thead>\n",
       "  <tbody>\n",
       "    <tr>\n",
       "      <th>15</th>\n",
       "      <td>2023-01-10</td>\n",
       "      <td>Deadlift</td>\n",
       "      <td>CrossFit Cove</td>\n",
       "      <td>Cove Fitness:  Noon</td>\n",
       "      <td>True</td>\n",
       "      <td>PR by 20 lbs vs. 255 on 11/02/2022</td>\n",
       "      <td>True</td>\n",
       "    </tr>\n",
       "  </tbody>\n",
       "</table>\n",
       "</div>"
      ],
      "text/plain": [
       "          date Component Affiliate Name           Class Name  \\\n",
       "15  2023-01-10  Deadlift  CrossFit Cove  Cove Fitness:  Noon   \n",
       "\n",
       "    Is Personal Record         Personal Record Description  Is Rx  \n",
       "15                True  PR by 20 lbs vs. 255 on 11/02/2022   True  "
      ]
     },
     "execution_count": 22,
     "metadata": {},
     "output_type": "execute_result"
    }
   ],
   "source": [
    "df_wfy = wodify_test.groupby(wodify_test['date'], as_index=False).aggregate('first')\n",
    "df_wfy.loc[df_wfy['date'] == '2023-01-10']"
   ]
  },
  {
   "cell_type": "markdown",
   "id": "7b5dbf72",
   "metadata": {},
   "source": [
    "#### Where as if I selected non-overlapping columns..."
   ]
  },
  {
   "cell_type": "code",
   "execution_count": 23,
   "id": "dbb2f197",
   "metadata": {},
   "outputs": [],
   "source": [
    "lift_test = wodify_lifts[['date', 'From Weightlifting Total']].copy()\n",
    "metcon_test = wodify_metcons[['date', 'Is Rx']].copy()\n",
    "prs_test = wodify_prs[['date', 'Rep Scheme']].copy()\n",
    "wodify_test = pd.concat([lift_test, metcon_test, prs_test])"
   ]
  },
  {
   "cell_type": "code",
   "execution_count": 24,
   "id": "98d5c074",
   "metadata": {},
   "outputs": [
    {
     "data": {
      "text/html": [
       "<div>\n",
       "<style scoped>\n",
       "    .dataframe tbody tr th:only-of-type {\n",
       "        vertical-align: middle;\n",
       "    }\n",
       "\n",
       "    .dataframe tbody tr th {\n",
       "        vertical-align: top;\n",
       "    }\n",
       "\n",
       "    .dataframe thead th {\n",
       "        text-align: right;\n",
       "    }\n",
       "</style>\n",
       "<table border=\"1\" class=\"dataframe\">\n",
       "  <thead>\n",
       "    <tr style=\"text-align: right;\">\n",
       "      <th></th>\n",
       "      <th>date</th>\n",
       "      <th>From Weightlifting Total</th>\n",
       "      <th>Is Rx</th>\n",
       "      <th>Rep Scheme</th>\n",
       "    </tr>\n",
       "  </thead>\n",
       "  <tbody>\n",
       "    <tr>\n",
       "      <th>4</th>\n",
       "      <td>2023-01-10</td>\n",
       "      <td>False</td>\n",
       "      <td>NaN</td>\n",
       "      <td>NaN</td>\n",
       "    </tr>\n",
       "    <tr>\n",
       "      <th>14</th>\n",
       "      <td>2023-01-10</td>\n",
       "      <td>NaN</td>\n",
       "      <td>True</td>\n",
       "      <td>NaN</td>\n",
       "    </tr>\n",
       "    <tr>\n",
       "      <th>0</th>\n",
       "      <td>2023-01-10</td>\n",
       "      <td>NaN</td>\n",
       "      <td>NaN</td>\n",
       "      <td>Build to a heavy set of 5</td>\n",
       "    </tr>\n",
       "  </tbody>\n",
       "</table>\n",
       "</div>"
      ],
      "text/plain": [
       "          date From Weightlifting Total Is Rx                 Rep Scheme\n",
       "4   2023-01-10                    False   NaN                        NaN\n",
       "14  2023-01-10                      NaN  True                        NaN\n",
       "0   2023-01-10                      NaN   NaN  Build to a heavy set of 5"
      ]
     },
     "execution_count": 24,
     "metadata": {},
     "output_type": "execute_result"
    }
   ],
   "source": [
    "wodify_test.loc[wodify_test['date'] == '2023-01-10']"
   ]
  },
  {
   "cell_type": "code",
   "execution_count": 25,
   "id": "e9135cc7",
   "metadata": {},
   "outputs": [
    {
     "data": {
      "text/html": [
       "<div>\n",
       "<style scoped>\n",
       "    .dataframe tbody tr th:only-of-type {\n",
       "        vertical-align: middle;\n",
       "    }\n",
       "\n",
       "    .dataframe tbody tr th {\n",
       "        vertical-align: top;\n",
       "    }\n",
       "\n",
       "    .dataframe thead th {\n",
       "        text-align: right;\n",
       "    }\n",
       "</style>\n",
       "<table border=\"1\" class=\"dataframe\">\n",
       "  <thead>\n",
       "    <tr style=\"text-align: right;\">\n",
       "      <th></th>\n",
       "      <th>date</th>\n",
       "      <th>From Weightlifting Total</th>\n",
       "      <th>Is Rx</th>\n",
       "      <th>Rep Scheme</th>\n",
       "    </tr>\n",
       "  </thead>\n",
       "  <tbody>\n",
       "    <tr>\n",
       "      <th>15</th>\n",
       "      <td>2023-01-10</td>\n",
       "      <td>False</td>\n",
       "      <td>True</td>\n",
       "      <td>Build to a heavy set of 5</td>\n",
       "    </tr>\n",
       "  </tbody>\n",
       "</table>\n",
       "</div>"
      ],
      "text/plain": [
       "          date From Weightlifting Total  Is Rx                 Rep Scheme\n",
       "15  2023-01-10                    False   True  Build to a heavy set of 5"
      ]
     },
     "execution_count": 25,
     "metadata": {},
     "output_type": "execute_result"
    }
   ],
   "source": [
    "df_wfy = wodify_test.groupby(wodify_test['date'], as_index=False).aggregate('first')\n",
    "df_wfy.loc[df_wfy['date'] == '2023-01-10']"
   ]
  },
  {
   "cell_type": "markdown",
   "id": "1763242d",
   "metadata": {},
   "source": [
    "### First attempt to rectify: rename overlapping columns to specify their origin"
   ]
  },
  {
   "cell_type": "code",
   "execution_count": 26,
   "id": "852dd87b",
   "metadata": {},
   "outputs": [],
   "source": [
    "# Rename all Component columns to refer specifically to the data set they compromise\n",
    "\n",
    "lift_overlap['lift_component'] = lift_overlap['Component']\n",
    "lift_overlap = lift_overlap.drop(columns=['Component'])\n",
    "\n",
    "metcon_overlap['metcon_component'] = metcon_overlap['Component']\n",
    "metcon_overlap = metcon_overlap.drop(columns=['Component'])\n",
    "\n",
    "# Previously dropped Component Name column in this notebook.\n",
    "# prs_overlap['pr_component'] = prs_overlap['Component Name']\n",
    "# prs_overlap = prs_overlap.drop(columns=['Component Name'])\n",
    "\n",
    "# 'Is Personal Record' and 'Personal Record Description' of Lift and Metcon must be renamed.\n",
    "# rename to 'is_lift_pr', 'is_metcon_pr', 'lift_pr_description', 'metcon_pr_description'\n",
    "\n",
    "lift_overlap['is_lift_pr'] = lift_overlap['Is Personal Record']\n",
    "lift_overlap['lift_pr_description'] = lift_overlap['Personal Record Description']\n",
    "lift_overlap = lift_overlap.drop(columns=['Is Personal Record'])\n",
    "lift_overlap = lift_overlap.drop(columns=['Personal Record Description'])\n",
    "\n",
    "metcon_overlap['is_metcon_pr'] = metcon_overlap['Is Personal Record']\n",
    "metcon_overlap['metcon_pr_description'] = metcon_overlap['Personal Record Description']\n",
    "metcon_overlap = metcon_overlap.drop(columns=['Is Personal Record'])\n",
    "metcon_overlap = metcon_overlap.drop(columns=['Personal Record Description'])"
   ]
  },
  {
   "cell_type": "code",
   "execution_count": 27,
   "id": "f53fe311",
   "metadata": {},
   "outputs": [],
   "source": [
    "wodify_test = pd.concat([lift_overlap, metcon_overlap, prs_overlap])"
   ]
  },
  {
   "cell_type": "code",
   "execution_count": 28,
   "id": "226fd2e4",
   "metadata": {},
   "outputs": [
    {
     "data": {
      "text/html": [
       "<div>\n",
       "<style scoped>\n",
       "    .dataframe tbody tr th:only-of-type {\n",
       "        vertical-align: middle;\n",
       "    }\n",
       "\n",
       "    .dataframe tbody tr th {\n",
       "        vertical-align: top;\n",
       "    }\n",
       "\n",
       "    .dataframe thead th {\n",
       "        text-align: right;\n",
       "    }\n",
       "</style>\n",
       "<table border=\"1\" class=\"dataframe\">\n",
       "  <thead>\n",
       "    <tr style=\"text-align: right;\">\n",
       "      <th></th>\n",
       "      <th>date</th>\n",
       "      <th>Affiliate Name</th>\n",
       "      <th>Class Name</th>\n",
       "      <th>lift_component</th>\n",
       "      <th>is_lift_pr</th>\n",
       "      <th>lift_pr_description</th>\n",
       "      <th>Is Rx</th>\n",
       "      <th>metcon_component</th>\n",
       "      <th>is_metcon_pr</th>\n",
       "      <th>metcon_pr_description</th>\n",
       "    </tr>\n",
       "  </thead>\n",
       "  <tbody>\n",
       "    <tr>\n",
       "      <th>4</th>\n",
       "      <td>2023-01-10</td>\n",
       "      <td>CrossFit Cove</td>\n",
       "      <td>Cove Fitness:  Noon</td>\n",
       "      <td>Deadlift</td>\n",
       "      <td>True</td>\n",
       "      <td>PR by 20 lbs vs. 255 on 11/02/2022</td>\n",
       "      <td>NaN</td>\n",
       "      <td>NaN</td>\n",
       "      <td>NaN</td>\n",
       "      <td>NaN</td>\n",
       "    </tr>\n",
       "    <tr>\n",
       "      <th>14</th>\n",
       "      <td>2023-01-10</td>\n",
       "      <td>CrossFit Cove</td>\n",
       "      <td>Cove Fitness:  Noon</td>\n",
       "      <td>NaN</td>\n",
       "      <td>NaN</td>\n",
       "      <td>NaN</td>\n",
       "      <td>True</td>\n",
       "      <td>Marston</td>\n",
       "      <td>False</td>\n",
       "      <td>NaN</td>\n",
       "    </tr>\n",
       "    <tr>\n",
       "      <th>0</th>\n",
       "      <td>2023-01-10</td>\n",
       "      <td>NaN</td>\n",
       "      <td>Cove Fitness:  Noon</td>\n",
       "      <td>NaN</td>\n",
       "      <td>NaN</td>\n",
       "      <td>NaN</td>\n",
       "      <td>NaN</td>\n",
       "      <td>NaN</td>\n",
       "      <td>NaN</td>\n",
       "      <td>NaN</td>\n",
       "    </tr>\n",
       "  </tbody>\n",
       "</table>\n",
       "</div>"
      ],
      "text/plain": [
       "          date Affiliate Name           Class Name lift_component is_lift_pr  \\\n",
       "4   2023-01-10  CrossFit Cove  Cove Fitness:  Noon       Deadlift       True   \n",
       "14  2023-01-10  CrossFit Cove  Cove Fitness:  Noon            NaN        NaN   \n",
       "0   2023-01-10            NaN  Cove Fitness:  Noon            NaN        NaN   \n",
       "\n",
       "                   lift_pr_description Is Rx metcon_component is_metcon_pr  \\\n",
       "4   PR by 20 lbs vs. 255 on 11/02/2022   NaN              NaN          NaN   \n",
       "14                                 NaN  True          Marston        False   \n",
       "0                                  NaN   NaN              NaN          NaN   \n",
       "\n",
       "    metcon_pr_description  \n",
       "4                     NaN  \n",
       "14                    NaN  \n",
       "0                     NaN  "
      ]
     },
     "execution_count": 28,
     "metadata": {},
     "output_type": "execute_result"
    }
   ],
   "source": [
    "wodify_test.loc[wodify_test['date'] == '2023-01-10']"
   ]
  },
  {
   "cell_type": "code",
   "execution_count": 29,
   "id": "54d3b7be",
   "metadata": {},
   "outputs": [
    {
     "data": {
      "text/html": [
       "<div>\n",
       "<style scoped>\n",
       "    .dataframe tbody tr th:only-of-type {\n",
       "        vertical-align: middle;\n",
       "    }\n",
       "\n",
       "    .dataframe tbody tr th {\n",
       "        vertical-align: top;\n",
       "    }\n",
       "\n",
       "    .dataframe thead th {\n",
       "        text-align: right;\n",
       "    }\n",
       "</style>\n",
       "<table border=\"1\" class=\"dataframe\">\n",
       "  <thead>\n",
       "    <tr style=\"text-align: right;\">\n",
       "      <th></th>\n",
       "      <th>date</th>\n",
       "      <th>Affiliate Name</th>\n",
       "      <th>Class Name</th>\n",
       "      <th>lift_component</th>\n",
       "      <th>is_lift_pr</th>\n",
       "      <th>lift_pr_description</th>\n",
       "      <th>Is Rx</th>\n",
       "      <th>metcon_component</th>\n",
       "      <th>is_metcon_pr</th>\n",
       "      <th>metcon_pr_description</th>\n",
       "    </tr>\n",
       "  </thead>\n",
       "  <tbody>\n",
       "    <tr>\n",
       "      <th>15</th>\n",
       "      <td>2023-01-10</td>\n",
       "      <td>CrossFit Cove</td>\n",
       "      <td>Cove Fitness:  Noon</td>\n",
       "      <td>Deadlift</td>\n",
       "      <td>True</td>\n",
       "      <td>PR by 20 lbs vs. 255 on 11/02/2022</td>\n",
       "      <td>True</td>\n",
       "      <td>Marston</td>\n",
       "      <td>False</td>\n",
       "      <td>NaN</td>\n",
       "    </tr>\n",
       "  </tbody>\n",
       "</table>\n",
       "</div>"
      ],
      "text/plain": [
       "          date Affiliate Name           Class Name lift_component is_lift_pr  \\\n",
       "15  2023-01-10  CrossFit Cove  Cove Fitness:  Noon       Deadlift       True   \n",
       "\n",
       "                   lift_pr_description  Is Rx metcon_component  is_metcon_pr  \\\n",
       "15  PR by 20 lbs vs. 255 on 11/02/2022   True          Marston         False   \n",
       "\n",
       "    metcon_pr_description  \n",
       "15                    NaN  "
      ]
     },
     "execution_count": 29,
     "metadata": {},
     "output_type": "execute_result"
    }
   ],
   "source": [
    "df_wfy2 = wodify_test.groupby(wodify_test['date'], as_index=False).aggregate('first')\n",
    "df_wfy2.loc[df_wfy2['date'] == '2023-01-10']"
   ]
  },
  {
   "cell_type": "markdown",
   "id": "52e49801",
   "metadata": {},
   "source": [
    "### ========================================================\n",
    "\n",
    "# Merge Wodify, SugarWOD and Strava \n",
    "\n",
    "### ========================================================"
   ]
  },
  {
   "cell_type": "markdown",
   "id": "f4090fd8",
   "metadata": {},
   "source": [
    "#### Fill NaNs with the Mode of each column"
   ]
  },
  {
   "cell_type": "code",
   "execution_count": 100,
   "id": "8c213900",
   "metadata": {},
   "outputs": [
    {
     "data": {
      "text/plain": [
       "date                 0\n",
       "average_heartrate    0\n",
       "max_heartrate        0\n",
       "start_time           0\n",
       "moving_time          0\n",
       "dtype: int64"
      ]
     },
     "execution_count": 100,
     "metadata": {},
     "output_type": "execute_result"
    }
   ],
   "source": [
    "strava_index=strava[['date', 'average_heartrate', 'max_heartrate', 'start_time', 'moving_time']].copy()\n",
    "strava_index['start_time'] = pd.to_timedelta(strava_index['start_time']).dt.total_seconds()\n",
    "\n",
    "modes = strava_index.mode().iloc[0]\n",
    "strava_index.fillna(modes, inplace=True)\n",
    "strava_index.isna().sum()\n",
    "\n",
    "# strava_index.head()"
   ]
  },
  {
   "cell_type": "code",
   "execution_count": 101,
   "id": "cd810721",
   "metadata": {},
   "outputs": [
    {
     "data": {
      "text/plain": [
       "date     0\n",
       "pr       0\n",
       "is_rx    0\n",
       "dtype: int64"
      ]
     },
     "execution_count": 101,
     "metadata": {},
     "output_type": "execute_result"
    }
   ],
   "source": [
    "sugar_index=sugarwod[['date', 'rx_or_scaled', 'pr']].copy()\n",
    "\n",
    "sugar_index['is_rx'] = sugar_index['rx_or_scaled']\n",
    "sugar_index = sugar_index.drop(columns=['rx_or_scaled'])\n",
    "\n",
    "sugar_index = sugar_index.replace(to_replace=\"SCALED\", value=0.0)\n",
    "sugar_index = sugar_index.replace(to_replace=\"RX\", value=1.0)\n",
    "\n",
    "sugar_index = sugar_index.replace(to_replace=\"PR\", value=1.0)\n",
    "sugar_index['pr'].fillna(0.0, inplace=True)\n",
    "\n",
    "sugar_index.isna().sum()\n",
    "# sugar_index['pr'].dtype\n",
    "# sugar_index.head()"
   ]
  },
  {
   "cell_type": "code",
   "execution_count": 102,
   "id": "8f65fcb5",
   "metadata": {},
   "outputs": [
    {
     "data": {
      "text/plain": [
       "date     0\n",
       "is_rx    0\n",
       "pr       0\n",
       "dtype: int64"
      ]
     },
     "execution_count": 102,
     "metadata": {},
     "output_type": "execute_result"
    }
   ],
   "source": [
    "wodify_index = df_wfy2[['date', 'Is Rx', 'is_metcon_pr']].copy()\n",
    "\n",
    "wodify_index['is_rx'] = wodify_index['Is Rx']\n",
    "wodify_index = wodify_index.drop(columns=['Is Rx'])\n",
    "\n",
    "wodify_index['pr'] = wodify_index['is_metcon_pr']\n",
    "wodify_index = wodify_index.drop(columns=['is_metcon_pr'])\n",
    "\n",
    "wodify_index = wodify_index.replace(to_replace=False, value=0.0)\n",
    "wodify_index = wodify_index.replace(to_replace=True, value=1)\n",
    "\n",
    "wodify_index = wodify_index.replace(to_replace=\"PR\", value=1.0)\n",
    "wodify_index['pr'].fillna(0.0, inplace=True)\n",
    "\n",
    "wodify_index.isna().sum()\n",
    "# wodify_index['pr'].dtype\n",
    "# wodify_index.head()"
   ]
  },
  {
   "cell_type": "markdown",
   "id": "806622e1",
   "metadata": {},
   "source": [
    "#### To start as simple as possible, then build up, every column should be numeric"
   ]
  },
  {
   "cell_type": "code",
   "execution_count": 106,
   "id": "8c574ef7",
   "metadata": {},
   "outputs": [
    {
     "data": {
      "text/html": [
       "<div>\n",
       "<style scoped>\n",
       "    .dataframe tbody tr th:only-of-type {\n",
       "        vertical-align: middle;\n",
       "    }\n",
       "\n",
       "    .dataframe tbody tr th {\n",
       "        vertical-align: top;\n",
       "    }\n",
       "\n",
       "    .dataframe thead th {\n",
       "        text-align: right;\n",
       "    }\n",
       "</style>\n",
       "<table border=\"1\" class=\"dataframe\">\n",
       "  <thead>\n",
       "    <tr style=\"text-align: right;\">\n",
       "      <th></th>\n",
       "      <th>date</th>\n",
       "      <th>average_heartrate</th>\n",
       "      <th>max_heartrate</th>\n",
       "      <th>start_time</th>\n",
       "      <th>moving_time</th>\n",
       "      <th>pr</th>\n",
       "      <th>is_rx</th>\n",
       "    </tr>\n",
       "  </thead>\n",
       "  <tbody>\n",
       "    <tr>\n",
       "      <th>0</th>\n",
       "      <td>2021-07-26</td>\n",
       "      <td>151.5</td>\n",
       "      <td>169.0</td>\n",
       "      <td>61282.0</td>\n",
       "      <td>453.0</td>\n",
       "      <td>0.0</td>\n",
       "      <td>0.0</td>\n",
       "    </tr>\n",
       "    <tr>\n",
       "      <th>1</th>\n",
       "      <td>2021-08-04</td>\n",
       "      <td>159.0</td>\n",
       "      <td>173.0</td>\n",
       "      <td>63351.0</td>\n",
       "      <td>1034.0</td>\n",
       "      <td>0.0</td>\n",
       "      <td>0.0</td>\n",
       "    </tr>\n",
       "    <tr>\n",
       "      <th>2</th>\n",
       "      <td>2021-08-10</td>\n",
       "      <td>157.2</td>\n",
       "      <td>166.0</td>\n",
       "      <td>61713.0</td>\n",
       "      <td>543.0</td>\n",
       "      <td>0.0</td>\n",
       "      <td>0.0</td>\n",
       "    </tr>\n",
       "    <tr>\n",
       "      <th>3</th>\n",
       "      <td>2021-08-14</td>\n",
       "      <td>142.0</td>\n",
       "      <td>167.0</td>\n",
       "      <td>27416.0</td>\n",
       "      <td>6506.0</td>\n",
       "      <td>0.0</td>\n",
       "      <td>0.0</td>\n",
       "    </tr>\n",
       "    <tr>\n",
       "      <th>4</th>\n",
       "      <td>2021-08-18</td>\n",
       "      <td>156.1</td>\n",
       "      <td>173.0</td>\n",
       "      <td>61004.0</td>\n",
       "      <td>994.0</td>\n",
       "      <td>0.0</td>\n",
       "      <td>0.0</td>\n",
       "    </tr>\n",
       "  </tbody>\n",
       "</table>\n",
       "</div>"
      ],
      "text/plain": [
       "         date  average_heartrate  max_heartrate  start_time  moving_time   pr  \\\n",
       "0  2021-07-26              151.5          169.0     61282.0        453.0  0.0   \n",
       "1  2021-08-04              159.0          173.0     63351.0       1034.0  0.0   \n",
       "2  2021-08-10              157.2          166.0     61713.0        543.0  0.0   \n",
       "3  2021-08-14              142.0          167.0     27416.0       6506.0  0.0   \n",
       "4  2021-08-18              156.1          173.0     61004.0        994.0  0.0   \n",
       "\n",
       "   is_rx  \n",
       "0    0.0  \n",
       "1    0.0  \n",
       "2    0.0  \n",
       "3    0.0  \n",
       "4    0.0  "
      ]
     },
     "execution_count": 106,
     "metadata": {},
     "output_type": "execute_result"
    }
   ],
   "source": [
    "test = pd.concat([strava_index, sugar_index, wodify_index])\n",
    "\n",
    "df = test.groupby(test['date'], as_index=False).aggregate('first')\n",
    "df['is_rx'].fillna(0.0, inplace=True)\n",
    "df['pr'].fillna(0.0, inplace=True)\n",
    "\n",
    "# After the merge of wodify, strava, sugarwod I found there were NaNs again\n",
    "modes = df.mode().iloc[0]\n",
    "df.fillna(modes, inplace=True)\n",
    "# df.isna().sum()\n",
    "\n",
    "df.head()"
   ]
  },
  {
   "cell_type": "markdown",
   "id": "43daf576",
   "metadata": {},
   "source": [
    "### ========================================================\n",
    "\n",
    "# First Model: Predict AM or PM workout with Linear Model\n",
    "\n",
    "### ========================================================"
   ]
  },
  {
   "cell_type": "markdown",
   "id": "a735b546",
   "metadata": {},
   "source": [
    "#### Drop date column for this model because it is not numeric\n",
    "#### Derive binary AM column from start_time: if start_time < 43200.0 value is 1, else 0\n",
    "#### Drop start_time column"
   ]
  },
  {
   "cell_type": "code",
   "execution_count": 107,
   "id": "9dd305c8",
   "metadata": {},
   "outputs": [
    {
     "data": {
      "text/html": [
       "<div>\n",
       "<style scoped>\n",
       "    .dataframe tbody tr th:only-of-type {\n",
       "        vertical-align: middle;\n",
       "    }\n",
       "\n",
       "    .dataframe tbody tr th {\n",
       "        vertical-align: top;\n",
       "    }\n",
       "\n",
       "    .dataframe thead th {\n",
       "        text-align: right;\n",
       "    }\n",
       "</style>\n",
       "<table border=\"1\" class=\"dataframe\">\n",
       "  <thead>\n",
       "    <tr style=\"text-align: right;\">\n",
       "      <th></th>\n",
       "      <th>average_heartrate</th>\n",
       "      <th>max_heartrate</th>\n",
       "      <th>moving_time</th>\n",
       "      <th>pr</th>\n",
       "      <th>is_rx</th>\n",
       "      <th>am</th>\n",
       "    </tr>\n",
       "  </thead>\n",
       "  <tbody>\n",
       "    <tr>\n",
       "      <th>0</th>\n",
       "      <td>151.5</td>\n",
       "      <td>169.0</td>\n",
       "      <td>453.0</td>\n",
       "      <td>0.0</td>\n",
       "      <td>0.0</td>\n",
       "      <td>0.0</td>\n",
       "    </tr>\n",
       "    <tr>\n",
       "      <th>1</th>\n",
       "      <td>159.0</td>\n",
       "      <td>173.0</td>\n",
       "      <td>1034.0</td>\n",
       "      <td>0.0</td>\n",
       "      <td>0.0</td>\n",
       "      <td>0.0</td>\n",
       "    </tr>\n",
       "    <tr>\n",
       "      <th>2</th>\n",
       "      <td>157.2</td>\n",
       "      <td>166.0</td>\n",
       "      <td>543.0</td>\n",
       "      <td>0.0</td>\n",
       "      <td>0.0</td>\n",
       "      <td>0.0</td>\n",
       "    </tr>\n",
       "    <tr>\n",
       "      <th>3</th>\n",
       "      <td>142.0</td>\n",
       "      <td>167.0</td>\n",
       "      <td>6506.0</td>\n",
       "      <td>0.0</td>\n",
       "      <td>0.0</td>\n",
       "      <td>1.0</td>\n",
       "    </tr>\n",
       "    <tr>\n",
       "      <th>4</th>\n",
       "      <td>156.1</td>\n",
       "      <td>173.0</td>\n",
       "      <td>994.0</td>\n",
       "      <td>0.0</td>\n",
       "      <td>0.0</td>\n",
       "      <td>0.0</td>\n",
       "    </tr>\n",
       "  </tbody>\n",
       "</table>\n",
       "</div>"
      ],
      "text/plain": [
       "   average_heartrate  max_heartrate  moving_time   pr  is_rx   am\n",
       "0              151.5          169.0        453.0  0.0    0.0  0.0\n",
       "1              159.0          173.0       1034.0  0.0    0.0  0.0\n",
       "2              157.2          166.0        543.0  0.0    0.0  0.0\n",
       "3              142.0          167.0       6506.0  0.0    0.0  1.0\n",
       "4              156.1          173.0        994.0  0.0    0.0  0.0"
      ]
     },
     "execution_count": 107,
     "metadata": {},
     "output_type": "execute_result"
    }
   ],
   "source": [
    "df['am'] = np.where(df['start_time'] < 43200.0, 1.0, 0.0)\n",
    "df = df.drop(columns=['date'])\n",
    "df = df.drop(columns=['start_time'])\n",
    "df.head()"
   ]
  },
  {
   "cell_type": "markdown",
   "id": "4272bc36",
   "metadata": {},
   "source": [
    "#### Create PyTorch Tensors for Dependent (Target) and Independent (Predictors) variables"
   ]
  },
  {
   "cell_type": "code",
   "execution_count": 108,
   "id": "06a17dd1",
   "metadata": {},
   "outputs": [
    {
     "data": {
      "text/plain": [
       "tensor([[1.5150e+02, 1.6900e+02, 4.5300e+02, 0.0000e+00, 0.0000e+00],\n",
       "        [1.5900e+02, 1.7300e+02, 1.0340e+03, 0.0000e+00, 0.0000e+00],\n",
       "        [1.5720e+02, 1.6600e+02, 5.4300e+02, 0.0000e+00, 0.0000e+00],\n",
       "        ...,\n",
       "        [1.2830e+02, 1.7100e+02, 6.0100e+02, 0.0000e+00, 1.0000e+00],\n",
       "        [1.2830e+02, 1.7100e+02, 6.0100e+02, 0.0000e+00, 0.0000e+00],\n",
       "        [1.2830e+02, 1.7100e+02, 6.0100e+02, 0.0000e+00, 1.0000e+00]],\n",
       "       dtype=torch.float64)"
      ]
     },
     "execution_count": 108,
     "metadata": {},
     "output_type": "execute_result"
    }
   ],
   "source": [
    "from torch import tensor\n",
    "\n",
    "t_dep = tensor(df.am)\n",
    "\n",
    "indep_cols = ['average_heartrate', 'max_heartrate', 'moving_time', 'pr', 'is_rx']\n",
    "\n",
    "t_indep = tensor(df[indep_cols].values, dtype=torch.float64)\n",
    "\n",
    "t_indep"
   ]
  },
  {
   "cell_type": "markdown",
   "id": "f948bacd",
   "metadata": {},
   "source": [
    "#### Pick random weights (coefficients) for each column of the independent variable matrix"
   ]
  },
  {
   "cell_type": "code",
   "execution_count": 109,
   "id": "cf642034",
   "metadata": {},
   "outputs": [
    {
     "data": {
      "text/plain": [
       "tensor([-0.4629,  0.1386,  0.2409, -0.2262, -0.2632])"
      ]
     },
     "execution_count": 109,
     "metadata": {},
     "output_type": "execute_result"
    }
   ],
   "source": [
    "torch.manual_seed(442)\n",
    "\n",
    "n_coeff = t_indep.shape[1]\n",
    "coeffs = torch.rand(n_coeff)-0.5\n",
    "coeffs"
   ]
  },
  {
   "cell_type": "markdown",
   "id": "a117e54b",
   "metadata": {},
   "source": [
    "#### Make all values in all columns between 0 and 1 by dividing each column by its maximum value.\n",
    "#### This removes the problem of one column dominating all the others."
   ]
  },
  {
   "cell_type": "code",
   "execution_count": 112,
   "id": "6dab239f",
   "metadata": {},
   "outputs": [],
   "source": [
    "vals,indices = t_indep.max(dim=0)\n",
    "\n",
    "# use 'Broadcasting' divide a matrix by a vector\n",
    "t_indep = t_indep / vals"
   ]
  },
  {
   "cell_type": "markdown",
   "id": "3a58c6bf",
   "metadata": {},
   "source": [
    "#### Calculate predictions by multiplying each row by the coefficients and adding them up."
   ]
  },
  {
   "cell_type": "code",
   "execution_count": 113,
   "id": "d019e73c",
   "metadata": {},
   "outputs": [
    {
     "data": {
      "text/plain": [
       "tensor([-0.2757, -0.2859, -0.2922, -0.1788], dtype=torch.float64)"
      ]
     },
     "execution_count": 113,
     "metadata": {},
     "output_type": "execute_result"
    }
   ],
   "source": [
    "preds = (t_indep*coeffs).sum(axis=1)\n",
    "preds[:4]"
   ]
  },
  {
   "cell_type": "markdown",
   "id": "23001e29",
   "metadata": {},
   "source": [
    "#### We need a loss function in order to use gradient descent: Mean Absolute Error"
   ]
  },
  {
   "cell_type": "code",
   "execution_count": 115,
   "id": "fe94c07b",
   "metadata": {},
   "outputs": [
    {
     "data": {
      "text/plain": [
       "tensor(1.1266, dtype=torch.float64)"
      ]
     },
     "execution_count": 115,
     "metadata": {},
     "output_type": "execute_result"
    }
   ],
   "source": [
    "loss = torch.abs(preds-t_dep).mean()\n",
    "loss"
   ]
  },
  {
   "cell_type": "code",
   "execution_count": 133,
   "id": "7bfeb5b8",
   "metadata": {},
   "outputs": [],
   "source": [
    "def calc_preds(coeffs, indeps): return torch.sigmoid((indeps*coeffs).sum(axis=1))\n",
    "def calc_loss(coeffs, indeps, deps): return torch.abs(calc_preds(coeffs, indeps)-deps).mean()"
   ]
  },
  {
   "cell_type": "code",
   "execution_count": 134,
   "id": "9febc249",
   "metadata": {},
   "outputs": [
    {
     "data": {
      "text/plain": [
       "tensor([ 0.2607,  0.9456,  0.2593, -0.0465,  0.0384], requires_grad=True)"
      ]
     },
     "execution_count": 134,
     "metadata": {},
     "output_type": "execute_result"
    }
   ],
   "source": [
    "coeffs.requires_grad_()"
   ]
  },
  {
   "cell_type": "code",
   "execution_count": 135,
   "id": "52230373",
   "metadata": {},
   "outputs": [
    {
     "name": "stdout",
     "output_type": "stream",
     "text": [
      "tensor(0.3263, dtype=torch.float64)\n"
     ]
    }
   ],
   "source": [
    "loss = calc_loss(coeffs, t_indep, t_dep)\n",
    "loss.backward()\n",
    "with torch.no_grad():\n",
    "    coeffs.sub_(coeffs.grad * 0.1)\n",
    "    coeffs.grad.zero_()\n",
    "    print(calc_loss(coeffs, t_indep, t_dep))"
   ]
  },
  {
   "cell_type": "markdown",
   "id": "8daf7dfe",
   "metadata": {},
   "source": [
    "#### Create a Validation and Test split for the data"
   ]
  },
  {
   "cell_type": "code",
   "execution_count": 136,
   "id": "4d564cd4",
   "metadata": {},
   "outputs": [],
   "source": [
    "from fastai.data.transforms import RandomSplitter\n",
    "trn_split,val_split=RandomSplitter(seed=42)(df)"
   ]
  },
  {
   "cell_type": "code",
   "execution_count": 137,
   "id": "75099aa3",
   "metadata": {},
   "outputs": [
    {
     "data": {
      "text/plain": [
       "(187, 46)"
      ]
     },
     "execution_count": 137,
     "metadata": {},
     "output_type": "execute_result"
    }
   ],
   "source": [
    "trn_indep,val_indep = t_indep[trn_split],t_indep[val_split]\n",
    "trn_dep,val_dep = t_dep[trn_split],t_dep[val_split]\n",
    "len(trn_indep),len(val_indep)"
   ]
  },
  {
   "cell_type": "code",
   "execution_count": 138,
   "id": "e47dacbe",
   "metadata": {},
   "outputs": [],
   "source": [
    "def update_coeffs(coeffs, lr):\n",
    "    coeffs.sub_(coeffs.grad * lr)\n",
    "    coeffs.grad.zero_()\n",
    "    \n",
    "def one_epoch(coeffs, lr):\n",
    "    loss = calc_loss(coeffs, trn_indep, trn_dep)\n",
    "    loss.backward()\n",
    "    with torch.no_grad(): update_coeffs(coeffs, lr)\n",
    "    print(f\"{loss:.3f}\", end=\"; \")\n",
    "    \n",
    "def init_coeffs(): return (torch.rand(n_coeff)-0.5).requires_grad_()"
   ]
  },
  {
   "cell_type": "code",
   "execution_count": 139,
   "id": "1f8a298e",
   "metadata": {},
   "outputs": [],
   "source": [
    "def train_model(epochs=30, lr=0.01):\n",
    "    torch.manual_seed(442)\n",
    "    coeffs = init_coeffs()\n",
    "    for i in range(epochs): one_epoch(coeffs, lr=lr)\n",
    "    return coeffs"
   ]
  },
  {
   "cell_type": "code",
   "execution_count": 140,
   "id": "9303c955",
   "metadata": {},
   "outputs": [
    {
     "name": "stdout",
     "output_type": "stream",
     "text": [
      "0.551; 0.543; 0.534; 0.525; 0.516; 0.507; 0.498; 0.490; 0.481; 0.472; 0.463; 0.454; 0.446; 0.437; 0.429; 0.421; 0.413; 0.405; "
     ]
    }
   ],
   "source": [
    "coeffs = train_model(18, lr=0.2)"
   ]
  },
  {
   "cell_type": "code",
   "execution_count": 141,
   "id": "03fe5b38",
   "metadata": {},
   "outputs": [
    {
     "data": {
      "text/plain": [
       "{'average_heartrate': tensor(0.0312),\n",
       " 'max_heartrate': tensor(0.6777),\n",
       " 'moving_time': tensor(0.2984),\n",
       " 'pr': tensor(-0.1743),\n",
       " 'is_rx': tensor(-0.1502)}"
      ]
     },
     "execution_count": 141,
     "metadata": {},
     "output_type": "execute_result"
    }
   ],
   "source": [
    "def show_coeffs(): return dict(zip(indep_cols, coeffs.requires_grad_(False)))\n",
    "show_coeffs()"
   ]
  },
  {
   "cell_type": "markdown",
   "id": "ba81387d",
   "metadata": {},
   "source": [
    "#### Measure Accuracy"
   ]
  },
  {
   "cell_type": "code",
   "execution_count": 142,
   "id": "a4384a95",
   "metadata": {},
   "outputs": [
    {
     "data": {
      "text/plain": [
       "tensor(0.8478)"
      ]
     },
     "execution_count": 142,
     "metadata": {},
     "output_type": "execute_result"
    }
   ],
   "source": [
    "def acc(coeffs): return (val_dep.bool()==(calc_preds(coeffs, val_indep)>0.5)).float().mean()\n",
    "acc(coeffs)"
   ]
  },
  {
   "cell_type": "code",
   "execution_count": null,
   "id": "e6c038f1",
   "metadata": {},
   "outputs": [],
   "source": []
  }
 ],
 "metadata": {
  "kernelspec": {
   "display_name": "Python 3 (ipykernel)",
   "language": "python",
   "name": "python3"
  },
  "language_info": {
   "codemirror_mode": {
    "name": "ipython",
    "version": 3
   },
   "file_extension": ".py",
   "mimetype": "text/x-python",
   "name": "python",
   "nbconvert_exporter": "python",
   "pygments_lexer": "ipython3",
   "version": "3.9.17"
  }
 },
 "nbformat": 4,
 "nbformat_minor": 5
}
