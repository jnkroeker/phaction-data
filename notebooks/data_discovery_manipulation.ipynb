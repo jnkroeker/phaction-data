{
 "cells": [
  {
   "cell_type": "code",
   "execution_count": 53,
   "id": "590f3e4a",
   "metadata": {},
   "outputs": [],
   "source": [
    "import numpy as np\n",
    "import pandas as pd\n",
    "import glob\n",
    "from datetime import datetime\n",
    "import matplotlib.pyplot as plt\n",
    "import seaborn as sns"
   ]
  },
  {
   "cell_type": "code",
   "execution_count": 54,
   "id": "5d4283bc",
   "metadata": {},
   "outputs": [],
   "source": [
    "strava = pd.read_json('../observations/strava/activities.json')\n",
    "sugarwod = pd.read_csv('../observations/sugarwod/workouts.csv')"
   ]
  },
  {
   "cell_type": "markdown",
   "id": "ff3b4fbb",
   "metadata": {},
   "source": [
    "Create new Strava Dataframe columns 'date' and 'start_time' from 'start_date_local.'<br/>\n",
    "This makes it easier to merge SugarWOD and Strava data on a common column.<br/>\n",
    "We can drop the 'start_date_local' column afterward, we won't need it anymore."
   ]
  },
  {
   "cell_type": "code",
   "execution_count": 55,
   "id": "da65fe00",
   "metadata": {},
   "outputs": [],
   "source": [
    "strava['start_date_local'] = pd.to_datetime(strava['start_date_local'])\n",
    "strava['start_time'] = strava['start_date_local'].dt.strftime('%H:%M:%S')\n",
    "strava['date'] = strava['start_date_local'].dt.strftime('%Y-%m-%d')\n",
    "strava = strava.drop(columns=['start_date_local'])"
   ]
  },
  {
   "cell_type": "code",
   "execution_count": 56,
   "id": "7e08c2a1",
   "metadata": {},
   "outputs": [],
   "source": [
    "# Convert sugarwod data format to datetime format\n",
    "sugarwod['date'] = pd.to_datetime(sugarwod['date'])\n",
    "sugarwod['date'] = sugarwod['date'].dt.strftime('%Y-%m-%d')"
   ]
  },
  {
   "cell_type": "code",
   "execution_count": 81,
   "id": "7afa0ed5",
   "metadata": {},
   "outputs": [
    {
     "data": {
      "text/plain": [
       "Index(['resource_state', 'athlete', 'name', 'distance', 'moving_time',\n",
       "       'elapsed_time', 'total_elevation_gain', 'type', 'sport_type', 'id',\n",
       "       'start_date', 'timezone', 'utc_offset', 'location_city',\n",
       "       'location_state', 'location_country', 'achievement_count',\n",
       "       'kudos_count', 'comment_count', 'athlete_count', 'photo_count', 'map',\n",
       "       'trainer', 'commute', 'manual', 'private', 'visibility', 'flagged',\n",
       "       'gear_id', 'start_latlng', 'end_latlng', 'average_speed', 'max_speed',\n",
       "       'has_heartrate', 'average_heartrate', 'max_heartrate',\n",
       "       'heartrate_opt_out', 'display_hide_heartrate_option', 'upload_id',\n",
       "       'upload_id_str', 'external_id', 'from_accepted_tag', 'pr_count',\n",
       "       'total_photo_count', 'has_kudoed', 'workout_type', 'average_watts',\n",
       "       'kilojoules', 'device_watts', 'elev_high', 'elev_low', 'start_time',\n",
       "       'date'],\n",
       "      dtype='object')"
      ]
     },
     "execution_count": 81,
     "metadata": {},
     "output_type": "execute_result"
    }
   ],
   "source": [
    "strava.columns"
   ]
  },
  {
   "cell_type": "code",
   "execution_count": 82,
   "id": "a6503e56",
   "metadata": {},
   "outputs": [
    {
     "data": {
      "text/plain": [
       "Index(['date', 'title', 'description', 'best_result_raw',\n",
       "       'best_result_display', 'score_type', 'barbell_lift', 'set_details',\n",
       "       'notes', 'rx_or_scaled', 'pr'],\n",
       "      dtype='object')"
      ]
     },
     "execution_count": 82,
     "metadata": {},
     "output_type": "execute_result"
    }
   ],
   "source": [
    "sugarwod.columns"
   ]
  },
  {
   "cell_type": "code",
   "execution_count": 57,
   "id": "89a82e5e",
   "metadata": {},
   "outputs": [],
   "source": [
    "# Test: Merge Strava and SugarWOD files together by date field using slimmed down dataframes for testing\n",
    "strav_test=strava[['date', 'average_heartrate', 'max_heartrate']].copy()\n",
    "sugar_test=sugarwod[['date', 'score_type', 'pr']].copy()"
   ]
  },
  {
   "cell_type": "code",
   "execution_count": 58,
   "id": "ab8dab41",
   "metadata": {},
   "outputs": [],
   "source": [
    "test = pd.concat([strav_test, sugar_test])"
   ]
  },
  {
   "cell_type": "code",
   "execution_count": 59,
   "id": "d4bf1284",
   "metadata": {},
   "outputs": [
    {
     "data": {
      "text/html": [
       "<div>\n",
       "<style scoped>\n",
       "    .dataframe tbody tr th:only-of-type {\n",
       "        vertical-align: middle;\n",
       "    }\n",
       "\n",
       "    .dataframe tbody tr th {\n",
       "        vertical-align: top;\n",
       "    }\n",
       "\n",
       "    .dataframe thead th {\n",
       "        text-align: right;\n",
       "    }\n",
       "</style>\n",
       "<table border=\"1\" class=\"dataframe\">\n",
       "  <thead>\n",
       "    <tr style=\"text-align: right;\">\n",
       "      <th></th>\n",
       "      <th>date</th>\n",
       "      <th>average_heartrate</th>\n",
       "      <th>max_heartrate</th>\n",
       "      <th>score_type</th>\n",
       "      <th>pr</th>\n",
       "    </tr>\n",
       "  </thead>\n",
       "  <tbody>\n",
       "    <tr>\n",
       "      <th>57</th>\n",
       "      <td>2022-07-20</td>\n",
       "      <td>158.1</td>\n",
       "      <td>171.0</td>\n",
       "      <td>NaN</td>\n",
       "      <td>NaN</td>\n",
       "    </tr>\n",
       "    <tr>\n",
       "      <th>60</th>\n",
       "      <td>2022-07-20</td>\n",
       "      <td>NaN</td>\n",
       "      <td>NaN</td>\n",
       "      <td>Time</td>\n",
       "      <td>PR</td>\n",
       "    </tr>\n",
       "  </tbody>\n",
       "</table>\n",
       "</div>"
      ],
      "text/plain": [
       "          date  average_heartrate  max_heartrate score_type   pr\n",
       "57  2022-07-20              158.1          171.0        NaN  NaN\n",
       "60  2022-07-20                NaN            NaN       Time   PR"
      ]
     },
     "execution_count": 59,
     "metadata": {},
     "output_type": "execute_result"
    }
   ],
   "source": [
    "# verify there are some rows where there is data for all fields\n",
    "test.loc[test['date'] == '2022-07-20']"
   ]
  },
  {
   "cell_type": "code",
   "execution_count": 60,
   "id": "e984271f",
   "metadata": {},
   "outputs": [
    {
     "data": {
      "text/html": [
       "<div>\n",
       "<style scoped>\n",
       "    .dataframe tbody tr th:only-of-type {\n",
       "        vertical-align: middle;\n",
       "    }\n",
       "\n",
       "    .dataframe tbody tr th {\n",
       "        vertical-align: top;\n",
       "    }\n",
       "\n",
       "    .dataframe thead th {\n",
       "        text-align: right;\n",
       "    }\n",
       "</style>\n",
       "<table border=\"1\" class=\"dataframe\">\n",
       "  <thead>\n",
       "    <tr style=\"text-align: right;\">\n",
       "      <th></th>\n",
       "      <th>date</th>\n",
       "      <th>average_heartrate</th>\n",
       "      <th>max_heartrate</th>\n",
       "      <th>score_type</th>\n",
       "      <th>pr</th>\n",
       "    </tr>\n",
       "  </thead>\n",
       "  <tbody>\n",
       "    <tr>\n",
       "      <th>154</th>\n",
       "      <td>2022-07-20</td>\n",
       "      <td>158.1</td>\n",
       "      <td>171.0</td>\n",
       "      <td>Time</td>\n",
       "      <td>PR</td>\n",
       "    </tr>\n",
       "  </tbody>\n",
       "</table>\n",
       "</div>"
      ],
      "text/plain": [
       "           date  average_heartrate  max_heartrate score_type  pr\n",
       "154  2022-07-20              158.1          171.0       Time  PR"
      ]
     },
     "execution_count": 60,
     "metadata": {},
     "output_type": "execute_result"
    }
   ],
   "source": [
    "# create a new DataFrame by combining rows with same date values\n",
    "# as_index \n",
    "df_new = test.groupby(test['date'], as_index=False).aggregate('first')\n",
    "\n",
    "# verify the rows are merged appropriately\n",
    "df_new.loc[df_new['date'] == '2022-07-20']"
   ]
  },
  {
   "cell_type": "markdown",
   "id": "aa58b2f7",
   "metadata": {},
   "source": [
    "Merge all Wodify files together into one Dataframe"
   ]
  },
  {
   "cell_type": "code",
   "execution_count": 61,
   "id": "5b8385ec",
   "metadata": {},
   "outputs": [],
   "source": [
    "wodify_lifts = pd.read_excel('../observations/wodify/PerformanceResults.xlsx')\n",
    "wodify_metcons = pd.read_excel('../observations/wodify/PerformanceResultsMetcons.xlsx')\n",
    "wodify_prs = pd.read_excel('../observations/wodify/PerformanceResultsPRs.xlsx')"
   ]
  },
  {
   "cell_type": "code",
   "execution_count": 62,
   "id": "678294eb",
   "metadata": {},
   "outputs": [],
   "source": [
    "wodify_lifts['date'] = wodify_lifts['Date'].dt.strftime('%Y-%m-%d')\n",
    "wodify_lifts = wodify_lifts.drop(columns=['Date'])\n",
    "wodify_metcons['date'] = wodify_metcons['Date'].dt.strftime('%Y-%m-%d')\n",
    "wodify_metcons = wodify_metcons.drop(columns=['Date'])\n",
    "wodify_prs['Peformance Result Date'] = pd.to_datetime(wodify_prs['Performance Result Date'])\n",
    "wodify_prs['date'] = wodify_prs['Performance Result Date'].dt.strftime('%Y-%m-%d')\n",
    "wodify_prs = wodify_prs.drop(columns=['Performance Result Date'])"
   ]
  },
  {
   "cell_type": "markdown",
   "id": "18c4b527",
   "metadata": {},
   "source": [
    "### Problem: how to merge Dataframes with the same Column names and preserve the data in each?"
   ]
  },
  {
   "cell_type": "code",
   "execution_count": 63,
   "id": "f313ee23",
   "metadata": {},
   "outputs": [
    {
     "data": {
      "text/plain": [
       "Index(['Component', 'Affiliate Name', 'Class Name', 'Result',\n",
       "       'Is Personal Record', 'Personal Record Description',\n",
       "       'Performance Result Type', 'Comment', 'From Weightlifting Total',\n",
       "       'date'],\n",
       "      dtype='object')"
      ]
     },
     "execution_count": 63,
     "metadata": {},
     "output_type": "execute_result"
    }
   ],
   "source": [
    "wodify_lifts.columns"
   ]
  },
  {
   "cell_type": "code",
   "execution_count": 64,
   "id": "a7f4893f",
   "metadata": {},
   "outputs": [
    {
     "data": {
      "text/plain": [
       "Index(['Component', 'Component Description', 'Component(2)', 'Affiliate Name',\n",
       "       'Class Name', 'Fully Formatted Result', 'Is Personal Record',\n",
       "       'Personal Record Description', 'Is Rx', 'Is Rx Plus',\n",
       "       'Result Type Label', 'Full Comment', 'date'],\n",
       "      dtype='object')"
      ]
     },
     "execution_count": 64,
     "metadata": {},
     "output_type": "execute_result"
    }
   ],
   "source": [
    "wodify_metcons.columns"
   ]
  },
  {
   "cell_type": "code",
   "execution_count": 65,
   "id": "6c83629a",
   "metadata": {},
   "outputs": [
    {
     "data": {
      "text/plain": [
       "Index(['Component Name', 'Result', 'Rep Scheme', 'Performance Result Comment',\n",
       "       'Class Name', 'Personal Record Text', 'Peformance Result Date', 'date'],\n",
       "      dtype='object')"
      ]
     },
     "execution_count": 65,
     "metadata": {},
     "output_type": "execute_result"
    }
   ],
   "source": [
    "wodify_prs.columns"
   ]
  },
  {
   "cell_type": "markdown",
   "id": "856e3e3d",
   "metadata": {},
   "source": [
    "### 6 Overlapping Columns May Pose Issues "
   ]
  },
  {
   "cell_type": "markdown",
   "id": "b3008f87",
   "metadata": {},
   "source": [
    "Date, Component, Affiliate Name, Class Name, Is Personal Record, Personal Record Description.\n",
    "\n",
    "Look at each of these columns to infer how they may be merged."
   ]
  },
  {
   "cell_type": "code",
   "execution_count": 66,
   "id": "2e53279f",
   "metadata": {},
   "outputs": [],
   "source": [
    "lift_overlap = wodify_lifts[['date', 'Component', 'Affiliate Name', 'Class Name', 'Is Personal Record', 'Personal Record Description']].copy()\n",
    "metcon_overlap = wodify_metcons[['date', 'Component', 'Affiliate Name', 'Class Name', 'Is Personal Record', 'Personal Record Description']].copy()\n",
    "prs_overlap = wodify_prs[['date', 'Peformance Result Date', 'Class Name']].copy()"
   ]
  },
  {
   "cell_type": "code",
   "execution_count": 67,
   "id": "585f1a11",
   "metadata": {},
   "outputs": [
    {
     "data": {
      "text/html": [
       "<div>\n",
       "<style scoped>\n",
       "    .dataframe tbody tr th:only-of-type {\n",
       "        vertical-align: middle;\n",
       "    }\n",
       "\n",
       "    .dataframe tbody tr th {\n",
       "        vertical-align: top;\n",
       "    }\n",
       "\n",
       "    .dataframe thead th {\n",
       "        text-align: right;\n",
       "    }\n",
       "</style>\n",
       "<table border=\"1\" class=\"dataframe\">\n",
       "  <thead>\n",
       "    <tr style=\"text-align: right;\">\n",
       "      <th></th>\n",
       "      <th>date</th>\n",
       "      <th>Component</th>\n",
       "      <th>Affiliate Name</th>\n",
       "      <th>Class Name</th>\n",
       "      <th>Is Personal Record</th>\n",
       "      <th>Personal Record Description</th>\n",
       "    </tr>\n",
       "  </thead>\n",
       "  <tbody>\n",
       "    <tr>\n",
       "      <th>0</th>\n",
       "      <td>2023-02-08</td>\n",
       "      <td>Back Squat</td>\n",
       "      <td>CrossFit Cove</td>\n",
       "      <td>Cove Fitness: 5:45 PM</td>\n",
       "      <td>False</td>\n",
       "      <td>NaN</td>\n",
       "    </tr>\n",
       "    <tr>\n",
       "      <th>1</th>\n",
       "      <td>2023-02-07</td>\n",
       "      <td>Deadlift</td>\n",
       "      <td>CrossFit Cove</td>\n",
       "      <td>Cove Fitness: 5:45 PM</td>\n",
       "      <td>False</td>\n",
       "      <td>NaN</td>\n",
       "    </tr>\n",
       "    <tr>\n",
       "      <th>2</th>\n",
       "      <td>2023-01-18</td>\n",
       "      <td>Deadlift</td>\n",
       "      <td>CrossFit Cove</td>\n",
       "      <td>Cove Fitness:  Noon</td>\n",
       "      <td>False</td>\n",
       "      <td>NaN</td>\n",
       "    </tr>\n",
       "    <tr>\n",
       "      <th>3</th>\n",
       "      <td>2023-01-16</td>\n",
       "      <td>Hang Power Snatch</td>\n",
       "      <td>CrossFit Cove</td>\n",
       "      <td>Cove Fitness: 5:45 PM</td>\n",
       "      <td>False</td>\n",
       "      <td>NaN</td>\n",
       "    </tr>\n",
       "    <tr>\n",
       "      <th>4</th>\n",
       "      <td>2023-01-10</td>\n",
       "      <td>Deadlift</td>\n",
       "      <td>CrossFit Cove</td>\n",
       "      <td>Cove Fitness:  Noon</td>\n",
       "      <td>True</td>\n",
       "      <td>PR by 20 lbs vs. 255 on 11/02/2022</td>\n",
       "    </tr>\n",
       "  </tbody>\n",
       "</table>\n",
       "</div>"
      ],
      "text/plain": [
       "         date          Component Affiliate Name             Class Name  \\\n",
       "0  2023-02-08         Back Squat  CrossFit Cove  Cove Fitness: 5:45 PM   \n",
       "1  2023-02-07           Deadlift  CrossFit Cove  Cove Fitness: 5:45 PM   \n",
       "2  2023-01-18           Deadlift  CrossFit Cove    Cove Fitness:  Noon   \n",
       "3  2023-01-16  Hang Power Snatch  CrossFit Cove  Cove Fitness: 5:45 PM   \n",
       "4  2023-01-10           Deadlift  CrossFit Cove    Cove Fitness:  Noon   \n",
       "\n",
       "   Is Personal Record         Personal Record Description  \n",
       "0               False                                 NaN  \n",
       "1               False                                 NaN  \n",
       "2               False                                 NaN  \n",
       "3               False                                 NaN  \n",
       "4                True  PR by 20 lbs vs. 255 on 11/02/2022  "
      ]
     },
     "execution_count": 67,
     "metadata": {},
     "output_type": "execute_result"
    }
   ],
   "source": [
    "lift_overlap.head()"
   ]
  },
  {
   "cell_type": "code",
   "execution_count": 68,
   "id": "1ea8f70d",
   "metadata": {},
   "outputs": [
    {
     "data": {
      "text/html": [
       "<div>\n",
       "<style scoped>\n",
       "    .dataframe tbody tr th:only-of-type {\n",
       "        vertical-align: middle;\n",
       "    }\n",
       "\n",
       "    .dataframe tbody tr th {\n",
       "        vertical-align: top;\n",
       "    }\n",
       "\n",
       "    .dataframe thead th {\n",
       "        text-align: right;\n",
       "    }\n",
       "</style>\n",
       "<table border=\"1\" class=\"dataframe\">\n",
       "  <thead>\n",
       "    <tr style=\"text-align: right;\">\n",
       "      <th></th>\n",
       "      <th>date</th>\n",
       "      <th>Component</th>\n",
       "      <th>Affiliate Name</th>\n",
       "      <th>Class Name</th>\n",
       "      <th>Is Personal Record</th>\n",
       "      <th>Personal Record Description</th>\n",
       "    </tr>\n",
       "  </thead>\n",
       "  <tbody>\n",
       "    <tr>\n",
       "      <th>0</th>\n",
       "      <td>2023-02-10</td>\n",
       "      <td>Rear View</td>\n",
       "      <td>CrossFit Cove</td>\n",
       "      <td>Cove Fitness: 5:45 PM</td>\n",
       "      <td>False</td>\n",
       "      <td>NaN</td>\n",
       "    </tr>\n",
       "    <tr>\n",
       "      <th>1</th>\n",
       "      <td>2023-02-09</td>\n",
       "      <td>Wait a Minute</td>\n",
       "      <td>CrossFit Cove</td>\n",
       "      <td>Cove Fitness: 5:45 PM</td>\n",
       "      <td>False</td>\n",
       "      <td>NaN</td>\n",
       "    </tr>\n",
       "    <tr>\n",
       "      <th>2</th>\n",
       "      <td>2023-02-08</td>\n",
       "      <td>Tenacious</td>\n",
       "      <td>CrossFit Cove</td>\n",
       "      <td>Cove Fitness: 5:45 PM</td>\n",
       "      <td>False</td>\n",
       "      <td>NaN</td>\n",
       "    </tr>\n",
       "    <tr>\n",
       "      <th>3</th>\n",
       "      <td>2023-02-07</td>\n",
       "      <td>Individual Quarter Finals 21.1</td>\n",
       "      <td>CrossFit Cove</td>\n",
       "      <td>Cove Fitness: 5:45 PM</td>\n",
       "      <td>False</td>\n",
       "      <td>NaN</td>\n",
       "    </tr>\n",
       "    <tr>\n",
       "      <th>4</th>\n",
       "      <td>2023-02-06</td>\n",
       "      <td>When Randy Met Nancy</td>\n",
       "      <td>CrossFit Cove</td>\n",
       "      <td>Cove Fitness: 5:45 PM</td>\n",
       "      <td>False</td>\n",
       "      <td>NaN</td>\n",
       "    </tr>\n",
       "  </tbody>\n",
       "</table>\n",
       "</div>"
      ],
      "text/plain": [
       "         date                       Component Affiliate Name  \\\n",
       "0  2023-02-10                       Rear View  CrossFit Cove   \n",
       "1  2023-02-09                   Wait a Minute  CrossFit Cove   \n",
       "2  2023-02-08                       Tenacious  CrossFit Cove   \n",
       "3  2023-02-07  Individual Quarter Finals 21.1  CrossFit Cove   \n",
       "4  2023-02-06            When Randy Met Nancy  CrossFit Cove   \n",
       "\n",
       "              Class Name  Is Personal Record  Personal Record Description  \n",
       "0  Cove Fitness: 5:45 PM               False                          NaN  \n",
       "1  Cove Fitness: 5:45 PM               False                          NaN  \n",
       "2  Cove Fitness: 5:45 PM               False                          NaN  \n",
       "3  Cove Fitness: 5:45 PM               False                          NaN  \n",
       "4  Cove Fitness: 5:45 PM               False                          NaN  "
      ]
     },
     "execution_count": 68,
     "metadata": {},
     "output_type": "execute_result"
    }
   ],
   "source": [
    "metcon_overlap.head()"
   ]
  },
  {
   "cell_type": "code",
   "execution_count": 69,
   "id": "7ae13c25",
   "metadata": {},
   "outputs": [
    {
     "data": {
      "text/html": [
       "<div>\n",
       "<style scoped>\n",
       "    .dataframe tbody tr th:only-of-type {\n",
       "        vertical-align: middle;\n",
       "    }\n",
       "\n",
       "    .dataframe tbody tr th {\n",
       "        vertical-align: top;\n",
       "    }\n",
       "\n",
       "    .dataframe thead th {\n",
       "        text-align: right;\n",
       "    }\n",
       "</style>\n",
       "<table border=\"1\" class=\"dataframe\">\n",
       "  <thead>\n",
       "    <tr style=\"text-align: right;\">\n",
       "      <th></th>\n",
       "      <th>date</th>\n",
       "      <th>Peformance Result Date</th>\n",
       "      <th>Class Name</th>\n",
       "    </tr>\n",
       "  </thead>\n",
       "  <tbody>\n",
       "    <tr>\n",
       "      <th>0</th>\n",
       "      <td>2023-01-10</td>\n",
       "      <td>2023-01-10</td>\n",
       "      <td>Cove Fitness:  Noon</td>\n",
       "    </tr>\n",
       "  </tbody>\n",
       "</table>\n",
       "</div>"
      ],
      "text/plain": [
       "         date Peformance Result Date           Class Name\n",
       "0  2023-01-10             2023-01-10  Cove Fitness:  Noon"
      ]
     },
     "execution_count": 69,
     "metadata": {},
     "output_type": "execute_result"
    }
   ],
   "source": [
    "prs_overlap.head()"
   ]
  },
  {
   "cell_type": "markdown",
   "id": "0985b328",
   "metadata": {},
   "source": [
    "From this view:\n",
    "\n",
    "'Performance Result Date' of the PRs table can be dropped because it is a duplicate.\n",
    "\n",
    "'Component' columns of Lift and Metcon tables must be renamed to preserve data. Modify 'Component Name' in PRs too.\n",
    "    \n",
    "    rename to 'lift_component', 'metcon_component', 'pr_component'\n",
    "\n",
    "'Affiliate Name' columns of Lift and Metcon will merge without any loss.\n",
    "\n",
    "'Class Name' columns of Lift and Metcon will merge, assuming I do just one WOD each day, which is a safe assumption.\n",
    "\n",
    "'Is Personal Record' and 'Personal Record Description' of Lift and Metcon must be renamed.\n",
    "\n",
    "    rename to 'is_lift_pr', 'is_metcon_pr', 'lift_pr_description', 'metcon_pr_description'"
   ]
  },
  {
   "cell_type": "code",
   "execution_count": 70,
   "id": "5acb8dd8",
   "metadata": {},
   "outputs": [],
   "source": [
    "prs_overlap = prs_overlap.drop(columns=['Peformance Result Date'])\n",
    "wodify_test = pd.concat([lift_overlap, metcon_overlap, prs_overlap])"
   ]
  },
  {
   "cell_type": "code",
   "execution_count": 71,
   "id": "f22e738b",
   "metadata": {},
   "outputs": [
    {
     "data": {
      "text/html": [
       "<div>\n",
       "<style scoped>\n",
       "    .dataframe tbody tr th:only-of-type {\n",
       "        vertical-align: middle;\n",
       "    }\n",
       "\n",
       "    .dataframe tbody tr th {\n",
       "        vertical-align: top;\n",
       "    }\n",
       "\n",
       "    .dataframe thead th {\n",
       "        text-align: right;\n",
       "    }\n",
       "</style>\n",
       "<table border=\"1\" class=\"dataframe\">\n",
       "  <thead>\n",
       "    <tr style=\"text-align: right;\">\n",
       "      <th></th>\n",
       "      <th>date</th>\n",
       "      <th>Component</th>\n",
       "      <th>Affiliate Name</th>\n",
       "      <th>Class Name</th>\n",
       "      <th>Is Personal Record</th>\n",
       "      <th>Personal Record Description</th>\n",
       "    </tr>\n",
       "  </thead>\n",
       "  <tbody>\n",
       "    <tr>\n",
       "      <th>4</th>\n",
       "      <td>2023-01-10</td>\n",
       "      <td>Deadlift</td>\n",
       "      <td>CrossFit Cove</td>\n",
       "      <td>Cove Fitness:  Noon</td>\n",
       "      <td>True</td>\n",
       "      <td>PR by 20 lbs vs. 255 on 11/02/2022</td>\n",
       "    </tr>\n",
       "    <tr>\n",
       "      <th>14</th>\n",
       "      <td>2023-01-10</td>\n",
       "      <td>Marston</td>\n",
       "      <td>CrossFit Cove</td>\n",
       "      <td>Cove Fitness:  Noon</td>\n",
       "      <td>False</td>\n",
       "      <td>NaN</td>\n",
       "    </tr>\n",
       "    <tr>\n",
       "      <th>0</th>\n",
       "      <td>2023-01-10</td>\n",
       "      <td>NaN</td>\n",
       "      <td>NaN</td>\n",
       "      <td>Cove Fitness:  Noon</td>\n",
       "      <td>NaN</td>\n",
       "      <td>NaN</td>\n",
       "    </tr>\n",
       "  </tbody>\n",
       "</table>\n",
       "</div>"
      ],
      "text/plain": [
       "          date Component Affiliate Name           Class Name  \\\n",
       "4   2023-01-10  Deadlift  CrossFit Cove  Cove Fitness:  Noon   \n",
       "14  2023-01-10   Marston  CrossFit Cove  Cove Fitness:  Noon   \n",
       "0   2023-01-10       NaN            NaN  Cove Fitness:  Noon   \n",
       "\n",
       "   Is Personal Record         Personal Record Description  \n",
       "4                True  PR by 20 lbs vs. 255 on 11/02/2022  \n",
       "14              False                                 NaN  \n",
       "0                 NaN                                 NaN  "
      ]
     },
     "execution_count": 71,
     "metadata": {},
     "output_type": "execute_result"
    }
   ],
   "source": [
    "# verify there are some rows where there is data for all fields\n",
    "#\n",
    "# Use date '2023-01-10' because it is the only date for which \n",
    "# there is an entry in all three Dataframes\n",
    "\n",
    "wodify_test.loc[wodify_test['date'] == '2023-01-10']"
   ]
  },
  {
   "cell_type": "markdown",
   "id": "1ed863f5",
   "metadata": {},
   "source": [
    "#### Notice how merging dataframes creates data loss in the overlapping columns Component\n",
    "\n",
    "It has the potential to lose data in Is Personal Record and Personal Record Description as well because\n",
    "I may have a PR for both a lift and metcon on the same day."
   ]
  },
  {
   "cell_type": "code",
   "execution_count": 72,
   "id": "f9d8f2ba",
   "metadata": {},
   "outputs": [
    {
     "data": {
      "text/html": [
       "<div>\n",
       "<style scoped>\n",
       "    .dataframe tbody tr th:only-of-type {\n",
       "        vertical-align: middle;\n",
       "    }\n",
       "\n",
       "    .dataframe tbody tr th {\n",
       "        vertical-align: top;\n",
       "    }\n",
       "\n",
       "    .dataframe thead th {\n",
       "        text-align: right;\n",
       "    }\n",
       "</style>\n",
       "<table border=\"1\" class=\"dataframe\">\n",
       "  <thead>\n",
       "    <tr style=\"text-align: right;\">\n",
       "      <th></th>\n",
       "      <th>date</th>\n",
       "      <th>Component</th>\n",
       "      <th>Affiliate Name</th>\n",
       "      <th>Class Name</th>\n",
       "      <th>Is Personal Record</th>\n",
       "      <th>Personal Record Description</th>\n",
       "    </tr>\n",
       "  </thead>\n",
       "  <tbody>\n",
       "    <tr>\n",
       "      <th>15</th>\n",
       "      <td>2023-01-10</td>\n",
       "      <td>Deadlift</td>\n",
       "      <td>CrossFit Cove</td>\n",
       "      <td>Cove Fitness:  Noon</td>\n",
       "      <td>True</td>\n",
       "      <td>PR by 20 lbs vs. 255 on 11/02/2022</td>\n",
       "    </tr>\n",
       "  </tbody>\n",
       "</table>\n",
       "</div>"
      ],
      "text/plain": [
       "          date Component Affiliate Name           Class Name  \\\n",
       "15  2023-01-10  Deadlift  CrossFit Cove  Cove Fitness:  Noon   \n",
       "\n",
       "    Is Personal Record         Personal Record Description  \n",
       "15                True  PR by 20 lbs vs. 255 on 11/02/2022  "
      ]
     },
     "execution_count": 72,
     "metadata": {},
     "output_type": "execute_result"
    }
   ],
   "source": [
    "df_wfy = wodify_test.groupby(wodify_test['date'], as_index=False).aggregate('first')\n",
    "df_wfy.loc[df_wfy['date'] == '2023-01-10']"
   ]
  },
  {
   "cell_type": "markdown",
   "id": "7b5dbf72",
   "metadata": {},
   "source": [
    "#### Where as if I selected non-overlapping columns..."
   ]
  },
  {
   "cell_type": "code",
   "execution_count": 73,
   "id": "dbb2f197",
   "metadata": {},
   "outputs": [],
   "source": [
    "lift_test = wodify_lifts[['date', 'From Weightlifting Total']].copy()\n",
    "metcon_test = wodify_metcons[['date', 'Is Rx']].copy()\n",
    "prs_test = wodify_prs[['date', 'Rep Scheme']].copy()\n",
    "wodify_test = pd.concat([lift_test, metcon_test, prs_test])"
   ]
  },
  {
   "cell_type": "code",
   "execution_count": 74,
   "id": "98d5c074",
   "metadata": {},
   "outputs": [
    {
     "data": {
      "text/html": [
       "<div>\n",
       "<style scoped>\n",
       "    .dataframe tbody tr th:only-of-type {\n",
       "        vertical-align: middle;\n",
       "    }\n",
       "\n",
       "    .dataframe tbody tr th {\n",
       "        vertical-align: top;\n",
       "    }\n",
       "\n",
       "    .dataframe thead th {\n",
       "        text-align: right;\n",
       "    }\n",
       "</style>\n",
       "<table border=\"1\" class=\"dataframe\">\n",
       "  <thead>\n",
       "    <tr style=\"text-align: right;\">\n",
       "      <th></th>\n",
       "      <th>date</th>\n",
       "      <th>From Weightlifting Total</th>\n",
       "      <th>Is Rx</th>\n",
       "      <th>Rep Scheme</th>\n",
       "    </tr>\n",
       "  </thead>\n",
       "  <tbody>\n",
       "    <tr>\n",
       "      <th>4</th>\n",
       "      <td>2023-01-10</td>\n",
       "      <td>False</td>\n",
       "      <td>NaN</td>\n",
       "      <td>NaN</td>\n",
       "    </tr>\n",
       "    <tr>\n",
       "      <th>14</th>\n",
       "      <td>2023-01-10</td>\n",
       "      <td>NaN</td>\n",
       "      <td>True</td>\n",
       "      <td>NaN</td>\n",
       "    </tr>\n",
       "    <tr>\n",
       "      <th>0</th>\n",
       "      <td>2023-01-10</td>\n",
       "      <td>NaN</td>\n",
       "      <td>NaN</td>\n",
       "      <td>Build to a heavy set of 5</td>\n",
       "    </tr>\n",
       "  </tbody>\n",
       "</table>\n",
       "</div>"
      ],
      "text/plain": [
       "          date From Weightlifting Total Is Rx                 Rep Scheme\n",
       "4   2023-01-10                    False   NaN                        NaN\n",
       "14  2023-01-10                      NaN  True                        NaN\n",
       "0   2023-01-10                      NaN   NaN  Build to a heavy set of 5"
      ]
     },
     "execution_count": 74,
     "metadata": {},
     "output_type": "execute_result"
    }
   ],
   "source": [
    "wodify_test.loc[wodify_test['date'] == '2023-01-10']"
   ]
  },
  {
   "cell_type": "code",
   "execution_count": 75,
   "id": "e9135cc7",
   "metadata": {},
   "outputs": [
    {
     "data": {
      "text/html": [
       "<div>\n",
       "<style scoped>\n",
       "    .dataframe tbody tr th:only-of-type {\n",
       "        vertical-align: middle;\n",
       "    }\n",
       "\n",
       "    .dataframe tbody tr th {\n",
       "        vertical-align: top;\n",
       "    }\n",
       "\n",
       "    .dataframe thead th {\n",
       "        text-align: right;\n",
       "    }\n",
       "</style>\n",
       "<table border=\"1\" class=\"dataframe\">\n",
       "  <thead>\n",
       "    <tr style=\"text-align: right;\">\n",
       "      <th></th>\n",
       "      <th>date</th>\n",
       "      <th>From Weightlifting Total</th>\n",
       "      <th>Is Rx</th>\n",
       "      <th>Rep Scheme</th>\n",
       "    </tr>\n",
       "  </thead>\n",
       "  <tbody>\n",
       "    <tr>\n",
       "      <th>15</th>\n",
       "      <td>2023-01-10</td>\n",
       "      <td>False</td>\n",
       "      <td>True</td>\n",
       "      <td>Build to a heavy set of 5</td>\n",
       "    </tr>\n",
       "  </tbody>\n",
       "</table>\n",
       "</div>"
      ],
      "text/plain": [
       "          date From Weightlifting Total  Is Rx                 Rep Scheme\n",
       "15  2023-01-10                    False   True  Build to a heavy set of 5"
      ]
     },
     "execution_count": 75,
     "metadata": {},
     "output_type": "execute_result"
    }
   ],
   "source": [
    "df_wfy = wodify_test.groupby(wodify_test['date'], as_index=False).aggregate('first')\n",
    "df_wfy.loc[df_wfy['date'] == '2023-01-10']"
   ]
  },
  {
   "cell_type": "markdown",
   "id": "1763242d",
   "metadata": {},
   "source": [
    "### First attempt to rectify: rename overlapping columns to specify their origin"
   ]
  },
  {
   "cell_type": "code",
   "execution_count": 76,
   "id": "852dd87b",
   "metadata": {},
   "outputs": [],
   "source": [
    "# Rename all Component columns to refer specifically to the data set they compromise\n",
    "\n",
    "lift_overlap['lift_component'] = lift_overlap['Component']\n",
    "lift_overlap = lift_overlap.drop(columns=['Component'])\n",
    "\n",
    "metcon_overlap['metcon_component'] = metcon_overlap['Component']\n",
    "metcon_overlap = metcon_overlap.drop(columns=['Component'])\n",
    "\n",
    "# Previously dropped Component Name column in this notebook.\n",
    "# prs_overlap['pr_component'] = prs_overlap['Component Name']\n",
    "# prs_overlap = prs_overlap.drop(columns=['Component Name'])\n",
    "\n",
    "# 'Is Personal Record' and 'Personal Record Description' of Lift and Metcon must be renamed.\n",
    "# rename to 'is_lift_pr', 'is_metcon_pr', 'lift_pr_description', 'metcon_pr_description'\n",
    "\n",
    "lift_overlap['is_lift_pr'] = lift_overlap['Is Personal Record']\n",
    "lift_overlap['lift_pr_description'] = lift_overlap['Personal Record Description']\n",
    "lift_overlap = lift_overlap.drop(columns=['Is Personal Record'])\n",
    "lift_overlap = lift_overlap.drop(columns=['Personal Record Description'])\n",
    "\n",
    "metcon_overlap['is_metcon_pr'] = metcon_overlap['Is Personal Record']\n",
    "metcon_overlap['metcon_pr_description'] = metcon_overlap['Personal Record Description']\n",
    "metcon_overlap = metcon_overlap.drop(columns=['Is Personal Record'])\n",
    "metcon_overlap = metcon_overlap.drop(columns=['Personal Record Description'])"
   ]
  },
  {
   "cell_type": "code",
   "execution_count": 77,
   "id": "f53fe311",
   "metadata": {},
   "outputs": [],
   "source": [
    "wodify_test = pd.concat([lift_overlap, metcon_overlap, prs_overlap])"
   ]
  },
  {
   "cell_type": "code",
   "execution_count": 78,
   "id": "226fd2e4",
   "metadata": {},
   "outputs": [
    {
     "data": {
      "text/html": [
       "<div>\n",
       "<style scoped>\n",
       "    .dataframe tbody tr th:only-of-type {\n",
       "        vertical-align: middle;\n",
       "    }\n",
       "\n",
       "    .dataframe tbody tr th {\n",
       "        vertical-align: top;\n",
       "    }\n",
       "\n",
       "    .dataframe thead th {\n",
       "        text-align: right;\n",
       "    }\n",
       "</style>\n",
       "<table border=\"1\" class=\"dataframe\">\n",
       "  <thead>\n",
       "    <tr style=\"text-align: right;\">\n",
       "      <th></th>\n",
       "      <th>date</th>\n",
       "      <th>Affiliate Name</th>\n",
       "      <th>Class Name</th>\n",
       "      <th>lift_component</th>\n",
       "      <th>is_lift_pr</th>\n",
       "      <th>lift_pr_description</th>\n",
       "      <th>metcon_component</th>\n",
       "      <th>is_metcon_pr</th>\n",
       "      <th>metcon_pr_description</th>\n",
       "    </tr>\n",
       "  </thead>\n",
       "  <tbody>\n",
       "    <tr>\n",
       "      <th>4</th>\n",
       "      <td>2023-01-10</td>\n",
       "      <td>CrossFit Cove</td>\n",
       "      <td>Cove Fitness:  Noon</td>\n",
       "      <td>Deadlift</td>\n",
       "      <td>True</td>\n",
       "      <td>PR by 20 lbs vs. 255 on 11/02/2022</td>\n",
       "      <td>NaN</td>\n",
       "      <td>NaN</td>\n",
       "      <td>NaN</td>\n",
       "    </tr>\n",
       "    <tr>\n",
       "      <th>14</th>\n",
       "      <td>2023-01-10</td>\n",
       "      <td>CrossFit Cove</td>\n",
       "      <td>Cove Fitness:  Noon</td>\n",
       "      <td>NaN</td>\n",
       "      <td>NaN</td>\n",
       "      <td>NaN</td>\n",
       "      <td>Marston</td>\n",
       "      <td>False</td>\n",
       "      <td>NaN</td>\n",
       "    </tr>\n",
       "    <tr>\n",
       "      <th>0</th>\n",
       "      <td>2023-01-10</td>\n",
       "      <td>NaN</td>\n",
       "      <td>Cove Fitness:  Noon</td>\n",
       "      <td>NaN</td>\n",
       "      <td>NaN</td>\n",
       "      <td>NaN</td>\n",
       "      <td>NaN</td>\n",
       "      <td>NaN</td>\n",
       "      <td>NaN</td>\n",
       "    </tr>\n",
       "  </tbody>\n",
       "</table>\n",
       "</div>"
      ],
      "text/plain": [
       "          date Affiliate Name           Class Name lift_component is_lift_pr  \\\n",
       "4   2023-01-10  CrossFit Cove  Cove Fitness:  Noon       Deadlift       True   \n",
       "14  2023-01-10  CrossFit Cove  Cove Fitness:  Noon            NaN        NaN   \n",
       "0   2023-01-10            NaN  Cove Fitness:  Noon            NaN        NaN   \n",
       "\n",
       "                   lift_pr_description metcon_component is_metcon_pr  \\\n",
       "4   PR by 20 lbs vs. 255 on 11/02/2022              NaN          NaN   \n",
       "14                                 NaN          Marston        False   \n",
       "0                                  NaN              NaN          NaN   \n",
       "\n",
       "    metcon_pr_description  \n",
       "4                     NaN  \n",
       "14                    NaN  \n",
       "0                     NaN  "
      ]
     },
     "execution_count": 78,
     "metadata": {},
     "output_type": "execute_result"
    }
   ],
   "source": [
    "wodify_test.loc[wodify_test['date'] == '2023-01-10']"
   ]
  },
  {
   "cell_type": "code",
   "execution_count": 80,
   "id": "54d3b7be",
   "metadata": {},
   "outputs": [
    {
     "data": {
      "text/html": [
       "<div>\n",
       "<style scoped>\n",
       "    .dataframe tbody tr th:only-of-type {\n",
       "        vertical-align: middle;\n",
       "    }\n",
       "\n",
       "    .dataframe tbody tr th {\n",
       "        vertical-align: top;\n",
       "    }\n",
       "\n",
       "    .dataframe thead th {\n",
       "        text-align: right;\n",
       "    }\n",
       "</style>\n",
       "<table border=\"1\" class=\"dataframe\">\n",
       "  <thead>\n",
       "    <tr style=\"text-align: right;\">\n",
       "      <th></th>\n",
       "      <th>date</th>\n",
       "      <th>Affiliate Name</th>\n",
       "      <th>Class Name</th>\n",
       "      <th>lift_component</th>\n",
       "      <th>is_lift_pr</th>\n",
       "      <th>lift_pr_description</th>\n",
       "      <th>metcon_component</th>\n",
       "      <th>is_metcon_pr</th>\n",
       "      <th>metcon_pr_description</th>\n",
       "    </tr>\n",
       "  </thead>\n",
       "  <tbody>\n",
       "    <tr>\n",
       "      <th>15</th>\n",
       "      <td>2023-01-10</td>\n",
       "      <td>CrossFit Cove</td>\n",
       "      <td>Cove Fitness:  Noon</td>\n",
       "      <td>Deadlift</td>\n",
       "      <td>True</td>\n",
       "      <td>PR by 20 lbs vs. 255 on 11/02/2022</td>\n",
       "      <td>Marston</td>\n",
       "      <td>False</td>\n",
       "      <td>NaN</td>\n",
       "    </tr>\n",
       "  </tbody>\n",
       "</table>\n",
       "</div>"
      ],
      "text/plain": [
       "          date Affiliate Name           Class Name lift_component is_lift_pr  \\\n",
       "15  2023-01-10  CrossFit Cove  Cove Fitness:  Noon       Deadlift       True   \n",
       "\n",
       "                   lift_pr_description metcon_component  is_metcon_pr  \\\n",
       "15  PR by 20 lbs vs. 255 on 11/02/2022          Marston         False   \n",
       "\n",
       "    metcon_pr_description  \n",
       "15                    NaN  "
      ]
     },
     "execution_count": 80,
     "metadata": {},
     "output_type": "execute_result"
    }
   ],
   "source": [
    "df_wfy2 = wodify_test.groupby(wodify_test['date'], as_index=False).aggregate('first')\n",
    "df_wfy2.loc[df_wfy2['date'] == '2023-01-10']"
   ]
  }
 ],
 "metadata": {
  "kernelspec": {
   "display_name": "Python 3 (ipykernel)",
   "language": "python",
   "name": "python3"
  },
  "language_info": {
   "codemirror_mode": {
    "name": "ipython",
    "version": 3
   },
   "file_extension": ".py",
   "mimetype": "text/x-python",
   "name": "python",
   "nbconvert_exporter": "python",
   "pygments_lexer": "ipython3",
   "version": "3.9.12"
  }
 },
 "nbformat": 4,
 "nbformat_minor": 5
}
